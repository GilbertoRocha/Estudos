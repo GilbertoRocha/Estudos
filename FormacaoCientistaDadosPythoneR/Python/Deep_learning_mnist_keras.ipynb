{
  "nbformat": 4,
  "nbformat_minor": 0,
  "metadata": {
    "colab": {
      "name": "Deep_learning_mnist_keras.ipynb",
      "provenance": [],
      "collapsed_sections": [],
      "authorship_tag": "ABX9TyMK0uPZTLf5h7Mxh9veqjYl",
      "include_colab_link": true
    },
    "kernelspec": {
      "name": "python3",
      "display_name": "Python 3"
    }
  },
  "cells": [
    {
      "cell_type": "markdown",
      "metadata": {
        "id": "view-in-github",
        "colab_type": "text"
      },
      "source": [
        "<a href=\"https://colab.research.google.com/github/GilbertoRocha/Estudos/blob/master/FormacaoCientistaDadosPythoneR/Python/Deep_learning_mnist_keras.ipynb\" target=\"_parent\"><img src=\"https://colab.research.google.com/assets/colab-badge.svg\" alt=\"Open In Colab\"/></a>"
      ]
    },
    {
      "cell_type": "code",
      "metadata": {
        "id": "PJqHW3HB9Pqc",
        "colab_type": "code",
        "colab": {}
      },
      "source": [
        "from sklearn import datasets\n",
        "from sklearn.model_selection import train_test_split\n",
        "from yellowbrick.classifier import ConfusionMatrix\n",
        "from sklearn.metrics import confusion_matrix\n",
        "import numpy as np\n",
        "from keras.models import Sequential\n",
        "from keras.layers import Dense, Dropout\n",
        "from keras.utils import np_utils\n",
        "from keras.datasets import mnist\n",
        "import matplotlib.pyplot as plt\n",
        "%matplotlib inline"
      ],
      "execution_count": 0,
      "outputs": []
    },
    {
      "cell_type": "code",
      "metadata": {
        "id": "f00KY8339pNC",
        "colab_type": "code",
        "colab": {
          "base_uri": "https://localhost:8080/",
          "height": 280
        },
        "outputId": "122923a8-e2ca-4949-cc33-7fc4ff5e2094"
      },
      "source": [
        "# divide a base\n",
        "(X_treinamento, y_treinamento), (X_teste, y_teste) = mnist.load_data()\n",
        "plt.imshow(X_treinamento[0])\n",
        "plt.title(y_treinamento[0])\n",
        "plt.show()"
      ],
      "execution_count": 11,
      "outputs": [
        {
          "output_type": "display_data",
          "data": {
            "image/png": "[encoded data removed]",
            "text/plain": [
              "<Figure size 432x288 with 1 Axes>"
            ]
          },
          "metadata": {
            "tags": []
          }
        }
      ]
    },
    {
      "cell_type": "code",
      "metadata": {
        "id": "h-ERI4jk-Uc_",
        "colab_type": "code",
        "colab": {
          "base_uri": "https://localhost:8080/",
          "height": 255
        },
        "outputId": "318125ec-3323-4150-8d63-4ec6575806e0"
      },
      "source": [
        "# reprocessamento\n",
        "\n",
        "# muda o formato dos dados, que estao em 28x28, e devem ficar \"planos\"\n",
        "# é usado o np.prod, pq ele faz a multiplicação dos parametros passados, como é passado a partir do index 1 do shape do dataset, ele faz 28 * 28\n",
        "X_treinamento = X_treinamento.reshape((len(X_treinamento), np.prod(X_treinamento.shape[1:])))\n",
        "print(X_treinamento)\n",
        "X_teste = X_teste.reshape((len(X_teste), np.prod(X_teste.shape[1:])))\n",
        "print(X_teste)\n",
        "\n",
        "# converte tudo para float, para fazer uma normalização dos dados\n",
        "X_treinamento = X_treinamento.astype('float32')\n",
        "X_teste = X_teste.astype('float32')\n",
        "\n",
        "# faz uma redução dos dados, para facilitar o processamento\n",
        "# dividindo por 255, que seria o valor maximo, entao fica com valores entre 0 e 1\n",
        "X_treinamento /= 255\n",
        "X_teste /= 255\n",
        "\n",
        "#criado a variavel dummy contendo as colunas pertinentes a cada digito (representando um  neuronio de saida de cada)\n",
        "# normalmente usada em problemas de classificacao de mais de 2 classes\n",
        "y_treinamento = np_utils.to_categorical(y_treinamento, 10)\n",
        "y_teste = np_utils.to_categorical(y_teste, 10)"
      ],
      "execution_count": 12,
      "outputs": [
        {
          "output_type": "stream",
          "text": [
            "[[0 0 0 ... 0 0 0]\n",
            " [0 0 0 ... 0 0 0]\n",
            " [0 0 0 ... 0 0 0]\n",
            " ...\n",
            " [0 0 0 ... 0 0 0]\n",
            " [0 0 0 ... 0 0 0]\n",
            " [0 0 0 ... 0 0 0]]\n",
            "[[0 0 0 ... 0 0 0]\n",
            " [0 0 0 ... 0 0 0]\n",
            " [0 0 0 ... 0 0 0]\n",
            " ...\n",
            " [0 0 0 ... 0 0 0]\n",
            " [0 0 0 ... 0 0 0]\n",
            " [0 0 0 ... 0 0 0]]\n"
          ],
          "name": "stdout"
        }
      ]
    },
    {
      "cell_type": "code",
      "metadata": {
        "id": "777jagMmB1x7",
        "colab_type": "code",
        "colab": {
          "base_uri": "https://localhost:8080/",
          "height": 408
        },
        "outputId": "86de29d1-fbe8-45d0-b5b6-9208548f0d74"
      },
      "source": [
        "# monta o modelo\n",
        "modelo = Sequential()\n",
        "# relu = retornao mesmo valor se positivo, ou zero se negativo, tendo bons resultados em processamento de imagens, input_dim = camada de entrada\n",
        "modelo.add(Dense(units=64, activation = 'relu', input_dim = 784))\n",
        "# camada de dropout, ou seja, zera alguns neuronios, para evitar o overfiting, com 0.2 zera 20%\n",
        "modelo.add(Dropout(0.2))\n",
        "# relu = retornao mesmo valor se positivo, ou zero se negativo, tendo bons resultados em processamento de imagens\n",
        "modelo.add(Dense(units=64, activation = 'relu'))\n",
        "# camada de dropout, ou seja, zera alguns neuronios, para evitar o overfiting, com 0.2 zera 20%\n",
        "modelo.add(Dropout(0.2))\n",
        "# camada de saida - softmax traz a probabilidade de ser de cada classe\n",
        "modelo.add(Dense(units = 10, activation = 'softmax'))\n",
        "\n",
        "modelo.summary()"
      ],
      "execution_count": 14,
      "outputs": [
        {
          "output_type": "stream",
          "text": [
            "WARNING:tensorflow:From /usr/local/lib/python3.6/dist-packages/keras/backend/tensorflow_backend.py:148: The name tf.placeholder_with_default is deprecated. Please use tf.compat.v1.placeholder_with_default instead.\n",
            "\n",
            "WARNING:tensorflow:From /usr/local/lib/python3.6/dist-packages/keras/backend/tensorflow_backend.py:3733: calling dropout (from tensorflow.python.ops.nn_ops) with keep_prob is deprecated and will be removed in a future version.\n",
            "Instructions for updating:\n",
            "Please use `rate` instead of `keep_prob`. Rate should be set to `rate = 1 - keep_prob`.\n",
            "Model: \"sequential_2\"\n",
            "_________________________________________________________________\n",
            "Layer (type)                 Output Shape              Param #   \n",
            "=================================================================\n",
            "dense_2 (Dense)              (None, 64)                50240     \n",
            "_________________________________________________________________\n",
            "dropout_1 (Dropout)          (None, 64)                0         \n",
            "_________________________________________________________________\n",
            "dense_3 (Dense)              (None, 64)                4160      \n",
            "_________________________________________________________________\n",
            "dropout_2 (Dropout)          (None, 64)                0         \n",
            "_________________________________________________________________\n",
            "dense_4 (Dense)              (None, 10)                650       \n",
            "=================================================================\n",
            "Total params: 55,050\n",
            "Trainable params: 55,050\n",
            "Non-trainable params: 0\n",
            "_________________________________________________________________\n"
          ],
          "name": "stdout"
        }
      ]
    },
    {
      "cell_type": "code",
      "metadata": {
        "id": "Wco_InM_C7Fp",
        "colab_type": "code",
        "colab": {
          "base_uri": "https://localhost:8080/",
          "height": 1000
        },
        "outputId": "2a6c9a03-fdc0-45d9-bca0-6a511e9d4e36"
      },
      "source": [
        "# parametriza o modelo\n",
        "# categorical_crossentropy indicado para varias classes\n",
        "modelo.compile(optimizer='adam', loss = 'categorical_crossentropy', metrics = ['accuracy'])\n",
        "\n",
        "historico = modelo.fit(X_treinamento, y_treinamento, epochs = 20, validation_data=(X_teste, y_teste))"
      ],
      "execution_count": 15,
      "outputs": [
        {
          "output_type": "stream",
          "text": [
            "WARNING:tensorflow:From /usr/local/lib/python3.6/dist-packages/keras/optimizers.py:793: The name tf.train.Optimizer is deprecated. Please use tf.compat.v1.train.Optimizer instead.\n",
            "\n",
            "WARNING:tensorflow:From /usr/local/lib/python3.6/dist-packages/keras/backend/tensorflow_backend.py:3576: The name tf.log is deprecated. Please use tf.math.log instead.\n",
            "\n",
            "WARNING:tensorflow:From /tensorflow-1.15.0/python3.6/tensorflow_core/python/ops/math_grad.py:1424: where (from tensorflow.python.ops.array_ops) is deprecated and will be removed in a future version.\n",
            "Instructions for updating:\n",
            "Use tf.where in 2.0, which has the same broadcast rule as np.where\n",
            "WARNING:tensorflow:From /usr/local/lib/python3.6/dist-packages/keras/backend/tensorflow_backend.py:1033: The name tf.assign_add is deprecated. Please use tf.compat.v1.assign_add instead.\n",
            "\n",
            "WARNING:tensorflow:From /usr/local/lib/python3.6/dist-packages/keras/backend/tensorflow_backend.py:1020: The name tf.assign is deprecated. Please use tf.compat.v1.assign instead.\n",
            "\n",
            "WARNING:tensorflow:From /usr/local/lib/python3.6/dist-packages/keras/backend/tensorflow_backend.py:3005: The name tf.Session is deprecated. Please use tf.compat.v1.Session instead.\n",
            "\n",
            "Train on 60000 samples, validate on 10000 samples\n",
            "Epoch 1/20\n",
            "WARNING:tensorflow:From /usr/local/lib/python3.6/dist-packages/keras/backend/tensorflow_backend.py:190: The name tf.get_default_session is deprecated. Please use tf.compat.v1.get_default_session instead.\n",
            "\n",
            "WARNING:tensorflow:From /usr/local/lib/python3.6/dist-packages/keras/backend/tensorflow_backend.py:197: The name tf.ConfigProto is deprecated. Please use tf.compat.v1.ConfigProto instead.\n",
            "\n",
            "WARNING:tensorflow:From /usr/local/lib/python3.6/dist-packages/keras/backend/tensorflow_backend.py:207: The name tf.global_variables is deprecated. Please use tf.compat.v1.global_variables instead.\n",
            "\n",
            "WARNING:tensorflow:From /usr/local/lib/python3.6/dist-packages/keras/backend/tensorflow_backend.py:216: The name tf.is_variable_initialized is deprecated. Please use tf.compat.v1.is_variable_initialized instead.\n",
            "\n",
            "WARNING:tensorflow:From /usr/local/lib/python3.6/dist-packages/keras/backend/tensorflow_backend.py:223: The name tf.variables_initializer is deprecated. Please use tf.compat.v1.variables_initializer instead.\n",
            "\n",
            "60000/60000 [==============================] - 4s 75us/step - loss: 0.4090 - acc: 0.8769 - val_loss: 0.1658 - val_acc: 0.9489\n",
            "Epoch 2/20\n",
            "60000/60000 [==============================] - 4s 63us/step - loss: 0.2138 - acc: 0.9355 - val_loss: 0.1275 - val_acc: 0.9608\n",
            "Epoch 3/20\n",
            "60000/60000 [==============================] - 4s 63us/step - loss: 0.1732 - acc: 0.9478 - val_loss: 0.1064 - val_acc: 0.9665\n",
            "Epoch 4/20\n",
            "60000/60000 [==============================] - 4s 63us/step - loss: 0.1526 - acc: 0.9528 - val_loss: 0.0967 - val_acc: 0.9708\n",
            "Epoch 5/20\n",
            "60000/60000 [==============================] - 4s 63us/step - loss: 0.1392 - acc: 0.9584 - val_loss: 0.0969 - val_acc: 0.9709\n",
            "Epoch 6/20\n",
            "60000/60000 [==============================] - 4s 63us/step - loss: 0.1272 - acc: 0.9613 - val_loss: 0.0919 - val_acc: 0.9717\n",
            "Epoch 7/20\n",
            "60000/60000 [==============================] - 4s 63us/step - loss: 0.1185 - acc: 0.9641 - val_loss: 0.0948 - val_acc: 0.9712\n",
            "Epoch 8/20\n",
            "60000/60000 [==============================] - 4s 63us/step - loss: 0.1112 - acc: 0.9654 - val_loss: 0.0878 - val_acc: 0.9744\n",
            "Epoch 9/20\n",
            "60000/60000 [==============================] - 4s 63us/step - loss: 0.1090 - acc: 0.9661 - val_loss: 0.0829 - val_acc: 0.9741\n",
            "Epoch 10/20\n",
            "60000/60000 [==============================] - 4s 64us/step - loss: 0.1076 - acc: 0.9661 - val_loss: 0.0858 - val_acc: 0.9757\n",
            "Epoch 11/20\n",
            "60000/60000 [==============================] - 4s 64us/step - loss: 0.0979 - acc: 0.9692 - val_loss: 0.0870 - val_acc: 0.9744\n",
            "Epoch 12/20\n",
            "60000/60000 [==============================] - 4s 64us/step - loss: 0.0975 - acc: 0.9696 - val_loss: 0.0829 - val_acc: 0.9754\n",
            "Epoch 13/20\n",
            "60000/60000 [==============================] - 4s 63us/step - loss: 0.0936 - acc: 0.9705 - val_loss: 0.0879 - val_acc: 0.9745\n",
            "Epoch 14/20\n",
            "60000/60000 [==============================] - 4s 63us/step - loss: 0.0895 - acc: 0.9714 - val_loss: 0.0835 - val_acc: 0.9759\n",
            "Epoch 15/20\n",
            "60000/60000 [==============================] - 4s 63us/step - loss: 0.0898 - acc: 0.9714 - val_loss: 0.0839 - val_acc: 0.9772\n",
            "Epoch 16/20\n",
            "60000/60000 [==============================] - 4s 62us/step - loss: 0.0875 - acc: 0.9720 - val_loss: 0.0902 - val_acc: 0.9751\n",
            "Epoch 17/20\n",
            "60000/60000 [==============================] - 4s 63us/step - loss: 0.0829 - acc: 0.9740 - val_loss: 0.0954 - val_acc: 0.9753\n",
            "Epoch 18/20\n",
            "60000/60000 [==============================] - 4s 63us/step - loss: 0.0820 - acc: 0.9739 - val_loss: 0.0838 - val_acc: 0.9767\n",
            "Epoch 19/20\n",
            "60000/60000 [==============================] - 4s 62us/step - loss: 0.0805 - acc: 0.9739 - val_loss: 0.0832 - val_acc: 0.9766\n",
            "Epoch 20/20\n",
            "60000/60000 [==============================] - 4s 62us/step - loss: 0.0786 - acc: 0.9750 - val_loss: 0.0862 - val_acc: 0.9765\n"
          ],
          "name": "stdout"
        }
      ]
    },
    {
      "cell_type": "code",
      "metadata": {
        "id": "XFfAQx8-EFbC",
        "colab_type": "code",
        "colab": {
          "base_uri": "https://localhost:8080/",
          "height": 282
        },
        "outputId": "75c9c191-001e-483e-d5f7-2ade778df257"
      },
      "source": [
        "print(historico.history.keys())\n",
        "plt.plot(historico.history['val_loss'], c='r')\n",
        "plt.show()"
      ],
      "execution_count": 21,
      "outputs": [
        {
          "output_type": "stream",
          "text": [
            "dict_keys(['val_loss', 'val_acc', 'loss', 'acc'])\n"
          ],
          "name": "stdout"
        },
        {
          "output_type": "display_data",
          "data": {
            "image/png": "[encoded data removed]",
            "text/plain": [
              "<Figure size 432x288 with 1 Axes>"
            ]
          },
          "metadata": {
            "tags": []
          }
        }
      ]
    },
    {
      "cell_type": "code",
      "metadata": {
        "id": "KFfqzDt2FK_Q",
        "colab_type": "code",
        "colab": {
          "base_uri": "https://localhost:8080/",
          "height": 187
        },
        "outputId": "f2b96096-0aa6-4649-aa3c-4e43b9b8c863"
      },
      "source": [
        "# previsoes\n",
        "previsoes = modelo.predict(X_teste)\n",
        "\n",
        "# converte o resultado em 1 classe\n",
        "y_teste_matriz = [np.argmax(t) for t in y_teste]\n",
        "y_previsoes_matriz = [np.argmax(t) for t in previsoes]\n",
        "\n",
        "confusao = confusion_matrix(y_teste_matriz, y_previsoes_matriz)\n",
        "print(confusao)"
      ],
      "execution_count": 23,
      "outputs": [
        {
          "output_type": "stream",
          "text": [
            "[[ 967    1    1    1    0    1    6    1    2    0]\n",
            " [   0 1121    2    2    0    0    4    0    4    2]\n",
            " [   3    0 1006    7    3    0    2    5    6    0]\n",
            " [   0    0    2  993    0    5    0    5    3    2]\n",
            " [   0    0    2    0  959    0    9    2    1    9]\n",
            " [   2    0    0    8    1  867    8    1    3    2]\n",
            " [   4    3    0    1    1    4  942    0    3    0]\n",
            " [   1    9    9    0    4    0    0  995    0   10]\n",
            " [   5    3    2    7    4    4    2    4  940    3]\n",
            " [   1    3    0    6   12    4    1    4    3  975]]\n"
          ],
          "name": "stdout"
        }
      ]
    },
    {
      "cell_type": "code",
      "metadata": {
        "id": "R4kFqWtvF-Gy",
        "colab_type": "code",
        "colab": {
          "base_uri": "https://localhost:8080/",
          "height": 51
        },
        "outputId": "8e617e0b-d2af-44c7-9ceb-443121dfdbf8"
      },
      "source": [
        "# prevendo um digito especifico\n",
        "novo = X_treinamento[20]\n",
        "# converte do formato 28x28 para apenas 784\n",
        "novo = np.expand_dims(novo, axis = 0)\n",
        "\n",
        "pred = modelo.predict(novo)\n",
        "print(pred)"
      ],
      "execution_count": 24,
      "outputs": [
        {
          "output_type": "stream",
          "text": [
            "[[1.2296895e-12 3.4224631e-10 1.8570674e-07 7.5032052e-09 9.9999976e-01\n",
            "  2.6214033e-09 1.8840447e-11 1.7359696e-09 1.0627522e-10 3.9316532e-08]]\n"
          ],
          "name": "stdout"
        }
      ]
    }
  ]
}