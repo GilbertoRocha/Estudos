{
  "nbformat": 4,
  "nbformat_minor": 0,
  "metadata": {
    "colab": {
      "name": "Regressao_linear_multipla.ipynb",
      "provenance": [],
      "collapsed_sections": [],
      "authorship_tag": "ABX9TyNambgBg+ZAnvPpgQGfw7r8",
      "include_colab_link": true
    },
    "kernelspec": {
      "name": "python3",
      "display_name": "Python 3"
    }
  },
  "cells": [
    {
      "cell_type": "markdown",
      "metadata": {
        "id": "view-in-github",
        "colab_type": "text"
      },
      "source": [
        "<a href=\"https://colab.research.google.com/github/GilbertoRocha/Estudos/blob/master/FormacaoCientistaDadosPythoneR/Python/Regressao_linear_multipla.ipynb\" target=\"_parent\"><img src=\"https://colab.research.google.com/assets/colab-badge.svg\" alt=\"Open In Colab\"/></a>"
      ]
    },
    {
      "cell_type": "markdown",
      "metadata": {
        "id": "HfL-zj35SHTx",
        "colab_type": "text"
      },
      "source": [
        "**Regressão linear multipla.**\n",
        "\n",
        "Utiliza varias variaveis explanatórias para explicar uma variável dependente.\n",
        "\n",
        "Linearidade entre as variaveis explanatórias e a variavel dependente\n",
        "\n",
        "As variaveis sejam normalmente distribuidas\n",
        "\n",
        "Pouca ou nenhuma colinearidade, ou seja, duas variáveis explanatórias que são correlacionadas entre si, prejudicando o modelo.\n",
        "\n",
        "Analisar cada variavel explanatoria individualmente com Y (variavel dependente).\n",
        "Gerar graficos de dispersão individuais, para visualizar a correlacao.\n",
        "\n",
        "Buscar reduzir as redundâncias, ou seja, se existe duas variavies explanatorias que possuem o mesmo efeito sobre y, então é possivel desconsiderar uma delas, para não prejudicar o modelo por conta da complexidade.\n",
        "\n",
        "\n",
        "Atenção ao Coeficiente de Determinação (R²).\n",
        "Ele é usado para indicar o quanto do modelo está sendo \"Explicado\" pela variavel testada. Mas na regressão multipla, esse valor poderá ser mais alto do que o esperado, pois o R² será maior, mas de fato a adição de variáveis pode deixar o modelo complexo e de menor precisão.\n",
        "\n",
        "\n",
        "Para isso deve-se usasr o \"R² ajustado\", que se comporta de acordo com a adição de variáveis, sendo mais preciso.\n",
        "\n",
        "O R² ajustado sempre será menor que o R² linear simples\n",
        "\n",
        "Cuidar com a parcimônia, ou seja, adicionar variáveis que não melhorem o modelo.\n",
        "\n",
        "\n",
        "\n",
        "**O residuais**\n",
        "\n",
        "Devem ficar proximos a distribuição normal.\n",
        "\n",
        "Variância constante em relação a linha de melhor ajuste (não ficando espalhados pelo grafico).\n",
        "\n",
        "Independentes entre sim, sem padrão"
      ]
    },
    {
      "cell_type": "code",
      "metadata": {
        "id": "kb33S4icSB0j",
        "colab_type": "code",
        "colab": {}
      },
      "source": [
        "# bibliotecas\n",
        "import pandas as pd\n",
        "import numpy as np\n",
        "import matplotlib.pyplot as plt\n",
        "%matplotlib inline\n",
        "from sklearn.linear_model import LinearRegression\n",
        "# serve para escrever alguns calculos como se fosse no R\n",
        "import statsmodels.formula.api as sm "
      ],
      "execution_count": 0,
      "outputs": []
    },
    {
      "cell_type": "code",
      "metadata": {
        "id": "aXug3pyHkN1s",
        "colab_type": "code",
        "outputId": "7aad645f-8efd-4515-eae4-9dcdc8371749",
        "colab": {
          "base_uri": "https://localhost:8080/",
          "height": 195
        }
      },
      "source": [
        "# criando as variaveis para simular o carregamento do csv, que atualemnte nao e possivel sem vincular o drive\n",
        "carga_mpg = [21, 21, 22.8, 21.4, 18.7, 18.1, 14.3, 24.4, 22.8, 19.2, 17.8, 16.4, 17.3, 15.2, 10.4, 10.4, 14.7, 32.4, 30.4, 33.9, 21.5, 15.5, 15.2, 13.3, 19.2, 27.3, 26, 30.4, 15.8, 19.7, 15, 21.4]\n",
        "carga_cyl = [6, 6, 4, 6, 8, 6, 8, 4, 4, 6, 6, 8, 8, 8, 8, 8, 8, 4, 4, 4, 4, 8, 8, 8, 8, 4, 4, 4, 8, 6, 8, 4]\n",
        "carga_disp = [160, 160, 108, 258, 360, 225, 360, 146.7, 140.8, 167.6, 167.6, 275.8, 275.8, 275.8, 472, 460, 440, 78.7, 75.7, 71.1, 120.1, 318, 304, 350, 400, 79, 120.3, 95.1, 351, 145, 301, 121]\n",
        "carga_hp = [110, 110, 93, 110, 175, 105, 245, 62, 95, 123, 123, 180, 180, 180, 205, 215, 230, 66, 52, 65, 97, 150, 150, 245, 175, 66, 91, 113, 264, 175, 335, 109]\n",
        "# carrega a base\n",
        "base = pd.DataFrame(data=list(zip(carga_mpg, carga_cyl, carga_disp, carga_hp)), columns=[\"mpg\", \"cyl\", \"disp\", \"hp\"])\n",
        "base.head()"
      ],
      "execution_count": 19,
      "outputs": [
        {
          "output_type": "execute_result",
          "data": {
            "text/html": [
              "<div>\n",
              "<style scoped>\n",
              "    .dataframe tbody tr th:only-of-type {\n",
              "        vertical-align: middle;\n",
              "    }\n",
              "\n",
              "    .dataframe tbody tr th {\n",
              "        vertical-align: top;\n",
              "    }\n",
              "\n",
              "    .dataframe thead th {\n",
              "        text-align: right;\n",
              "    }\n",
              "</style>\n",
              "<table border=\"1\" class=\"dataframe\">\n",
              "  <thead>\n",
              "    <tr style=\"text-align: right;\">\n",
              "      <th></th>\n",
              "      <th>mpg</th>\n",
              "      <th>cyl</th>\n",
              "      <th>disp</th>\n",
              "      <th>hp</th>\n",
              "    </tr>\n",
              "  </thead>\n",
              "  <tbody>\n",
              "    <tr>\n",
              "      <th>0</th>\n",
              "      <td>21.0</td>\n",
              "      <td>6</td>\n",
              "      <td>160.0</td>\n",
              "      <td>110</td>\n",
              "    </tr>\n",
              "    <tr>\n",
              "      <th>1</th>\n",
              "      <td>21.0</td>\n",
              "      <td>6</td>\n",
              "      <td>160.0</td>\n",
              "      <td>110</td>\n",
              "    </tr>\n",
              "    <tr>\n",
              "      <th>2</th>\n",
              "      <td>22.8</td>\n",
              "      <td>4</td>\n",
              "      <td>108.0</td>\n",
              "      <td>93</td>\n",
              "    </tr>\n",
              "    <tr>\n",
              "      <th>3</th>\n",
              "      <td>21.4</td>\n",
              "      <td>6</td>\n",
              "      <td>258.0</td>\n",
              "      <td>110</td>\n",
              "    </tr>\n",
              "    <tr>\n",
              "      <th>4</th>\n",
              "      <td>18.7</td>\n",
              "      <td>8</td>\n",
              "      <td>360.0</td>\n",
              "      <td>175</td>\n",
              "    </tr>\n",
              "  </tbody>\n",
              "</table>\n",
              "</div>"
            ],
            "text/plain": [
              "    mpg  cyl   disp   hp\n",
              "0  21.0    6  160.0  110\n",
              "1  21.0    6  160.0  110\n",
              "2  22.8    4  108.0   93\n",
              "3  21.4    6  258.0  110\n",
              "4  18.7    8  360.0  175"
            ]
          },
          "metadata": {
            "tags": []
          },
          "execution_count": 19
        }
      ]
    },
    {
      "cell_type": "code",
      "metadata": {
        "id": "0o8gej5wm63k",
        "colab_type": "code",
        "outputId": "385c3e1f-94b9-456a-c095-f3bf7a5db0c9",
        "colab": {
          "base_uri": "https://localhost:8080/",
          "height": 50
        }
      },
      "source": [
        "# regressão simples entre consulo (mpg) e disp\n",
        "X = base.iloc[:, 2].values\n",
        "y = base.iloc[:, 0].values\n",
        "\n",
        "# verifica a correlacao\n",
        "correlacao = np.corrcoef(X, y)\n",
        "print(correlacao)"
      ],
      "execution_count": 3,
      "outputs": [
        {
          "output_type": "stream",
          "text": [
            "[[ 1.         -0.84755138]\n",
            " [-0.84755138  1.        ]]\n"
          ],
          "name": "stdout"
        }
      ]
    },
    {
      "cell_type": "code",
      "metadata": {
        "id": "FLTTj1yljg-6",
        "colab_type": "code",
        "colab": {}
      },
      "source": [
        "# altera o formato para a biblioteca\n",
        "X = X.reshape(-1, 1)"
      ],
      "execution_count": 0,
      "outputs": []
    },
    {
      "cell_type": "code",
      "metadata": {
        "id": "FYnDNi-Qjp4f",
        "colab_type": "code",
        "colab": {
          "base_uri": "https://localhost:8080/",
          "height": 50
        },
        "outputId": "8ab425e9-3cf2-4e23-9b54-9cf604c5bb4d"
      },
      "source": [
        "# modelo para regressao simples\n",
        "modelo = LinearRegression()\n",
        "modelo.fit(X, y)\n",
        "print(modelo.intercept_)\n",
        "print(modelo.coef_)"
      ],
      "execution_count": 6,
      "outputs": [
        {
          "output_type": "stream",
          "text": [
            "29.599854756163946\n",
            "[-0.04121512]\n"
          ],
          "name": "stdout"
        }
      ]
    },
    {
      "cell_type": "code",
      "metadata": {
        "id": "VjfO91myj9HI",
        "colab_type": "code",
        "colab": {
          "base_uri": "https://localhost:8080/",
          "height": 34
        },
        "outputId": "b0d8ab30-9a5f-4de7-9202-8e23d9baa579"
      },
      "source": [
        "# visualizando o coeficiente de determinacao\n",
        "print(modelo.score(X, y))"
      ],
      "execution_count": 7,
      "outputs": [
        {
          "output_type": "stream",
          "text": [
            "0.7183433404897299\n"
          ],
          "name": "stdout"
        }
      ]
    },
    {
      "cell_type": "code",
      "metadata": {
        "id": "XNVCMkG_kGzg",
        "colab_type": "code",
        "colab": {
          "base_uri": "https://localhost:8080/",
          "height": 426
        },
        "outputId": "ae916c95-d521-478d-e032-bde7654d5814"
      },
      "source": [
        "# Para visualizar o coeficiente de determinacao ajustado, sendo o mais indicado para regressão multipla\n",
        "# tem que fazer um codigo adicional, atualmente nao tem ese recurso no sklearn\n",
        "\n",
        "# usa o proprio X para prever (sim, mesmo que ele foi usado em treinamento, se quer ver os dados do que foi treinado)\n",
        "previsoes = modelo.predict(X)\n",
        "# treina o modelo como se fosse no R\n",
        "modelo_ajustado = sm.ols(formula='mpg ~ disp', data=base)\n",
        "modelo_treinado = modelo_ajustado.fit()\n",
        "modelo_treinado.summary()\n"
      ],
      "execution_count": 11,
      "outputs": [
        {
          "output_type": "execute_result",
          "data": {
            "text/html": [
              "<table class=\"simpletable\">\n",
              "<caption>OLS Regression Results</caption>\n",
              "<tr>\n",
              "  <th>Dep. Variable:</th>           <td>mpg</td>       <th>  R-squared:         </th> <td>   0.718</td>\n",
              "</tr>\n",
              "<tr>\n",
              "  <th>Model:</th>                   <td>OLS</td>       <th>  Adj. R-squared:    </th> <td>   0.709</td>\n",
              "</tr>\n",
              "<tr>\n",
              "  <th>Method:</th>             <td>Least Squares</td>  <th>  F-statistic:       </th> <td>   76.51</td>\n",
              "</tr>\n",
              "<tr>\n",
              "  <th>Date:</th>             <td>Tue, 17 Mar 2020</td> <th>  Prob (F-statistic):</th> <td>9.38e-10</td>\n",
              "</tr>\n",
              "<tr>\n",
              "  <th>Time:</th>                 <td>08:22:10</td>     <th>  Log-Likelihood:    </th> <td> -82.105</td>\n",
              "</tr>\n",
              "<tr>\n",
              "  <th>No. Observations:</th>      <td>    32</td>      <th>  AIC:               </th> <td>   168.2</td>\n",
              "</tr>\n",
              "<tr>\n",
              "  <th>Df Residuals:</th>          <td>    30</td>      <th>  BIC:               </th> <td>   171.1</td>\n",
              "</tr>\n",
              "<tr>\n",
              "  <th>Df Model:</th>              <td>     1</td>      <th>                     </th>     <td> </td>   \n",
              "</tr>\n",
              "<tr>\n",
              "  <th>Covariance Type:</th>      <td>nonrobust</td>    <th>                     </th>     <td> </td>   \n",
              "</tr>\n",
              "</table>\n",
              "<table class=\"simpletable\">\n",
              "<tr>\n",
              "      <td></td>         <th>coef</th>     <th>std err</th>      <th>t</th>      <th>P>|t|</th>  <th>[0.025</th>    <th>0.975]</th>  \n",
              "</tr>\n",
              "<tr>\n",
              "  <th>Intercept</th> <td>   29.5999</td> <td>    1.230</td> <td>   24.070</td> <td> 0.000</td> <td>   27.088</td> <td>   32.111</td>\n",
              "</tr>\n",
              "<tr>\n",
              "  <th>disp</th>      <td>   -0.0412</td> <td>    0.005</td> <td>   -8.747</td> <td> 0.000</td> <td>   -0.051</td> <td>   -0.032</td>\n",
              "</tr>\n",
              "</table>\n",
              "<table class=\"simpletable\">\n",
              "<tr>\n",
              "  <th>Omnibus:</th>       <td> 3.368</td> <th>  Durbin-Watson:     </th> <td>   1.250</td>\n",
              "</tr>\n",
              "<tr>\n",
              "  <th>Prob(Omnibus):</th> <td> 0.186</td> <th>  Jarque-Bera (JB):  </th> <td>   3.049</td>\n",
              "</tr>\n",
              "<tr>\n",
              "  <th>Skew:</th>          <td> 0.719</td> <th>  Prob(JB):          </th> <td>   0.218</td>\n",
              "</tr>\n",
              "<tr>\n",
              "  <th>Kurtosis:</th>      <td> 2.532</td> <th>  Cond. No.          </th> <td>    558.</td>\n",
              "</tr>\n",
              "</table><br/><br/>Warnings:<br/>[1] Standard Errors assume that the covariance matrix of the errors is correctly specified."
            ],
            "text/plain": [
              "<class 'statsmodels.iolib.summary.Summary'>\n",
              "\"\"\"\n",
              "                            OLS Regression Results                            \n",
              "==============================================================================\n",
              "Dep. Variable:                    mpg   R-squared:                       0.718\n",
              "Model:                            OLS   Adj. R-squared:                  0.709\n",
              "Method:                 Least Squares   F-statistic:                     76.51\n",
              "Date:                Tue, 17 Mar 2020   Prob (F-statistic):           9.38e-10\n",
              "Time:                        08:22:10   Log-Likelihood:                -82.105\n",
              "No. Observations:                  32   AIC:                             168.2\n",
              "Df Residuals:                      30   BIC:                             171.1\n",
              "Df Model:                           1                                         \n",
              "Covariance Type:            nonrobust                                         \n",
              "==============================================================================\n",
              "                 coef    std err          t      P>|t|      [0.025      0.975]\n",
              "------------------------------------------------------------------------------\n",
              "Intercept     29.5999      1.230     24.070      0.000      27.088      32.111\n",
              "disp          -0.0412      0.005     -8.747      0.000      -0.051      -0.032\n",
              "==============================================================================\n",
              "Omnibus:                        3.368   Durbin-Watson:                   1.250\n",
              "Prob(Omnibus):                  0.186   Jarque-Bera (JB):                3.049\n",
              "Skew:                           0.719   Prob(JB):                        0.218\n",
              "Kurtosis:                       2.532   Cond. No.                         558.\n",
              "==============================================================================\n",
              "\n",
              "Warnings:\n",
              "[1] Standard Errors assume that the covariance matrix of the errors is correctly specified.\n",
              "\"\"\""
            ]
          },
          "metadata": {
            "tags": []
          },
          "execution_count": 11
        }
      ]
    },
    {
      "cell_type": "code",
      "metadata": {
        "id": "CzSKvbrsmPeZ",
        "colab_type": "code",
        "colab": {
          "base_uri": "https://localhost:8080/",
          "height": 286
        },
        "outputId": "fd91307b-6663-4d3d-9c80-6b09b3693ae1"
      },
      "source": [
        "# Visualizando os graficos\n",
        "plt.scatter(X, y)\n",
        "plt.plot(X, previsoes, color='r')\n",
        "plt.show()"
      ],
      "execution_count": 12,
      "outputs": [
        {
          "output_type": "execute_result",
          "data": {
            "text/plain": [
              "[<matplotlib.lines.Line2D at 0x7f7e2c561240>]"
            ]
          },
          "metadata": {
            "tags": []
          },
          "execution_count": 12
        },
        {
          "output_type": "display_data",
          "data": {
            "image/png": "[encoded data removed]",
            "text/plain": [
              "<Figure size 432x288 with 1 Axes>"
            ]
          },
          "metadata": {
            "tags": []
          }
        }
      ]
    },
    {
      "cell_type": "code",
      "metadata": {
        "id": "vKzqxEFmnKcf",
        "colab_type": "code",
        "colab": {
          "base_uri": "https://localhost:8080/",
          "height": 34
        },
        "outputId": "da6ac365-5369-44db-af5f-297b00f69334"
      },
      "source": [
        "# fazendo agora a regressão multipla\n",
        "\n",
        "X1 = base.iloc[:, 1:4].values\n",
        "y1 = base.iloc[:, 0].values\n",
        "modelo2 = LinearRegression()\n",
        "modelo2.fit(X1, y1)"
      ],
      "execution_count": 35,
      "outputs": [
        {
          "output_type": "execute_result",
          "data": {
            "text/plain": [
              "LinearRegression(copy_X=True, fit_intercept=True, n_jobs=None, normalize=False)"
            ]
          },
          "metadata": {
            "tags": []
          },
          "execution_count": 35
        }
      ]
    },
    {
      "cell_type": "code",
      "metadata": {
        "id": "y_mDRcQEngcg",
        "colab_type": "code",
        "colab": {
          "base_uri": "https://localhost:8080/",
          "height": 34
        },
        "outputId": "ffea1a0c-ba35-458e-cb0b-1946af930359"
      },
      "source": [
        "# coeficiente de determinacao\n",
        "print(modelo2.score(X1, y1))"
      ],
      "execution_count": 36,
      "outputs": [
        {
          "output_type": "stream",
          "text": [
            "0.7678877440928638\n"
          ],
          "name": "stdout"
        }
      ]
    },
    {
      "cell_type": "code",
      "metadata": {
        "id": "n2ucaXcDnph3",
        "colab_type": "code",
        "colab": {
          "base_uri": "https://localhost:8080/",
          "height": 499
        },
        "outputId": "c50c4f88-7032-4b6b-bb31-b929ed3780a2"
      },
      "source": [
        "# coeficiente de determinacao ajustado\n",
        "modelo_ajustado2 = sm.ols(formula = 'mpg ~ cyl + disp + hp', data = base)\n",
        "modelo_treinado2 = modelo_ajustado2.fit()\n",
        "modelo_treinado2.summary()"
      ],
      "execution_count": 39,
      "outputs": [
        {
          "output_type": "execute_result",
          "data": {
            "text/html": [
              "<table class=\"simpletable\">\n",
              "<caption>OLS Regression Results</caption>\n",
              "<tr>\n",
              "  <th>Dep. Variable:</th>           <td>mpg</td>       <th>  R-squared:         </th> <td>   0.768</td>\n",
              "</tr>\n",
              "<tr>\n",
              "  <th>Model:</th>                   <td>OLS</td>       <th>  Adj. R-squared:    </th> <td>   0.743</td>\n",
              "</tr>\n",
              "<tr>\n",
              "  <th>Method:</th>             <td>Least Squares</td>  <th>  F-statistic:       </th> <td>   30.88</td>\n",
              "</tr>\n",
              "<tr>\n",
              "  <th>Date:</th>             <td>Tue, 17 Mar 2020</td> <th>  Prob (F-statistic):</th> <td>5.05e-09</td>\n",
              "</tr>\n",
              "<tr>\n",
              "  <th>Time:</th>                 <td>08:55:31</td>     <th>  Log-Likelihood:    </th> <td> -79.009</td>\n",
              "</tr>\n",
              "<tr>\n",
              "  <th>No. Observations:</th>      <td>    32</td>      <th>  AIC:               </th> <td>   166.0</td>\n",
              "</tr>\n",
              "<tr>\n",
              "  <th>Df Residuals:</th>          <td>    28</td>      <th>  BIC:               </th> <td>   171.9</td>\n",
              "</tr>\n",
              "<tr>\n",
              "  <th>Df Model:</th>              <td>     3</td>      <th>                     </th>     <td> </td>   \n",
              "</tr>\n",
              "<tr>\n",
              "  <th>Covariance Type:</th>      <td>nonrobust</td>    <th>                     </th>     <td> </td>   \n",
              "</tr>\n",
              "</table>\n",
              "<table class=\"simpletable\">\n",
              "<tr>\n",
              "      <td></td>         <th>coef</th>     <th>std err</th>      <th>t</th>      <th>P>|t|</th>  <th>[0.025</th>    <th>0.975]</th>  \n",
              "</tr>\n",
              "<tr>\n",
              "  <th>Intercept</th> <td>   34.1849</td> <td>    2.591</td> <td>   13.195</td> <td> 0.000</td> <td>   28.878</td> <td>   39.492</td>\n",
              "</tr>\n",
              "<tr>\n",
              "  <th>cyl</th>       <td>   -1.2274</td> <td>    0.797</td> <td>   -1.540</td> <td> 0.135</td> <td>   -2.861</td> <td>    0.406</td>\n",
              "</tr>\n",
              "<tr>\n",
              "  <th>disp</th>      <td>   -0.0188</td> <td>    0.010</td> <td>   -1.811</td> <td> 0.081</td> <td>   -0.040</td> <td>    0.002</td>\n",
              "</tr>\n",
              "<tr>\n",
              "  <th>hp</th>        <td>   -0.0147</td> <td>    0.015</td> <td>   -1.002</td> <td> 0.325</td> <td>   -0.045</td> <td>    0.015</td>\n",
              "</tr>\n",
              "</table>\n",
              "<table class=\"simpletable\">\n",
              "<tr>\n",
              "  <th>Omnibus:</th>       <td> 2.942</td> <th>  Durbin-Watson:     </th> <td>   1.606</td>\n",
              "</tr>\n",
              "<tr>\n",
              "  <th>Prob(Omnibus):</th> <td> 0.230</td> <th>  Jarque-Bera (JB):  </th> <td>   2.558</td>\n",
              "</tr>\n",
              "<tr>\n",
              "  <th>Skew:</th>          <td> 0.675</td> <th>  Prob(JB):          </th> <td>   0.278</td>\n",
              "</tr>\n",
              "<tr>\n",
              "  <th>Kurtosis:</th>      <td> 2.692</td> <th>  Cond. No.          </th> <td>1.51e+03</td>\n",
              "</tr>\n",
              "</table><br/><br/>Warnings:<br/>[1] Standard Errors assume that the covariance matrix of the errors is correctly specified.<br/>[2] The condition number is large, 1.51e+03. This might indicate that there are<br/>strong multicollinearity or other numerical problems."
            ],
            "text/plain": [
              "<class 'statsmodels.iolib.summary.Summary'>\n",
              "\"\"\"\n",
              "                            OLS Regression Results                            \n",
              "==============================================================================\n",
              "Dep. Variable:                    mpg   R-squared:                       0.768\n",
              "Model:                            OLS   Adj. R-squared:                  0.743\n",
              "Method:                 Least Squares   F-statistic:                     30.88\n",
              "Date:                Tue, 17 Mar 2020   Prob (F-statistic):           5.05e-09\n",
              "Time:                        08:55:31   Log-Likelihood:                -79.009\n",
              "No. Observations:                  32   AIC:                             166.0\n",
              "Df Residuals:                      28   BIC:                             171.9\n",
              "Df Model:                           3                                         \n",
              "Covariance Type:            nonrobust                                         \n",
              "==============================================================================\n",
              "                 coef    std err          t      P>|t|      [0.025      0.975]\n",
              "------------------------------------------------------------------------------\n",
              "Intercept     34.1849      2.591     13.195      0.000      28.878      39.492\n",
              "cyl           -1.2274      0.797     -1.540      0.135      -2.861       0.406\n",
              "disp          -0.0188      0.010     -1.811      0.081      -0.040       0.002\n",
              "hp            -0.0147      0.015     -1.002      0.325      -0.045       0.015\n",
              "==============================================================================\n",
              "Omnibus:                        2.942   Durbin-Watson:                   1.606\n",
              "Prob(Omnibus):                  0.230   Jarque-Bera (JB):                2.558\n",
              "Skew:                           0.675   Prob(JB):                        0.278\n",
              "Kurtosis:                       2.692   Cond. No.                     1.51e+03\n",
              "==============================================================================\n",
              "\n",
              "Warnings:\n",
              "[1] Standard Errors assume that the covariance matrix of the errors is correctly specified.\n",
              "[2] The condition number is large, 1.51e+03. This might indicate that there are\n",
              "strong multicollinearity or other numerical problems.\n",
              "\"\"\""
            ]
          },
          "metadata": {
            "tags": []
          },
          "execution_count": 39
        }
      ]
    },
    {
      "cell_type": "code",
      "metadata": {
        "id": "v7ZWxpW3pulJ",
        "colab_type": "code",
        "colab": {
          "base_uri": "https://localhost:8080/",
          "height": 50
        },
        "outputId": "22567895-c6a4-4f11-d006-e3abbe8280fc"
      },
      "source": [
        "# fazendo uma previsao\n",
        "novo = np.array([4, 200, 100])\n",
        "# muda o formato\n",
        "novo = novo.reshape(1,-1)\n",
        "modelo2.predict(novo)"
      ],
      "execution_count": 40,
      "outputs": [
        {
          "output_type": "stream",
          "text": [
            "[[  4 200 100]]\n"
          ],
          "name": "stdout"
        },
        {
          "output_type": "execute_result",
          "data": {
            "text/plain": [
              "array([24.03968887])"
            ]
          },
          "metadata": {
            "tags": []
          },
          "execution_count": 40
        }
      ]
    }
  ]
}