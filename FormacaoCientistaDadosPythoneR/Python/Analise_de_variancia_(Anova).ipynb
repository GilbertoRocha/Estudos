{
  "nbformat": 4,
  "nbformat_minor": 0,
  "metadata": {
    "colab": {
      "name": "Analise_de_variancia_(Anova).ipynb",
      "provenance": [],
      "collapsed_sections": [],
      "authorship_tag": "ABX9TyNpNQ2PPGEaI2/Fej4WAx02",
      "include_colab_link": true
    },
    "kernelspec": {
      "name": "python3",
      "display_name": "Python 3"
    }
  },
  "cells": [
    {
      "cell_type": "markdown",
      "metadata": {
        "id": "view-in-github",
        "colab_type": "text"
      },
      "source": [
        "<a href=\"https://colab.research.google.com/github/GilbertoRocha/Estudos/blob/master/FormacaoCientistaDadosPythoneR/Python/Analise_de_variancia_(Anova).ipynb\" target=\"_parent\"><img src=\"https://colab.research.google.com/assets/colab-badge.svg\" alt=\"Open In Colab\"/></a>"
      ]
    },
    {
      "cell_type": "markdown",
      "metadata": {
        "id": "jipRbb1MSROy",
        "colab_type": "text"
      },
      "source": [
        "Teste de Anova ou chamado de analise de variância\n",
        "\n",
        "Serve para realizar testes de hipoteses\n",
        "\n",
        "Usada para comparar os dados de três ou mais grupos\n",
        "\n",
        "Possui uma variável quantitativa e uma ou mais categóricas\n",
        "\n",
        "Ao invés se comparar os \"pares\" do grupo, esse teste fica \"observando\" todos os grupos do dataset\n",
        "\n",
        "Busca a variação entre os grupos comparado com a variação \"dentro do grupo\".\n",
        "Isso ajuda a ignorar \"o acaso\" dentro de cada grupo, e passa a observar a variação entre os grupos apenas.\n",
        "\n",
        "Teste de hipotese exemplar: Comparaçao do tempo de efeito de três remedios, em varias pessoas\n",
        "\n",
        "H0 (hipotese nula): Não há diferença significativa no tempo de cura entre as diferentes marcas de remédios.\n",
        "\n",
        "Ha (hipotese alternativa): existe uma diferença significativa no tempo de cura entre as diferentes marcas de remédios.\n",
        "\n",
        "\n",
        "\n",
        "Nesse caso como tem varias comparações por causa de posusir três grupos, não é indicado usar a T de Student, pois varias comparações induzem ao erro do tipo 1\n",
        "\n",
        "\n",
        "Formula:\n",
        "$F(X,Y)$\n",
        "\n",
        "Aonde:\n",
        "\n",
        "$X$ é o grau de liberdade (numero de grupos -1)\n",
        "\n",
        "$Y$ é o grau de liberdade no denominador (numero de observações - numero de grupos)\n",
        "\n",
        "\n",
        "$H0$ é a hipotese nula, no exemplo não á variação significativa entre os grupos\n",
        "\n",
        "$Valor-p < alfa$ significa que existe variação entre os grupos\n",
        "\n",
        "\n",
        "\n",
        "Agora se tiver mais de um fator, neste caso, tres remedios, e as observações são separadas também entre homens e mulheres. Neste caso é recomendado o chamado \"teste de Tukey\"\n",
        "\n"
      ]
    },
    {
      "cell_type": "code",
      "metadata": {
        "id": "9xQIRfEWdWX4",
        "colab_type": "code",
        "colab": {}
      },
      "source": [
        "# bibliotecas\n",
        "import pandas as pd\n",
        "from scipy import stats\n",
        "import statsmodels.api as sm\n",
        "from statsmodels.formula.api import ols\n",
        "from statsmodels.stats.multicomp import MultiComparison\n",
        "import matplotlib.pyplot as plt\n",
        "%matplotlib inline\n",
        "from io import StringIO"
      ],
      "execution_count": 0,
      "outputs": []
    },
    {
      "cell_type": "code",
      "metadata": {
        "id": "mhs2HZ-PSOJC",
        "colab_type": "code",
        "colab": {
          "base_uri": "https://localhost:8080/",
          "height": 195
        },
        "outputId": "a79069cc-357a-42d1-9332-2545ace1f804"
      },
      "source": [
        "# simula a leitura de um csv\n",
        "arq = StringIO(\"\"\"Sexo;Remedio;Horas\n",
        "F;A;5\n",
        "F;A;10\n",
        "F;A;7\n",
        "F;A;7\n",
        "M;A;7\n",
        "M;A;6\n",
        "M;A;9\n",
        "M;A;9\n",
        "F;B;5\n",
        "F;B;5\n",
        "F;B;5\n",
        "F;B;8\n",
        "M;B;7\n",
        "M;B;8\n",
        "M;B;10\n",
        "M;B;7\n",
        "F;C;10\n",
        "F;C;10\n",
        "F;C;6\n",
        "F;C;6\n",
        "M;C;10\n",
        "M;C;6\n",
        "M;C;10\n",
        "M;C;5\"\"\")\n",
        "\n",
        "tratamento = pd.read_csv(arq, sep=';')\n",
        "tratamento.head()"
      ],
      "execution_count": 3,
      "outputs": [
        {
          "output_type": "execute_result",
          "data": {
            "text/html": [
              "<div>\n",
              "<style scoped>\n",
              "    .dataframe tbody tr th:only-of-type {\n",
              "        vertical-align: middle;\n",
              "    }\n",
              "\n",
              "    .dataframe tbody tr th {\n",
              "        vertical-align: top;\n",
              "    }\n",
              "\n",
              "    .dataframe thead th {\n",
              "        text-align: right;\n",
              "    }\n",
              "</style>\n",
              "<table border=\"1\" class=\"dataframe\">\n",
              "  <thead>\n",
              "    <tr style=\"text-align: right;\">\n",
              "      <th></th>\n",
              "      <th>Sexo</th>\n",
              "      <th>Remedio</th>\n",
              "      <th>Horas</th>\n",
              "    </tr>\n",
              "  </thead>\n",
              "  <tbody>\n",
              "    <tr>\n",
              "      <th>0</th>\n",
              "      <td>F</td>\n",
              "      <td>A</td>\n",
              "      <td>5</td>\n",
              "    </tr>\n",
              "    <tr>\n",
              "      <th>1</th>\n",
              "      <td>F</td>\n",
              "      <td>A</td>\n",
              "      <td>10</td>\n",
              "    </tr>\n",
              "    <tr>\n",
              "      <th>2</th>\n",
              "      <td>F</td>\n",
              "      <td>A</td>\n",
              "      <td>7</td>\n",
              "    </tr>\n",
              "    <tr>\n",
              "      <th>3</th>\n",
              "      <td>F</td>\n",
              "      <td>A</td>\n",
              "      <td>7</td>\n",
              "    </tr>\n",
              "    <tr>\n",
              "      <th>4</th>\n",
              "      <td>M</td>\n",
              "      <td>A</td>\n",
              "      <td>7</td>\n",
              "    </tr>\n",
              "  </tbody>\n",
              "</table>\n",
              "</div>"
            ],
            "text/plain": [
              "  Sexo Remedio  Horas\n",
              "0    F       A      5\n",
              "1    F       A     10\n",
              "2    F       A      7\n",
              "3    F       A      7\n",
              "4    M       A      7"
            ]
          },
          "metadata": {
            "tags": []
          },
          "execution_count": 3
        }
      ]
    },
    {
      "cell_type": "code",
      "metadata": {
        "id": "P2q_IdJveSqG",
        "colab_type": "code",
        "colab": {
          "base_uri": "https://localhost:8080/",
          "height": 318
        },
        "outputId": "10862120-fb46-40b2-f81b-f3166c7cb1bf"
      },
      "source": [
        "# visualiza os dados em um boxplot agrupado por remedio\n",
        "tratamento.boxplot(by='Remedio', grid = False)"
      ],
      "execution_count": 10,
      "outputs": [
        {
          "output_type": "execute_result",
          "data": {
            "text/plain": [
              "<matplotlib.axes._subplots.AxesSubplot at 0x7fb8b3532c50>"
            ]
          },
          "metadata": {
            "tags": []
          },
          "execution_count": 10
        },
        {
          "output_type": "display_data",
          "data": {
            "image/png": "[encoded data removed]",
            "text/plain": [
              "<Figure size 432x288 with 1 Axes>"
            ]
          },
          "metadata": {
            "tags": []
          }
        }
      ]
    },
    {
      "cell_type": "code",
      "metadata": {
        "id": "4vIV3kS3fIwl",
        "colab_type": "code",
        "colab": {
          "base_uri": "https://localhost:8080/",
          "height": 67
        },
        "outputId": "ec9713c6-d9d5-447b-8cd4-9bb189d9ba72"
      },
      "source": [
        "# teste com um fator, ou seja, desconsiderando o sexo\n",
        "\n",
        "# e feito uma regressao primeiro\n",
        "modelo1 = ols('Horas ~ Remedio', data = tratamento).fit()\n",
        "\n",
        "#pega o resultado da anova\n",
        "resultado1 = sm.stats.anova_lm(modelo1)\n",
        "print(resultado1)"
      ],
      "execution_count": 13,
      "outputs": [
        {
          "output_type": "stream",
          "text": [
            "            df     sum_sq   mean_sq         F    PR(>F)\n",
            "Remedio    2.0   4.083333  2.041667  0.537618  0.591966\n",
            "Residual  21.0  79.750000  3.797619       NaN       NaN\n"
          ],
          "name": "stdout"
        }
      ]
    },
    {
      "cell_type": "code",
      "metadata": {
        "id": "imJGKY9qgaDM",
        "colab_type": "code",
        "colab": {
          "base_uri": "https://localhost:8080/",
          "height": 101
        },
        "outputId": "0a37eb25-3059-485b-8e52-15782c35d947"
      },
      "source": [
        "# faz com dois fatores\n",
        "\n",
        "# necessario fazer a regressao primeiro\n",
        "modelo2 = ols('Horas ~ Remedio * Sexo', data = tratamento).fit()\n",
        "\n",
        "# recebe o resultado da anova\n",
        "resultado2 = sm.stats.anova_lm(modelo2)\n",
        "# pega o valor de P e compara com o alfa\n",
        "print(resultado2)"
      ],
      "execution_count": 15,
      "outputs": [
        {
          "output_type": "stream",
          "text": [
            "                df     sum_sq   mean_sq         F    PR(>F)\n",
            "Remedio        2.0   4.083333  2.041667  0.532609  0.596042\n",
            "Sexo           1.0   4.166667  4.166667  1.086957  0.310948\n",
            "Remedio:Sexo   2.0   6.583333  3.291667  0.858696  0.440360\n",
            "Residual      18.0  69.000000  3.833333       NaN       NaN\n"
          ],
          "name": "stdout"
        }
      ]
    },
    {
      "cell_type": "code",
      "metadata": {
        "id": "c3KwejcXhDIm",
        "colab_type": "code",
        "colab": {
          "base_uri": "https://localhost:8080/",
          "height": 898
        },
        "outputId": "d94ed14c-9394-42f0-8717-addee4b3b7c7"
      },
      "source": [
        "# Caso o teste da anova aponde uma diferença, então usamos o teset de Tukey para ver a diferenca\n",
        "mc = MultiComparison(tratamento['Horas'], tratamento['Remedio'])\n",
        "resultado_teste = mc.tukeyhsd()\n",
        "# ja exibe se deve rejeitar (reject) ou nao, com base no alfa padrao 0.05 (e o mais utilizado)\n",
        "print(resultado_teste)\n",
        "\n",
        "# grafico proprio para esse teste de tukey\n",
        "resultado_teste.plot_simultaneous()\n"
      ],
      "execution_count": 19,
      "outputs": [
        {
          "output_type": "stream",
          "text": [
            "Multiple Comparison of Means - Tukey HSD, FWER=0.05\n",
            "===================================================\n",
            "group1 group2 meandiff p-adj   lower  upper  reject\n",
            "---------------------------------------------------\n",
            "     A      B   -0.625 0.7861 -3.0803 1.8303  False\n",
            "     A      C    0.375    0.9 -2.0803 2.8303  False\n",
            "     B      C      1.0 0.5668 -1.4553 3.4553  False\n",
            "---------------------------------------------------\n"
          ],
          "name": "stdout"
        },
        {
          "output_type": "execute_result",
          "data": {
            "image/png": "[encoded data removed]",
            "text/plain": [
              "<Figure size 720x432 with 1 Axes>"
            ]
          },
          "metadata": {
            "tags": []
          },
          "execution_count": 19
        },
        {
          "output_type": "display_data",
          "data": {
            "image/png": "[encoded data removed]",
            "text/plain": [
              "<Figure size 720x432 with 1 Axes>"
            ]
          },
          "metadata": {
            "tags": []
          }
        }
      ]
    }
  ]
}