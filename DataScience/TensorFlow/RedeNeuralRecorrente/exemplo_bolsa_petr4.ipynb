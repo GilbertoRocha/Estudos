{
  "nbformat": 4,
  "nbformat_minor": 0,
  "metadata": {
    "colab": {
      "name": "exemplo_bolsa_petr4.ipynb",
      "version": "0.3.2",
      "provenance": []
    },
    "kernelspec": {
      "name": "python3",
      "display_name": "Python 3"
    }
  },
  "cells": [
    {
      "cell_type": "markdown",
      "metadata": {
        "id": "enhzouJoyG4o",
        "colab_type": "text"
      },
      "source": [
        "Exercicio extraido do curso \"TensorFlow: Machine Learning e Deep Learning com Python\", oferecido pelo Prof. Jones Granatyr.\n",
        "Link do curso: https://www.udemy.com/tensorflow-machine-learning-deep-learning-python/\n",
        "\n",
        "Adicionado comentários para melhor entendimento."
      ]
    },
    {
      "cell_type": "markdown",
      "metadata": {
        "id": "okgwzfkD5biv",
        "colab_type": "text"
      },
      "source": [
        "Buscando o dataset do kaggle"
      ]
    },
    {
      "cell_type": "code",
      "metadata": {
        "id": "bAJUlLvG3yyO",
        "colab_type": "code",
        "outputId": "5eeb9a6f-05c2-45eb-b8f2-171085333f99",
        "colab": {
          "base_uri": "https://localhost:8080/",
          "height": 340
        }
      },
      "source": [
        "!pip install kaggle\n",
        "!mkdir .kaggle\n",
        "import json\n",
        "token = {\"username\":\"gilbertorocha\",\"key\":\"4d3618c473ea67622c0399535290b8ff\"}\n",
        "with open('/content/.kaggle/kaggle.json', 'w+') as file:\n",
        "    json.dump(token, file)\n",
        "!cp /content/.kaggle/kaggle.json ~/.kaggle/kaggle.json\n",
        "!kaggle config set -n path -v{/content}\n",
        "\n",
        "!chmod 600 /root/.kaggle/kaggle.json\n",
        "\n",
        "!kaggle datasets download -d gilbertorocha/tensorflowpetr4 -p /content\n",
        "!unzip \\*.zip"
      ],
      "execution_count": 2,
      "outputs": [
        {
          "output_type": "stream",
          "text": [
            "Requirement already satisfied: kaggle in /usr/local/lib/python3.6/dist-packages (1.5.5)\n",
            "Requirement already satisfied: six>=1.10 in /usr/local/lib/python3.6/dist-packages (from kaggle) (1.12.0)\n",
            "Requirement already satisfied: certifi in /usr/local/lib/python3.6/dist-packages (from kaggle) (2019.6.16)\n",
            "Requirement already satisfied: tqdm in /usr/local/lib/python3.6/dist-packages (from kaggle) (4.28.1)\n",
            "Requirement already satisfied: python-slugify in /usr/local/lib/python3.6/dist-packages (from kaggle) (3.0.3)\n",
            "Requirement already satisfied: urllib3<1.25,>=1.21.1 in /usr/local/lib/python3.6/dist-packages (from kaggle) (1.24.3)\n",
            "Requirement already satisfied: python-dateutil in /usr/local/lib/python3.6/dist-packages (from kaggle) (2.5.3)\n",
            "Requirement already satisfied: requests in /usr/local/lib/python3.6/dist-packages (from kaggle) (2.21.0)\n",
            "Requirement already satisfied: text-unidecode==1.2 in /usr/local/lib/python3.6/dist-packages (from python-slugify->kaggle) (1.2)\n",
            "Requirement already satisfied: chardet<3.1.0,>=3.0.2 in /usr/local/lib/python3.6/dist-packages (from requests->kaggle) (3.0.4)\n",
            "Requirement already satisfied: idna<2.9,>=2.5 in /usr/local/lib/python3.6/dist-packages (from requests->kaggle) (2.8)\n",
            "mkdir: cannot create directory ‘.kaggle’: File exists\n",
            "Warning: Your Kaggle API key is readable by other users on this system! To fix this, you can run 'chmod 600 /root/.kaggle/kaggle.json'\n",
            "- path is now set to: {/content}\n",
            "Downloading tensorflowpetr4.zip to /content\n",
            "  0% 0.00/24.1k [00:00<?, ?B/s]\n",
            "100% 24.1k/24.1k [00:00<00:00, 20.3MB/s]\n",
            "Archive:  tensorflowpetr4.zip\n",
            "  inflating: petr4.csv               \n"
          ],
          "name": "stdout"
        }
      ]
    },
    {
      "cell_type": "code",
      "metadata": {
        "id": "_Q8LZ0o99MzU",
        "colab_type": "code",
        "outputId": "1490d600-9d03-4c15-afa8-2b225356aaaf",
        "colab": {
          "base_uri": "https://localhost:8080/",
          "height": 269
        }
      },
      "source": [
        "import pandas as pd\n",
        "import numpy as np\n",
        "\n",
        "pd.set_option('display.max_columns', None)\n",
        "pd.set_option('display.max_rows', None)\n",
        "\n",
        "base = pd.read_csv('petr4.csv')\n",
        "\n",
        "base = base.dropna()\n",
        "#so será utilizado neste exemplo o atributo open\n",
        "base = base.iloc[:,1].values\n",
        "\n",
        "import matplotlib.pyplot as plt\n",
        "%matplotlib inline\n",
        "\n",
        "plt.plot(base)\n",
        "plt.show()"
      ],
      "execution_count": 3,
      "outputs": [
        {
          "output_type": "display_data",
          "data": {
            "image/png": "[encoded data removed]",
            "text/plain": [
              "<Figure size 432x288 with 1 Axes>"
            ]
          },
          "metadata": {
            "tags": []
          }
        }
      ]
    },
    {
      "cell_type": "code",
      "metadata": {
        "id": "72ZVsrOIU4la",
        "colab_type": "code",
        "colab": {}
      },
      "source": [
        "# define o periodo que será feito a previsao (em dias)\n",
        "periodos = 30\n",
        "# horizonte das previsões, ou seja, indica quantos periodos será utilizado, ficando o valor total como previsao_futura * periodos\n",
        "previsao_futura = 1\n",
        "\n",
        "# previsores\n",
        "# divisão de base de dados de treinamento e teste\n",
        "\n",
        "# criação dos batchs para processamento\n",
        "# gera 41 conjuntos com 30 registros cada\n",
        "# A ideia é fazer uma divisão manual, ao invés de usar os recursos do sklearn, para \"adiantar\" no y um valor\n",
        "# A intenção é fazer o x possuir um periodo de 30 valores, e o y também, no entanto o y vai estar sempre com 1 valor a frente\n",
        "# desta forma a rede entende que se passando 30 valores de x, a sua previsão após o ultimo valor do lote (primeira posição de x na \"linha\" subsequente a atual), \n",
        "# vai ser o valor de posição 30 da \"linha\" atual\n",
        "x = base[0:(len(base) - (len(base) % periodos))]\n",
        "\n",
        "x_batches = x.reshape(-1, periodos, 1)\n",
        "\n",
        "# adianta um para frente\n",
        "y = base[1:(len(base) - (len(base) % periodos)) + previsao_futura]\n",
        "y_batches = y.reshape(-1, periodos, 1)\n",
        "\n",
        "# pega os ultimos registros para testar\n",
        "x_teste = base[-(periodos + previsao_futura):]\n",
        "# elimina o ultimo registro, pois estamos montando batch de 30, e aqui vai ter 31\n",
        "x_teste = x_teste[:periodos]\n",
        "x_teste = x_teste.reshape(-1, periodos, 1)\n",
        "# pega os ultimos 30 registros, ficando sempre \"1 a frente\" do x\n",
        "y_teste = base[-(periodos):]\n",
        "y_teste = y_teste.reshape(-1, periodos, 1)\n"
      ],
      "execution_count": 0,
      "outputs": []
    },
    {
      "cell_type": "code",
      "metadata": {
        "id": "aL6YAvLcLhrE",
        "colab_type": "code",
        "colab": {}
      },
      "source": [
        "import tensorflow as tf\n"
      ],
      "execution_count": 0,
      "outputs": []
    },
    {
      "cell_type": "code",
      "metadata": {
        "id": "v78D6PEmLzme",
        "colab_type": "code",
        "colab": {}
      },
      "source": [
        "# com redes neurais recorrentes é importante resetar os grafos já criados, para não ficar nada em memoria\n",
        "tf.reset_default_graph()\n",
        "\n",
        "# possui apenas um atributo previsor\n",
        "entradas = 1\n",
        "\n",
        "# nao segue a formula de redes neuras densas ((entradas + saidas) / 2), neste caso tem que ser feito testes\n",
        "neuronios_oculta = 100\n",
        "\n",
        "# so tem uma saida, uma vez que é uma regressão e retorna um numero\n",
        "neuronios_saida = 1\n",
        "\n",
        "# para os placeholders e informado:\n",
        "#     Formato = Formato dos dados, no caso tf.float32 \n",
        "#     Batch_size = None, vai ser definido em outra etapa\n",
        "#     Periodos = quantos periodos será executado\n",
        "#     entradas = quantidade de entradas (ou saidas) esperada\n",
        "xph = tf.placeholder(tf.float32, [None, periodos, entradas])\n",
        "yph = tf.placeholder(tf.float32, [None, periodos, neuronios_saida])\n",
        "\n",
        "\n",
        "# Celula, é a estrutura da rede recorrente, que fica criando o loop que repassas as informações\n",
        "# a ela mesma.\n",
        "# Cada uma das celulas indica uma camada oculta na rede\n",
        "# Aqui foi criada uma celula simples, é possivel criar outras conforme necessidade\n",
        "# Criado um metodo que retorna a celula, para poder reutilizar quando fizer uma rede maior\n",
        "\n",
        "def cria_uma_celula_simples():\n",
        "  # num_units = numero de neuronios para a camada oculta\n",
        "  # activation = formula de saida\n",
        "  return tf.contrib.rnn.BasicRNNCell(num_units = neuronios_oculta, activation = tf.nn.relu)\n",
        "\n",
        "def cria_varias_celulas_simples(num_celulas, num_drop_out):\n",
        "  # usa uma função para agrupar celulas do proprio TensorFlow, e chama a criar celula simples em um laço\n",
        "  celulas = tf.nn.rnn_cell.MultiRNNCell([cria_uma_celula_simples() for i in range(num_celulas)])\n",
        "  # usa o dropout, que vai zerar algumas entradas para evitar o overtifing\n",
        "  # passa o valor 1 para 100%, e uma fração para o percentual correspondente\n",
        "  if num_drop_out > 0:\n",
        "    return tf.contrib.rnn.DropoutWrapper(celulas, output_keep_prob = num_drop_out)\n",
        "  else:\n",
        "    return tf.contrib.rnn.DropoutWrapper(celulas)\n",
        "\n",
        "# Cria uma celula do tipo Long short memory (mais complexa)\n",
        "def cria_uma_celula_lstm():\n",
        "  # num_units = numero de neuronios para a camada oculta\n",
        "  # activation = formula de saida\n",
        "  return tf.contrib.rnn.LSTMCell(num_units = neuronios_oculta, activation = tf.nn.relu)\n",
        "  \n",
        "def cria_varias_celulas_lstm(num_celulas, num_drop_out):\n",
        "  # usa uma função para agrupar celulas do proprio TensorFlow, e chama a criar celula simples em um laço\n",
        "  celulas = tf.nn.rnn_cell.MultiRNNCell([cria_uma_celula_lstm() for i in range(num_celulas)])\n",
        "  # usa o dropout, que vai zerar algumas entradas para evitar o overtifing\n",
        "  # passa o valor 1 para 100%, e uma fração para o percentual correspondente\n",
        "  if num_drop_out > 0:\n",
        "    return tf.contrib.rnn.DropoutWrapper(celulas, output_keep_prob = num_drop_out)\n",
        "  else:\n",
        "    return tf.contrib.rnn.DropoutWrapper(celulas)\n",
        "\n",
        "\n",
        "#celula = cria_uma_celula_simples()\n",
        "#celula = cria_varias_celulas_simples(4, 0.1)\n",
        "#celula = cria_uma_celula_lstm()\n",
        "celula = cria_varias_celulas_lstm(4, 0.0)\n",
        "\n",
        "# Apos criar a camada oculta, liga ela na camada de saida\n",
        "celula = tf.contrib.rnn.OutputProjectionWrapper(celula, output_size = 1)\n",
        "# Pega as previsões\n",
        "# É usado uma rede dinamica\n",
        "# Passando apenas a celula como camada oculta\n",
        "# O placeholder para alimentar os dados\n",
        "# O tipo dos dados\n",
        "saida_rnn, _ = tf.nn.dynamic_rnn(celula, xph, dtype = tf.float32)\n",
        "\n",
        "# Agora com as saidas, é calculado o erro\n",
        "# Labels = as classes esperadas\n",
        "# Predictions = as previsões geradas pela rnn\n",
        "erro = tf.losses.mean_squared_error(labels = yph, predictions = saida_rnn)\n",
        "\n",
        "# Monta o optimizador\n",
        "otimizador = tf.train.AdamOptimizer(learning_rate = 0.001)\n",
        "\n",
        "# Otimiza de fato\n",
        "treinamento = otimizador.minimize(erro)"
      ],
      "execution_count": 0,
      "outputs": []
    },
    {
      "cell_type": "code",
      "metadata": {
        "id": "jgVMtJ-qn5yn",
        "colab_type": "code",
        "outputId": "feb0d5fb-f368-4aff-c6b2-85460498aeee",
        "colab": {
          "base_uri": "https://localhost:8080/",
          "height": 187
        }
      },
      "source": [
        "# Executando a rede recorrente\n",
        "with tf.Session() as sess:\n",
        "  # inicializa as variaveis\n",
        "  sess.run(tf.global_variables_initializer())\n",
        "  \n",
        "  # executa pelo numero de epocas\n",
        "  for epoca in range(1000):\n",
        "    #roda a rede, passando a propria rede, o erro\n",
        "    # feed_dict serve para alimentar o x e y configurados na rede\n",
        "    _, custo = sess.run([treinamento, erro], feed_dict = {xph: x_batches, yph: y_batches})\n",
        "    # mostra a epoca a cada 100, junto com demais informações\n",
        "    if epoca % 100 == 0:\n",
        "      print(epoca + 1, ' erro: ', custo)\n",
        "  \n",
        "  previsoes = sess.run(saida_rnn, feed_dict = {xph: x_teste})\n"
      ],
      "execution_count": 12,
      "outputs": [
        {
          "output_type": "stream",
          "text": [
            "1  erro:  213.24297\n",
            "101  erro:  19.336252\n",
            "201  erro:  6.0774293\n",
            "301  erro:  0.87001926\n",
            "401  erro:  0.42828688\n",
            "501  erro:  0.43043104\n",
            "601  erro:  0.1860549\n",
            "701  erro:  0.16286062\n",
            "801  erro:  0.13873838\n",
            "901  erro:  0.14810024\n"
          ],
          "name": "stdout"
        }
      ]
    },
    {
      "cell_type": "code",
      "metadata": {
        "id": "C-1s0vDnpeN2",
        "colab_type": "code",
        "outputId": "48e9dc6c-6f99-4736-bca0-451843eaf098",
        "colab": {
          "base_uri": "https://localhost:8080/",
          "height": 34
        }
      },
      "source": [
        "# algumas transformações para poder comparar o resultado das previsões com o real\n",
        "import numpy as np\n",
        "y_teste.shape\n",
        "#como esta no formato (1, 30, 1) diminuimos para apenas 30 (removendo as \"camadas\" de array), para ficar mais facil de comparar\n",
        "y_teste2 = np.ravel(y_teste)\n",
        "\n",
        "previsoes2 = np.ravel(previsoes)\n",
        "\n",
        "\n",
        "# calcula o erro \n",
        "from sklearn.metrics import mean_absolute_error\n",
        "mae = mean_absolute_error(y_teste2, previsoes2)\n",
        "# neste teste esta errando 0.16 centavos\n",
        "print(mae)\n",
        "\n"
      ],
      "execution_count": 13,
      "outputs": [
        {
          "output_type": "stream",
          "text": [
            "0.40424666677246157\n"
          ],
          "name": "stdout"
        }
      ]
    },
    {
      "cell_type": "code",
      "metadata": {
        "id": "I9IGjJY4qj-1",
        "colab_type": "code",
        "outputId": "fad607c4-fbd5-4f6c-8a65-2a30d86579e0",
        "colab": {
          "base_uri": "https://localhost:8080/",
          "height": 521
        }
      },
      "source": [
        "#visualizar os resultados\n",
        "plt.plot(y_teste2, '*', markersize = 10, label = 'Valor real')\n",
        "plt.plot(previsoes2, 'o', label = 'Previsões')\n",
        "plt.legend()\n",
        "plt.show()\n",
        "\n",
        "\n",
        "# em formato de linha\n",
        "plt.plot(y_teste2, label = 'Valor real')\n",
        "plt.plot(y_teste2, 'w*', markersize = 10, color = 'red')\n",
        "plt.plot(previsoes2, label = 'Previsões')\n",
        "plt.legend()\n",
        "plt.show()"
      ],
      "execution_count": 14,
      "outputs": [
        {
          "output_type": "display_data",
          "data": {
            "image/png": "[encoded data removed]",
            "text/plain": [
              "<Figure size 432x288 with 1 Axes>"
            ]
          },
          "metadata": {
            "tags": []
          }
        },
        {
          "output_type": "display_data",
          "data": {
            "image/png": "[encoded data removed]",
            "text/plain": [
              "<Figure size 432x288 with 1 Axes>"
            ]
          },
          "metadata": {
            "tags": []
          }
        }
      ]
    }
  ]
}