{
  "nbformat": 4,
  "nbformat_minor": 0,
  "metadata": {
    "colab": {
      "name": "Stacked_Deep_AutoEncoder_MNIST",
      "provenance": [],
      "include_colab_link": true
    },
    "kernelspec": {
      "name": "python3",
      "display_name": "Python 3"
    },
    "accelerator": "GPU"
  },
  "cells": [
    {
      "cell_type": "markdown",
      "metadata": {
        "id": "view-in-github",
        "colab_type": "text"
      },
      "source": [
        "<a href=\"https://colab.research.google.com/github/GilbertoRocha/Estudos/blob/master/DataScience/TensorFlow/AutoEncoder/Stacked_Deep_AutoEncoder_MNIST.ipynb\" target=\"_parent\"><img src=\"https://colab.research.google.com/assets/colab-badge.svg\" alt=\"Open In Colab\"/></a>"
      ]
    },
    {
      "cell_type": "markdown",
      "metadata": {
        "id": "hFxs0aP1Ioel",
        "colab_type": "text"
      },
      "source": [
        "  \n",
        "Exercicio extraido do curso \"TensorFlow: Machine Learning e Deep Learning com Python\", oferecido pelo Prof. Jones Granatyr.\n",
        "Link do curso: https://www.udemy.com/tensorflow-machine-learning-deep-learning-python/\n",
        "\n",
        "Adicionado comentários para melhor entendimento."
      ]
    },
    {
      "cell_type": "code",
      "metadata": {
        "id": "sLN4InewF3N-",
        "colab_type": "code",
        "outputId": "0962e75b-bfdb-40ea-c54c-2803831be074",
        "colab": {
          "base_uri": "https://localhost:8080/",
          "height": 576
        }
      },
      "source": [
        "# carrega a base mnist\n",
        "from tensorflow.examples.tutorials.mnist import input_data\n",
        "mnist = input_data.read_data_sets('mnist/', one_hot = True)\n",
        "\n",
        "X = mnist.train.images"
      ],
      "execution_count": 1,
      "outputs": [
        {
          "output_type": "display_data",
          "data": {
            "text/html": [
              "<p style=\"color: red;\">\n",
              "The default version of TensorFlow in Colab will soon switch to TensorFlow 2.x.<br>\n",
              "We recommend you <a href=\"https://www.tensorflow.org/guide/migrate\" target=\"_blank\">upgrade</a> now \n",
              "or ensure your notebook will continue to use TensorFlow 1.x via the <code>%tensorflow_version 1.x</code> magic:\n",
              "<a href=\"https://colab.research.google.com/notebooks/tensorflow_version.ipynb\" target=\"_blank\">more info</a>.</p>\n"
            ],
            "text/plain": [
              "<IPython.core.display.HTML object>"
            ]
          },
          "metadata": {
            "tags": []
          }
        },
        {
          "output_type": "stream",
          "text": [
            "WARNING:tensorflow:From <ipython-input-1-03064b4736ff>:2: read_data_sets (from tensorflow.contrib.learn.python.learn.datasets.mnist) is deprecated and will be removed in a future version.\n",
            "Instructions for updating:\n",
            "Please use alternatives such as official/mnist/dataset.py from tensorflow/models.\n",
            "WARNING:tensorflow:From /usr/local/lib/python3.6/dist-packages/tensorflow_core/contrib/learn/python/learn/datasets/mnist.py:260: maybe_download (from tensorflow.contrib.learn.python.learn.datasets.base) is deprecated and will be removed in a future version.\n",
            "Instructions for updating:\n",
            "Please write your own downloading logic.\n",
            "WARNING:tensorflow:From /usr/local/lib/python3.6/dist-packages/tensorflow_core/contrib/learn/python/learn/datasets/base.py:252: _internal_retry.<locals>.wrap.<locals>.wrapped_fn (from tensorflow.contrib.learn.python.learn.datasets.base) is deprecated and will be removed in a future version.\n",
            "Instructions for updating:\n",
            "Please use urllib or similar directly.\n",
            "Successfully downloaded train-images-idx3-ubyte.gz 9912422 bytes.\n",
            "WARNING:tensorflow:From /usr/local/lib/python3.6/dist-packages/tensorflow_core/contrib/learn/python/learn/datasets/mnist.py:262: extract_images (from tensorflow.contrib.learn.python.learn.datasets.mnist) is deprecated and will be removed in a future version.\n",
            "Instructions for updating:\n",
            "Please use tf.data to implement this functionality.\n",
            "Extracting mnist/train-images-idx3-ubyte.gz\n",
            "Successfully downloaded train-labels-idx1-ubyte.gz 28881 bytes.\n",
            "WARNING:tensorflow:From /usr/local/lib/python3.6/dist-packages/tensorflow_core/contrib/learn/python/learn/datasets/mnist.py:267: extract_labels (from tensorflow.contrib.learn.python.learn.datasets.mnist) is deprecated and will be removed in a future version.\n",
            "Instructions for updating:\n",
            "Please use tf.data to implement this functionality.\n",
            "Extracting mnist/train-labels-idx1-ubyte.gz\n",
            "WARNING:tensorflow:From /usr/local/lib/python3.6/dist-packages/tensorflow_core/contrib/learn/python/learn/datasets/mnist.py:110: dense_to_one_hot (from tensorflow.contrib.learn.python.learn.datasets.mnist) is deprecated and will be removed in a future version.\n",
            "Instructions for updating:\n",
            "Please use tf.one_hot on tensors.\n",
            "Successfully downloaded t10k-images-idx3-ubyte.gz 1648877 bytes.\n",
            "Extracting mnist/t10k-images-idx3-ubyte.gz\n",
            "Successfully downloaded t10k-labels-idx1-ubyte.gz 4542 bytes.\n",
            "Extracting mnist/t10k-labels-idx1-ubyte.gz\n",
            "WARNING:tensorflow:From /usr/local/lib/python3.6/dist-packages/tensorflow_core/contrib/learn/python/learn/datasets/mnist.py:290: DataSet.__init__ (from tensorflow.contrib.learn.python.learn.datasets.mnist) is deprecated and will be removed in a future version.\n",
            "Instructions for updating:\n",
            "Please use alternatives such as official/mnist/dataset.py from tensorflow/models.\n"
          ],
          "name": "stdout"
        }
      ]
    },
    {
      "cell_type": "code",
      "metadata": {
        "id": "cFbafidGHPjR",
        "colab_type": "code",
        "outputId": "9e1cf43d-c382-49a4-b828-c770bc3cdffa",
        "colab": {
          "base_uri": "https://localhost:8080/",
          "height": 282
        }
      },
      "source": [
        "# Exibe uma imagem\n",
        "import matplotlib.pyplot as plt\n",
        "%matplotlib inline\n",
        "# é realizado um reshape, pois a base quando importada tem outro formato, somente com uma coluna, com 784 posições\n",
        "plt.imshow(X[0].reshape(28,28))"
      ],
      "execution_count": 2,
      "outputs": [
        {
          "output_type": "execute_result",
          "data": {
            "text/plain": [
              "<matplotlib.image.AxesImage at 0x7fd37c07bda0>"
            ]
          },
          "metadata": {
            "tags": []
          },
          "execution_count": 2
        },
        {
          "output_type": "display_data",
          "data": {
            "image/png": "[encoded data removed]",
            "text/plain": [
              "<Figure size 432x288 with 1 Axes>"
            ]
          },
          "metadata": {
            "tags": []
          }
        }
      ]
    },
    {
      "cell_type": "code",
      "metadata": {
        "id": "N3ThKNjMIRf6",
        "colab_type": "code",
        "colab": {}
      },
      "source": [
        "# o autoencoder terá tres camadas, uma de entrada, uma intermediaria, e a camada de encoder. Depois ela passa a ser decodificada, ficando com os seguintes numeros\n",
        "# 784 -> 128 -> 64 (camada codificada) -> 128 -> 784\n",
        "\n",
        "# etapa encoder\n",
        "neuronios_entrada = 784\n",
        "neuronios_oculta1 = 128\n",
        "\n",
        "# dados / imagem codificados\n",
        "neuronios_oculta2 = 64\n",
        "\n",
        "# etapa decoder\n",
        "neuronios_oculta3 = neuronios_oculta1\n",
        "neuronios_saida = neuronios_entrada"
      ],
      "execution_count": 0,
      "outputs": []
    },
    {
      "cell_type": "code",
      "metadata": {
        "id": "uOU8gVFaJ2B0",
        "colab_type": "code",
        "colab": {}
      },
      "source": [
        "import tensorflow as tf"
      ],
      "execution_count": 0,
      "outputs": []
    },
    {
      "cell_type": "code",
      "metadata": {
        "id": "M8liIAH3J5Qy",
        "colab_type": "code",
        "colab": {}
      },
      "source": [
        "# como o tensorflow monta grafos para ser executados nas session, é interessante\n",
        "# sempre limpar os grafos em memoria, principalmente porque poderá ser feito varios testes\n",
        "tf.reset_default_graph()"
      ],
      "execution_count": 0,
      "outputs": []
    },
    {
      "cell_type": "code",
      "metadata": {
        "id": "ry3_xfzwKP9B",
        "colab_type": "code",
        "colab": {}
      },
      "source": [
        "# cria o placeholder para alimentar a função com as imagens\n",
        "# define o formato dos dados\n",
        "# None na quantidade de dados do batch (sera definido mais para frente)\n",
        "# formato da entrada, no caso os neuronios_entrada\n",
        "xph = tf.placeholder(tf.float32, [None, neuronios_entrada])"
      ],
      "execution_count": 0,
      "outputs": []
    },
    {
      "cell_type": "code",
      "metadata": {
        "id": "3OcnQMINMQ5T",
        "colab_type": "code",
        "colab": {}
      },
      "source": [
        "# utilizada a inicialização Xavier\n",
        "# Essa inicialização dos pesos mantem uma escala para o pesos entre as camadas, evitando uma inicializacao com valores aleatorios muito discrepantes entre as camadas\n",
        "# essa pratica ajuda a melhorar a precisão do algoritmo, e se adapta melhor usando a função sigmoid\n",
        "\n",
        "# no tensorflow é usado uma variação da Xavier chamada He, que se adapta melhor na função relu\n",
        "inicializador = tf.variance_scaling_initializer()"
      ],
      "execution_count": 0,
      "outputs": []
    },
    {
      "cell_type": "code",
      "metadata": {
        "id": "mU4YXO0yDqjz",
        "colab_type": "code",
        "colab": {}
      },
      "source": [
        "# definindo os pesos, aqui será feito de forma manual, evitando usar os recursos ja prontos\n",
        "# seguindo essa estrutura\n",
        "# 784 -> 128 -> 64 (inf codificada) -> 128 -> 784 (saida teoricamente identica a entrada)\n",
        "W = {'encoder_oculta1': tf.Variable(inicializador([neuronios_entrada, neuronios_oculta1])),\n",
        "     'encoder_oculta2': tf.Variable(inicializador([neuronios_oculta1, neuronios_oculta2])),\n",
        "     'decoder_oculta3': tf.Variable(inicializador([neuronios_oculta2, neuronios_oculta3])),\n",
        "     'decoder_saida': tf.Variable(inicializador([neuronios_oculta3, neuronios_saida]))}"
      ],
      "execution_count": 0,
      "outputs": []
    },
    {
      "cell_type": "code",
      "metadata": {
        "id": "QPZ8yYStFINy",
        "colab_type": "code",
        "colab": {}
      },
      "source": [
        "# definindo o BIAS, podemos usar o mesmo nome\n",
        "# eles serão definido como um vetor, e nao como matriz\n",
        "# nao tem BIAS ligado na camanda de entrada\n",
        "b = {'encoder_oculta1': tf.Variable(inicializador([neuronios_oculta1])),\n",
        "     'encoder_oculta2': tf.Variable(inicializador([neuronios_oculta2])),\n",
        "     'decoder_oculta3': tf.Variable(inicializador([neuronios_oculta3])),\n",
        "     'decoder_saida': tf.Variable(inicializador([neuronios_saida]))}"
      ],
      "execution_count": 0,
      "outputs": []
    },
    {
      "cell_type": "code",
      "metadata": {
        "id": "oGacH4B4F3XD",
        "colab_type": "code",
        "colab": {}
      },
      "source": [
        "# criação das camadas efetivamente\n",
        "# cada camada vai ter sua respectiva entrada, e deverá ser multiplicada pelo peso e adicionado o BIAS\n",
        "# ja faz também a chamada para a função de ativação\n",
        "camada_oculta1 = tf.nn.relu(tf.add(tf.matmul(xph, W['encoder_oculta1']), b['encoder_oculta1']))\n",
        "\n",
        "# agora cria a camada com a mesma formula, pas usando o resultado da primeira camada oculta\n",
        "# camada codificada\n",
        "camada_oculta2 = tf.nn.relu(tf.add(tf.matmul(camada_oculta1, W['encoder_oculta2']), b['encoder_oculta2']))\n",
        "\n",
        "# comeca a decodificar a os dados novamente\n",
        "camada_oculta3 = tf.nn.relu(tf.add(tf.matmul(camada_oculta2, W['decoder_oculta3']), b['decoder_oculta3']))\n",
        "\n",
        "# saida (teoricamente deve ser os memso dados da entrada)\n",
        "camada_saida = tf.nn.relu(tf.add(tf.matmul(camada_oculta3, W['decoder_saida']), b['decoder_saida']))\n"
      ],
      "execution_count": 0,
      "outputs": []
    },
    {
      "cell_type": "code",
      "metadata": {
        "id": "YsME61yIm2Kt",
        "colab_type": "code",
        "outputId": "c5c5b26e-dcc2-42b6-b3a6-611a8a7b95f1",
        "colab": {
          "base_uri": "https://localhost:8080/",
          "height": 68
        }
      },
      "source": [
        "# cria o erro, passando as entradas, e saidas, aonde neste caso a entrada é a resposta correta, \"decodificada\"\n",
        "erro = tf.losses.mean_squared_error(xph, camada_saida)\n",
        "\n",
        "# cria o otimizador\n",
        "otimizador = tf.train.AdamOptimizer(learning_rate = 0.001)\n",
        "\n",
        "# faz o treinamento\n",
        "treinamento = otimizador.minimize(erro)\n",
        "\n",
        "# define a quantidade de registros a ser treinada por vez\n",
        "batch_size = 128"
      ],
      "execution_count": 11,
      "outputs": [
        {
          "output_type": "stream",
          "text": [
            "WARNING:tensorflow:From /usr/local/lib/python3.6/dist-packages/tensorflow_core/python/ops/losses/losses_impl.py:121: where (from tensorflow.python.ops.array_ops) is deprecated and will be removed in a future version.\n",
            "Instructions for updating:\n",
            "Use tf.where in 2.0, which has the same broadcast rule as np.where\n"
          ],
          "name": "stdout"
        }
      ]
    },
    {
      "cell_type": "code",
      "metadata": {
        "id": "i-sEvlokozND",
        "colab_type": "code",
        "outputId": "ed6e0755-83fc-40c2-a14f-e63312164807",
        "colab": {
          "base_uri": "https://localhost:8080/",
          "height": 867
        }
      },
      "source": [
        "# faz o treinamento efetivamente\n",
        "with tf.Session() as sess:\n",
        "  sess.run(tf.global_variables_initializer())\n",
        "  for epoca in range(50):\n",
        "    # pega a quantidade de batches que tem, ou seja, divide o total pelo batch\n",
        "    numero_batches = mnist.train.num_examples // batch_size\n",
        "    # navega pela \"lista\" de batches\n",
        "    for i in range(numero_batches):\n",
        "      # pega os proximos registros compreendidos no batch (neste caso 128)\n",
        "      # esse metodo next_batch retorna o X e Y, como nao iremos usar o y, então ignoramos ele com o _\n",
        "      X_batch, _ = mnist.train.next_batch(batch_size)\n",
        "      custo, _ = sess.run([erro, treinamento], feed_dict = {xph: X_batch})\n",
        "    print('Epoca: ' + str(epoca + 1) + ' erro: ' + str(custo))\n",
        "  \n",
        "  # depois de treinar o autoencoder, salva a camada oculta 2, que é o encode\n",
        "  imagens_codificadas = sess.run(camada_oculta2, feed_dict = {xph: X})\n",
        "  \n",
        "  #pega as imagens decodificadas(teoricamento seriam identicos as originais)\n",
        "  imagens_decodificadas = sess.run(camada_saida, feed_dict = {xph: X} )"
      ],
      "execution_count": 12,
      "outputs": [
        {
          "output_type": "stream",
          "text": [
            "Epoca: 1 erro: 0.019278891\n",
            "Epoca: 2 erro: 0.01651195\n",
            "Epoca: 3 erro: 0.015790198\n",
            "Epoca: 4 erro: 0.015568753\n",
            "Epoca: 5 erro: 0.014116281\n",
            "Epoca: 6 erro: 0.01384999\n",
            "Epoca: 7 erro: 0.014215494\n",
            "Epoca: 8 erro: 0.012867102\n",
            "Epoca: 9 erro: 0.013975524\n",
            "Epoca: 10 erro: 0.0129812\n",
            "Epoca: 11 erro: 0.0139015075\n",
            "Epoca: 12 erro: 0.013444464\n",
            "Epoca: 13 erro: 0.013890937\n",
            "Epoca: 14 erro: 0.014028588\n",
            "Epoca: 15 erro: 0.012998829\n",
            "Epoca: 16 erro: 0.013470579\n",
            "Epoca: 17 erro: 0.012672226\n",
            "Epoca: 18 erro: 0.013856785\n",
            "Epoca: 19 erro: 0.013159397\n",
            "Epoca: 20 erro: 0.012053286\n",
            "Epoca: 21 erro: 0.012369667\n",
            "Epoca: 22 erro: 0.012066853\n",
            "Epoca: 23 erro: 0.013654327\n",
            "Epoca: 24 erro: 0.011999694\n",
            "Epoca: 25 erro: 0.012849856\n",
            "Epoca: 26 erro: 0.01284242\n",
            "Epoca: 27 erro: 0.0122578945\n",
            "Epoca: 28 erro: 0.012301227\n",
            "Epoca: 29 erro: 0.011932015\n",
            "Epoca: 30 erro: 0.011708658\n",
            "Epoca: 31 erro: 0.013216487\n",
            "Epoca: 32 erro: 0.012956418\n",
            "Epoca: 33 erro: 0.012923368\n",
            "Epoca: 34 erro: 0.011765537\n",
            "Epoca: 35 erro: 0.012538294\n",
            "Epoca: 36 erro: 0.011999218\n",
            "Epoca: 37 erro: 0.012375258\n",
            "Epoca: 38 erro: 0.012221305\n",
            "Epoca: 39 erro: 0.012170894\n",
            "Epoca: 40 erro: 0.012859351\n",
            "Epoca: 41 erro: 0.012113947\n",
            "Epoca: 42 erro: 0.013480491\n",
            "Epoca: 43 erro: 0.013253849\n",
            "Epoca: 44 erro: 0.012030008\n",
            "Epoca: 45 erro: 0.011621351\n",
            "Epoca: 46 erro: 0.013275544\n",
            "Epoca: 47 erro: 0.012355724\n",
            "Epoca: 48 erro: 0.012791189\n",
            "Epoca: 49 erro: 0.011789088\n",
            "Epoca: 50 erro: 0.012569391\n"
          ],
          "name": "stdout"
        }
      ]
    },
    {
      "cell_type": "code",
      "metadata": {
        "id": "TOK17N41Virl",
        "colab_type": "code",
        "outputId": "0020828c-de25-47a0-80db-1916ee810007",
        "colab": {
          "base_uri": "https://localhost:8080/",
          "height": 34
        }
      },
      "source": [
        "# imagens com 64 de tamanho\n",
        "imagens_codificadas.shape"
      ],
      "execution_count": 13,
      "outputs": [
        {
          "output_type": "execute_result",
          "data": {
            "text/plain": [
              "(55000, 64)"
            ]
          },
          "metadata": {
            "tags": []
          },
          "execution_count": 13
        }
      ]
    },
    {
      "cell_type": "code",
      "metadata": {
        "id": "zGaNks0zVp5r",
        "colab_type": "code",
        "outputId": "be9fd21a-14e0-4268-b621-f93492851142",
        "colab": {
          "base_uri": "https://localhost:8080/",
          "height": 238
        }
      },
      "source": [
        "imagens_codificadas[0]"
      ],
      "execution_count": 14,
      "outputs": [
        {
          "output_type": "execute_result",
          "data": {
            "text/plain": [
              "array([0.        , 1.3918757 , 2.729403  , 1.3610253 , 0.        ,\n",
              "       0.8424265 , 0.        , 0.        , 0.8021135 , 0.        ,\n",
              "       0.        , 2.3711555 , 1.0216444 , 1.0022246 , 0.7264715 ,\n",
              "       2.010078  , 0.        , 0.95874816, 2.3440094 , 1.6034832 ,\n",
              "       1.7311517 , 3.126268  , 1.9183966 , 0.        , 1.6212763 ,\n",
              "       1.8889877 , 0.6033779 , 2.0597806 , 0.6489494 , 2.5705876 ,\n",
              "       0.        , 1.4218402 , 2.6653142 , 0.        , 0.        ,\n",
              "       0.4504723 , 0.        , 0.        , 0.        , 0.        ,\n",
              "       1.9918942 , 2.085389  , 1.4367081 , 1.0261955 , 0.        ,\n",
              "       2.0136425 , 1.1345999 , 2.6838064 , 2.761467  , 1.8816426 ,\n",
              "       1.2508643 , 0.        , 0.45294392, 0.        , 2.2221866 ,\n",
              "       0.        , 1.6550058 , 0.        , 0.        , 1.5618117 ,\n",
              "       2.2636216 , 0.        , 0.916713  , 2.3124776 ], dtype=float32)"
            ]
          },
          "metadata": {
            "tags": []
          },
          "execution_count": 14
        }
      ]
    },
    {
      "cell_type": "code",
      "metadata": {
        "id": "QaOJjSR8YoJL",
        "colab_type": "code",
        "outputId": "0c568224-002a-4200-8e41-fda0fef86125",
        "colab": {
          "base_uri": "https://localhost:8080/",
          "height": 34
        }
      },
      "source": [
        "# imagens decodificadas com 784\n",
        "imagens_codificadas.shape"
      ],
      "execution_count": 15,
      "outputs": [
        {
          "output_type": "execute_result",
          "data": {
            "text/plain": [
              "(55000, 64)"
            ]
          },
          "metadata": {
            "tags": []
          },
          "execution_count": 15
        }
      ]
    },
    {
      "cell_type": "code",
      "metadata": {
        "id": "lFSYNYafYubb",
        "colab_type": "code",
        "outputId": "6c074acb-839e-456e-904f-5946d3fc5f24",
        "colab": {
          "base_uri": "https://localhost:8080/",
          "height": 238
        }
      },
      "source": [
        "imagens_codificadas[0]"
      ],
      "execution_count": 16,
      "outputs": [
        {
          "output_type": "execute_result",
          "data": {
            "text/plain": [
              "array([0.        , 1.3918757 , 2.729403  , 1.3610253 , 0.        ,\n",
              "       0.8424265 , 0.        , 0.        , 0.8021135 , 0.        ,\n",
              "       0.        , 2.3711555 , 1.0216444 , 1.0022246 , 0.7264715 ,\n",
              "       2.010078  , 0.        , 0.95874816, 2.3440094 , 1.6034832 ,\n",
              "       1.7311517 , 3.126268  , 1.9183966 , 0.        , 1.6212763 ,\n",
              "       1.8889877 , 0.6033779 , 2.0597806 , 0.6489494 , 2.5705876 ,\n",
              "       0.        , 1.4218402 , 2.6653142 , 0.        , 0.        ,\n",
              "       0.4504723 , 0.        , 0.        , 0.        , 0.        ,\n",
              "       1.9918942 , 2.085389  , 1.4367081 , 1.0261955 , 0.        ,\n",
              "       2.0136425 , 1.1345999 , 2.6838064 , 2.761467  , 1.8816426 ,\n",
              "       1.2508643 , 0.        , 0.45294392, 0.        , 2.2221866 ,\n",
              "       0.        , 1.6550058 , 0.        , 0.        , 1.5618117 ,\n",
              "       2.2636216 , 0.        , 0.916713  , 2.3124776 ], dtype=float32)"
            ]
          },
          "metadata": {
            "tags": []
          },
          "execution_count": 16
        }
      ]
    },
    {
      "cell_type": "code",
      "metadata": {
        "id": "E8Sy2N7yYzKb",
        "colab_type": "code",
        "outputId": "cba7bb03-95e0-4fb3-ae9e-7c45c5fe5c83",
        "colab": {
          "base_uri": "https://localhost:8080/",
          "height": 34
        }
      },
      "source": [
        "# comparação entre a imgaem original, codificada e decodificada\n",
        "import numpy as np\n",
        "\n",
        "numero_imagens = 5\n",
        "# pega imagens aleatorias\n",
        "imagens_teste = np.random.randint(X.shape[0], size = numero_imagens)\n",
        "imagens_teste"
      ],
      "execution_count": 17,
      "outputs": [
        {
          "output_type": "execute_result",
          "data": {
            "text/plain": [
              "array([38170, 15649,  8608, 13715, 12251])"
            ]
          },
          "metadata": {
            "tags": []
          },
          "execution_count": 17
        }
      ]
    },
    {
      "cell_type": "code",
      "metadata": {
        "id": "wQIV_e3JZSOL",
        "colab_type": "code",
        "outputId": "acc7f484-6081-4601-c0b4-09fd0211c3c0",
        "colab": {
          "base_uri": "https://localhost:8080/",
          "height": 316
        }
      },
      "source": [
        "# cria uma figura para exibição\n",
        "# figsize é so o tamanho da exibição, nao interfere no tamanho original da imagem\n",
        "# vai ser utilizado o recurso de subplot, ou seja, um subgrafico, para colocar as imagens alinhadas lado a lado na mesma figura\n",
        "plt.figure(figsize = (18,18))\n",
        "for i, indice_imagem in enumerate(imagens_teste):\n",
        "  #print(i)\n",
        "  #print(indice_imagem)\n",
        "  # define a quantidade de linhas de graficos, colunas, e sua posicao atual\n",
        "  eixo = plt.subplot(10, 5, i +1)\n",
        "  #imagens originais\n",
        "  plt.imshow(X[indice_imagem].reshape(28, 28))\n",
        "  # remove os \"numeros\" ao redor da imagem\n",
        "  plt.xticks(())\n",
        "  plt.yticks(())\n",
        "\n",
        "  #imagens codificadas\n",
        "  # define a quantidade de linhas de graficos, colunas, e sua posicao atual (neste caso e somado, para ficar em posicao diferente da original)\n",
        "  eixo = plt.subplot(10, 5, i + 1 + numero_imagens)\n",
        "  #imagens alteradas\n",
        "  plt.imshow(imagens_codificadas[indice_imagem].reshape(8, 8))\n",
        "  # remove os \"numeros\" ao redor da imagem\n",
        "  plt.xticks(())\n",
        "  plt.yticks(())\n",
        "\n",
        "  #imagens decodificadas\n",
        "  # define a quantidade de linhas de graficos, colunas, e sua posicao atual (neste caso e multiplicado, para ficar em posicao diferente da original e codificada)\n",
        "  eixo = plt.subplot(10, 5, i + 1 + numero_imagens * 2)\n",
        "  #imagens decodificadas\n",
        "  plt.imshow(imagens_decodificadas[indice_imagem].reshape(28, 28))\n",
        "  # remove os \"numeros\" ao redor da imagem\n",
        "  plt.xticks(())\n",
        "  plt.yticks(())"
      ],
      "execution_count": 18,
      "outputs": [
        {
          "output_type": "display_data",
          "data": {
            "image/png": "[encoded data removed]",
            "text/plain": [
              "<Figure size 1296x1296 with 15 Axes>"
            ]
          },
          "metadata": {
            "tags": []
          }
        }
      ]
    }
  ]
}