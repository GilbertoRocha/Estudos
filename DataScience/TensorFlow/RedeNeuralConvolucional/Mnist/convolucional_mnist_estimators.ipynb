{
  "nbformat": 4,
  "nbformat_minor": 0,
  "metadata": {
    "colab": {
      "name": "convolucional_mnist_estimators_comentarios.ipynb",
      "version": "0.3.2",
      "provenance": [],
      "collapsed_sections": []
    },
    "kernelspec": {
      "name": "python3",
      "display_name": "Python 3"
    },
    "accelerator": "GPU"
  },
  "cells": [
    {
      "cell_type": "code",
      "metadata": {
        "id": "y3Ao-r386oK5",
        "colab_type": "code",
        "outputId": "bce63ba3-efdb-4c27-ac7b-f52955143f42",
        "colab": {
          "base_uri": "https://localhost:8080/",
          "height": 490
        }
      },
      "source": [
        "import numpy as np\n",
        "from tensorflow.examples.tutorials.mnist import input_data\n",
        "mnist = input_data.read_data_sets('mnist/', one_hot = False)"
      ],
      "execution_count": 0,
      "outputs": [
        {
          "output_type": "stream",
          "text": [
            "WARNING: Logging before flag parsing goes to stderr.\n",
            "W0730 07:50:14.842251 139658372028288 deprecation.py:323] From <ipython-input-1-8a2d40bc1ba6>:3: read_data_sets (from tensorflow.contrib.learn.python.learn.datasets.mnist) is deprecated and will be removed in a future version.\n",
            "Instructions for updating:\n",
            "Please use alternatives such as official/mnist/dataset.py from tensorflow/models.\n",
            "W0730 07:50:14.844196 139658372028288 deprecation.py:323] From /usr/local/lib/python3.6/dist-packages/tensorflow/contrib/learn/python/learn/datasets/mnist.py:260: maybe_download (from tensorflow.contrib.learn.python.learn.datasets.base) is deprecated and will be removed in a future version.\n",
            "Instructions for updating:\n",
            "Please write your own downloading logic.\n",
            "W0730 07:50:14.845693 139658372028288 deprecation.py:323] From /usr/local/lib/python3.6/dist-packages/tensorflow/contrib/learn/python/learn/datasets/base.py:252: _internal_retry.<locals>.wrap.<locals>.wrapped_fn (from tensorflow.contrib.learn.python.learn.datasets.base) is deprecated and will be removed in a future version.\n",
            "Instructions for updating:\n",
            "Please use urllib or similar directly.\n",
            "W0730 07:50:14.959648 139658372028288 deprecation.py:323] From /usr/local/lib/python3.6/dist-packages/tensorflow/contrib/learn/python/learn/datasets/mnist.py:262: extract_images (from tensorflow.contrib.learn.python.learn.datasets.mnist) is deprecated and will be removed in a future version.\n",
            "Instructions for updating:\n",
            "Please use tf.data to implement this functionality.\n"
          ],
          "name": "stderr"
        },
        {
          "output_type": "stream",
          "text": [
            "Successfully downloaded train-images-idx3-ubyte.gz 9912422 bytes.\n",
            "Extracting mnist/train-images-idx3-ubyte.gz\n"
          ],
          "name": "stdout"
        },
        {
          "output_type": "stream",
          "text": [
            "W0730 07:50:15.253129 139658372028288 deprecation.py:323] From /usr/local/lib/python3.6/dist-packages/tensorflow/contrib/learn/python/learn/datasets/mnist.py:267: extract_labels (from tensorflow.contrib.learn.python.learn.datasets.mnist) is deprecated and will be removed in a future version.\n",
            "Instructions for updating:\n",
            "Please use tf.data to implement this functionality.\n",
            "W0730 07:50:15.342140 139658372028288 deprecation.py:323] From /usr/local/lib/python3.6/dist-packages/tensorflow/contrib/learn/python/learn/datasets/mnist.py:290: DataSet.__init__ (from tensorflow.contrib.learn.python.learn.datasets.mnist) is deprecated and will be removed in a future version.\n",
            "Instructions for updating:\n",
            "Please use alternatives such as official/mnist/dataset.py from tensorflow/models.\n"
          ],
          "name": "stderr"
        },
        {
          "output_type": "stream",
          "text": [
            "Successfully downloaded train-labels-idx1-ubyte.gz 28881 bytes.\n",
            "Extracting mnist/train-labels-idx1-ubyte.gz\n",
            "Successfully downloaded t10k-images-idx3-ubyte.gz 1648877 bytes.\n",
            "Extracting mnist/t10k-images-idx3-ubyte.gz\n",
            "Successfully downloaded t10k-labels-idx1-ubyte.gz 4542 bytes.\n",
            "Extracting mnist/t10k-labels-idx1-ubyte.gz\n"
          ],
          "name": "stdout"
        }
      ]
    },
    {
      "cell_type": "code",
      "metadata": {
        "id": "TAyCPHR88bio",
        "colab_type": "code",
        "colab": {}
      },
      "source": [
        "x_treinamento = mnist.train.images\n",
        "y_treinamento = mnist.train.labels\n",
        "\n",
        "x_teste = mnist.test.images\n",
        "y_teste = mnist.test.labels"
      ],
      "execution_count": 0,
      "outputs": []
    },
    {
      "cell_type": "code",
      "metadata": {
        "id": "zHmMff5V3SjX",
        "colab_type": "code",
        "colab": {}
      },
      "source": [
        "#converte para array de inteiro 32 bit, necessário para passar como \"labels\" no tensorflow\n",
        "y_treinamento = np.asarray(y_treinamento, dtype = np.int32)\n",
        "y_teste = np.asarray(y_teste, dtype = np.int32)"
      ],
      "execution_count": 0,
      "outputs": []
    },
    {
      "cell_type": "code",
      "metadata": {
        "id": "bTR59Ofg9rxV",
        "colab_type": "code",
        "outputId": "bef59eb6-767f-48b5-f44b-a152fa25d241",
        "colab": {
          "base_uri": "https://localhost:8080/",
          "height": 34
        }
      },
      "source": [
        "x_treinamento.shape"
      ],
      "execution_count": 0,
      "outputs": [
        {
          "output_type": "execute_result",
          "data": {
            "text/plain": [
              "(55000, 784)"
            ]
          },
          "metadata": {
            "tags": []
          },
          "execution_count": 4
        }
      ]
    },
    {
      "cell_type": "code",
      "metadata": {
        "id": "rh65ANp4-G6z",
        "colab_type": "code",
        "outputId": "a31590f6-3afc-45df-f19f-c13fa9b91505",
        "colab": {
          "base_uri": "https://localhost:8080/",
          "height": 34
        }
      },
      "source": [
        "x_teste.shape"
      ],
      "execution_count": 0,
      "outputs": [
        {
          "output_type": "execute_result",
          "data": {
            "text/plain": [
              "(10000, 784)"
            ]
          },
          "metadata": {
            "tags": []
          },
          "execution_count": 5
        }
      ]
    },
    {
      "cell_type": "code",
      "metadata": {
        "id": "2bn_tJC8CwN5",
        "colab_type": "code",
        "outputId": "433848df-b22e-478a-b1a9-ce7661807fc9",
        "colab": {
          "base_uri": "https://localhost:8080/",
          "height": 134
        }
      },
      "source": [
        "x_treinamento"
      ],
      "execution_count": 0,
      "outputs": [
        {
          "output_type": "execute_result",
          "data": {
            "text/plain": [
              "array([[0., 0., 0., ..., 0., 0., 0.],\n",
              "       [0., 0., 0., ..., 0., 0., 0.],\n",
              "       [0., 0., 0., ..., 0., 0., 0.],\n",
              "       ...,\n",
              "       [0., 0., 0., ..., 0., 0., 0.],\n",
              "       [0., 0., 0., ..., 0., 0., 0.],\n",
              "       [0., 0., 0., ..., 0., 0., 0.]], dtype=float32)"
            ]
          },
          "metadata": {
            "tags": []
          },
          "execution_count": 6
        }
      ]
    },
    {
      "cell_type": "code",
      "metadata": {
        "id": "G6TABzlICymA",
        "colab_type": "code",
        "outputId": "dc6f7986-c4c4-4d82-a742-6496a459d41a",
        "colab": {
          "base_uri": "https://localhost:8080/",
          "height": 34
        }
      },
      "source": [
        "y_treinamento"
      ],
      "execution_count": 0,
      "outputs": [
        {
          "output_type": "execute_result",
          "data": {
            "text/plain": [
              "array([7, 3, 4, ..., 5, 6, 8], dtype=int32)"
            ]
          },
          "metadata": {
            "tags": []
          },
          "execution_count": 7
        }
      ]
    },
    {
      "cell_type": "code",
      "metadata": {
        "id": "hcMNI6rOC0pU",
        "colab_type": "code",
        "outputId": "8fc77f26-9372-4c90-e6c1-2506027efd5b",
        "colab": {
          "base_uri": "https://localhost:8080/",
          "height": 298
        }
      },
      "source": [
        "import matplotlib.pyplot as plt\n",
        "%matplotlib inline\n",
        "#exibe em formato de imagem um dos itens, da o reshape porque o item esta em formato de vetor, e nao em matriz de 28X28, que e o formato original da imagem\n",
        "plt.title('Classe: ' + str(y_treinamento[0]))\n",
        "plt.imshow(x_treinamento[0].reshape([28,28]), cmap='gray')"
      ],
      "execution_count": 0,
      "outputs": [
        {
          "output_type": "execute_result",
          "data": {
            "text/plain": [
              "<matplotlib.image.AxesImage at 0x7f0467307be0>"
            ]
          },
          "metadata": {
            "tags": []
          },
          "execution_count": 8
        },
        {
          "output_type": "display_data",
          "data": {
            "image/png": "[encoded data removed]",
            "text/plain": [
              "<Figure size 432x288 with 1 Axes>"
            ]
          },
          "metadata": {
            "tags": []
          }
        }
      ]
    },
    {
      "cell_type": "code",
      "metadata": {
        "id": "_vXn7fWREc8t",
        "colab_type": "code",
        "colab": {}
      },
      "source": [
        "import tensorflow as tf"
      ],
      "execution_count": 0,
      "outputs": []
    },
    {
      "cell_type": "code",
      "metadata": {
        "id": "6EuBgl4XEfK-",
        "colab_type": "code",
        "colab": {}
      },
      "source": [
        "# sera criado um estimator personalizado para a CNN\n",
        "# para criar o estimator, precisamos de uma function, que tenha os parametros ja pre definidos conforme documentacao do tensorflow\n",
        "# o nome dos parametros PRECISA ser identico ao especificado na documentacao\n",
        "# features = dados de entrada que serão previstos\n",
        "# labels = resultado já determinado, usado para o treinamento\n",
        "# mode = indica qual modo está o estimator no momento, esse parametro é implicito, passado automaticamente pelo tensorflow\n",
        "#   e ainda pode ter tres valores, TRAIN para treinamento, EVAL para testes e PREDICT para prever (produção)\n",
        "def cria_rede(features, labels, mode):\n",
        "  # coloca a features no formato do tf, com alias 'x', e com os demais parametros\n",
        "  # batch_size, altura, largura, canais\n",
        "  # batch_size fica -1, porque sera definido mais tarde\n",
        "  # canais so vai ter 1 porque esta em escala de cinza, se fosse colorido seriam 3(RGB)\n",
        "  entrada = tf.reshape(features['x'], [-1, 28, 28, 1])\n",
        "  \n",
        "  # vai ser criado duas camadas de convolução\n",
        "  # conv2d e uma camada já especifica para CNN\n",
        "  # inputs = entrada dos dados\n",
        "  # filters = quantidade de detector de caracteristicas\n",
        "  # kernel_size = tamanho dos detectores de caracteristicas (5x5 e um tamanho recomendado na documentacao do tensorflow)\n",
        "  # activation = função de ativação da saida do detector de caracteristicas\n",
        "  # padding = muda a altura e largura das imagens (same preserva o tamanho original)\n",
        "  # recebe [batch_size, 28, 28, 1]\n",
        "  #retorna [batch_size, 28, 28, 32], aonde 32 serão os filtros criados, e nao os canais de cores como recebe\n",
        "  convolucao1 = tf.layers.conv2d(inputs = entrada, filters = 32, kernel_size = [5,5], activation = tf.nn.relu, padding = 'same')\n",
        "  \n",
        "  # camada de pooling\n",
        "  # inputs = recebe os dados do detector de caracteristicas\n",
        "  # pool_size = tamanho da area de matriz que será feito o max\n",
        "  # strides = indica quanto registros o pool_size deve se mover para formar um novo pool_size, ou quanto deve \"andar\" o pool_size\n",
        "  # vai retornar uma matriz 14x14\n",
        "  # recebe [bach_size, 28, 28, 32]\n",
        "  # retorna [bach_size, 14, 14, 32]\n",
        "  pooling1 = tf.layers.max_pooling2d(inputs = convolucao1, pool_size = [2,2], strides = 2)\n",
        "  \n",
        "  #segunda camanda de convolucao, baseada no resultado da primeira\n",
        "  # recebe [bach_size, 14, 14, 32]\n",
        "  # retorna [bach_size, 14, 14, 64]  \n",
        "  convolucao2 = tf.layers.conv2d(inputs = pooling1, filters = 64, kernel_size = [5,5], activation = tf.nn.relu, padding = 'same')\n",
        "  \n",
        "  # recebe [bach_size, 14, 14, 64]\n",
        "  # retorna [bach_size, 7, 7, 64]    \n",
        "  pooling2 = tf.layers.max_pooling2d(inputs = convolucao2, pool_size = [2,2], strides = 2)\n",
        "  \n",
        "  # recebe [batch_size, 7, 7, 64]\n",
        "  # retornar [batch_size, 3136]\n",
        "  # transforma as matrizes em vetores\n",
        "  # o tamanho do vetor é 7 * 7 por causa das dimensoes da matriz, e o 8 64 é pro causa dos mapas gerados\n",
        "  # assim os varios mapas vão entrar na rede neural\n",
        "  flattening = tf.reshape(pooling2, [-1, 7 * 7 * 64])\n",
        "  \n",
        "  # somente uma cada oculta\n",
        "  # 3136 (entradas) -> 1024 (oculta) -> 10 (saida)\n",
        "  # recebe [batch_size, 3136]\n",
        "  # retorna [batch_size, 1024]\n",
        "  densa = tf.layers.dense(inputs = flattening, units = 1024, activation = tf.nn.relu)\n",
        "  \n",
        "  # dropout\n",
        "  # visa zerar as entradas de alguns neuronios, conforme especificado\n",
        "  # é bom para evitar o processamento muito alto (neste exemplo, a densa receberia 3136 atributos e teria 1024 na camada oculta, \n",
        "  #    gerando um numero muito alto de pesos = 3136 * 1024)\n",
        "  # é bom para evitar o overfiting\n",
        "  # inputs = o que deseja zerar\n",
        "  # rate = o percentual que deseja zerar\n",
        "  # Cuidar para nao zerar muitos registros\n",
        "  # Também so deve ser executado no treinamento, quando for fazer a previsao ou validacao(testes), nao deve realizar o dropout\n",
        "  dropout = tf.layers.dropout(inputs = densa, rate = 0.2, training = mode == tf.estimator.ModeKeys.TRAIN)\n",
        "  \n",
        "  # vai fazer a ligação entre a camada oculta e a camada de saida\n",
        "  # recebe [batch_size, 1024]\n",
        "  # retorna [batch_size, 10]\n",
        "  saida = tf.layers.dense(inputs = dropout, units = 10)\n",
        "  \n",
        "  # define o valor da previsao.\n",
        "  #usando argmax, para saber a posiçao do vetor de saida de maior valor, indicando que é a maior probabilidade\n",
        "  previsoes = tf.argmax(saida, axis = 1)\n",
        "  \n",
        "  \n",
        "  # ETAPAS PERTINENTES A PREVISAO (tem que ficar aqui, antes do erro = pois senão da erro)\n",
        "  if mode == tf.estimator.ModeKeys.PREDICT:\n",
        "    # retornar o estimator passando o que deve ser previsto\n",
        "    # mode = mode, etapa que esta atualmente, vai ser executado somente durante a previsao\n",
        "    # predictions = previsoes, recebe as previsões já realizada pela rede\n",
        "    return tf.estimator.EstimatorSpec(mode = mode, predictions = previsoes)\n",
        "  \n",
        "\n",
        "  # Cria o calculo de erro\n",
        "  # aqui é usado o sparse_softmax_cross_entropy, porque os dados de classe não foram tratados no one hot encoder\n",
        "  # ou seja, não estão em formato 1 = [0,0,0,0,0,0,0,0,1], e sim [1]\n",
        "  # quando se tem muitas classes, usar o sparse_softmax_cross_entropy pode acelerar o processo de treino\n",
        "  # labels = sao as classes ja conhecidas\n",
        "  # logits = e a saida da rede (previsao)\n",
        "  erro = tf.losses.sparse_softmax_cross_entropy(labels = labels, logits = saida)\n",
        "  \n",
        "  # ETAPAS PERTINENTES AO TREINAMENTO APENAS\n",
        "  if mode == tf.estimator.ModeKeys.TRAIN:\n",
        "    # cria o otimizador\n",
        "    # learning_rate = recebe a taxa de aprendizado que a rede vai possuir\n",
        "    otimizador = tf.train.AdamOptimizer(learning_rate = 0.001)\n",
        "\n",
        "    #faz o treinamento\n",
        "    # global_step = tf.train.get_global_step() é uma flag para que o tensoflow salve e utilize os valores anteriores, para conseguir treinar. Assim ele sabe em que step ele esta\n",
        "    treinamento = otimizador.minimize(erro, global_step = tf.train.get_global_step())\n",
        "  \n",
        "    #retorna a estrutura no formato de um estimator no tensorflow\n",
        "    return tf.estimator.EstimatorSpec(mode = mode, loss = erro, train_op = treinamento)\n",
        "  \n",
        "  # ETAPAS PERTINENTES A PARTE DE AVALIAÇÃO(testes)\n",
        "  if mode == tf.estimator.ModeKeys.EVAL:\n",
        "    # Cria um registro de dicionario que vai conter os dados de precisao do teste feito\n",
        "    # labels = labels, recebe o valor que deveria ser\n",
        "    # predictions = previsoes, recebe o valor que foi previsto\n",
        "    eval_metrics_ops = {'accuracy': tf.metrics.accuracy(labels = labels, predictions = previsoes)}\n",
        "    \n",
        "    # retorna a estrutura pertinente aos testes, apontado a precisão e erro\n",
        "    # mode = mode, recebe o mode passado implicitamente pelo tensorflow, que vai indicar a classe o modo atual (teste)\n",
        "    # loss = erro, recebe a formula de erro\n",
        "    # val_metric_ops = eval_metrics_ops, manda a estrutura de validação para ser agregada a estrutura final\n",
        "    return tf.estimator.EstimatorSpec(mode = mode, loss = erro, eval_metric_ops = eval_metrics_ops)\n",
        " \n"
      ],
      "execution_count": 0,
      "outputs": []
    },
    {
      "cell_type": "code",
      "metadata": {
        "id": "be41_9bHHMuA",
        "colab_type": "code",
        "outputId": "c98f1d5d-111a-4157-8b78-152b3059e547",
        "colab": {
          "base_uri": "https://localhost:8080/",
          "height": 34
        }
      },
      "source": [
        "#cria o estimator\n",
        "classificador = tf.estimator.Estimator(model_fn = cria_rede)"
      ],
      "execution_count": 0,
      "outputs": [
        {
          "output_type": "stream",
          "text": [
            "W0730 07:50:16.069924 139658372028288 estimator.py:1811] Using temporary folder as model directory: /tmp/tmpgdxd22o2\n"
          ],
          "name": "stderr"
        }
      ]
    },
    {
      "cell_type": "code",
      "metadata": {
        "id": "Cai2X7F8HXZn",
        "colab_type": "code",
        "outputId": "10f288a5-8c0b-4c04-90fc-ec0edc65a242",
        "colab": {
          "base_uri": "https://localhost:8080/",
          "height": 558
        }
      },
      "source": [
        "# cria a funcao de treinamento\n",
        "# o x recebe um dicionario contendo o nome criado no cria_rede (features), para linkar o x_treinamento\n",
        "# o y recebe direto o y_treinamento\n",
        "# num_epochs é None porque ele sera definido mais adiante\n",
        "# shuffle para enbaralhar o conteudo passado em x e y\n",
        "funcao_treinamento = tf.estimator.inputs.numpy_input_fn(x = {'x' : x_treinamento},\n",
        "                                                       y = y_treinamento,\n",
        "                                                       batch_size = 128,\n",
        "                                                       num_epochs = None,\n",
        "                                                       shuffle = True)\n",
        "\n",
        "#realiza o treinamento\n",
        "classificador.train(input_fn = funcao_treinamento, steps = 200)"
      ],
      "execution_count": 0,
      "outputs": [
        {
          "output_type": "stream",
          "text": [
            "W0730 07:50:16.096970 139658372028288 deprecation.py:323] From /usr/local/lib/python3.6/dist-packages/tensorflow/python/training/training_util.py:236: Variable.initialized_value (from tensorflow.python.ops.variables) is deprecated and will be removed in a future version.\n",
            "Instructions for updating:\n",
            "Use Variable.read_value. Variables in 2.X are initialized automatically both in eager and graph (inside tf.defun) contexts.\n",
            "W0730 07:50:16.118667 139658372028288 deprecation.py:323] From /usr/local/lib/python3.6/dist-packages/tensorflow_estimator/python/estimator/inputs/queues/feeding_queue_runner.py:62: QueueRunner.__init__ (from tensorflow.python.training.queue_runner_impl) is deprecated and will be removed in a future version.\n",
            "Instructions for updating:\n",
            "To construct input pipelines, use the `tf.data` module.\n",
            "W0730 07:50:16.122701 139658372028288 deprecation.py:323] From /usr/local/lib/python3.6/dist-packages/tensorflow_estimator/python/estimator/inputs/queues/feeding_functions.py:500: add_queue_runner (from tensorflow.python.training.queue_runner_impl) is deprecated and will be removed in a future version.\n",
            "Instructions for updating:\n",
            "To construct input pipelines, use the `tf.data` module.\n",
            "W0730 07:50:16.138862 139658372028288 deprecation.py:323] From <ipython-input-10-a597623085e2>:17: conv2d (from tensorflow.python.layers.convolutional) is deprecated and will be removed in a future version.\n",
            "Instructions for updating:\n",
            "Use `tf.keras.layers.Conv2D` instead.\n",
            "W0730 07:50:16.144721 139658372028288 deprecation.py:506] From /usr/local/lib/python3.6/dist-packages/tensorflow/python/ops/init_ops.py:1251: calling VarianceScaling.__init__ (from tensorflow.python.ops.init_ops) with dtype is deprecated and will be removed in a future version.\n",
            "Instructions for updating:\n",
            "Call initializer instance with the dtype argument instead of passing it to the constructor\n",
            "W0730 07:50:16.414926 139658372028288 deprecation.py:323] From <ipython-input-10-a597623085e2>:26: max_pooling2d (from tensorflow.python.layers.pooling) is deprecated and will be removed in a future version.\n",
            "Instructions for updating:\n",
            "Use keras.layers.MaxPooling2D instead.\n",
            "W0730 07:50:16.717756 139658372028288 deprecation.py:323] From <ipython-input-10-a597623085e2>:48: dense (from tensorflow.python.layers.core) is deprecated and will be removed in a future version.\n",
            "Instructions for updating:\n",
            "Use keras.layers.dense instead.\n",
            "W0730 07:50:17.051760 139658372028288 deprecation.py:323] From <ipython-input-10-a597623085e2>:59: dropout (from tensorflow.python.layers.core) is deprecated and will be removed in a future version.\n",
            "Instructions for updating:\n",
            "Use keras.layers.dropout instead.\n",
            "W0730 07:50:17.159393 139658372028288 deprecation.py:323] From /usr/local/lib/python3.6/dist-packages/tensorflow/python/ops/losses/losses_impl.py:121: add_dispatch_support.<locals>.wrapper (from tensorflow.python.ops.array_ops) is deprecated and will be removed in a future version.\n",
            "Instructions for updating:\n",
            "Use tf.where in 2.0, which has the same broadcast rule as np.where\n",
            "W0730 07:50:20.664048 139658372028288 deprecation.py:323] From /usr/local/lib/python3.6/dist-packages/tensorflow/python/training/monitored_session.py:875: start_queue_runners (from tensorflow.python.training.queue_runner_impl) is deprecated and will be removed in a future version.\n",
            "Instructions for updating:\n",
            "To construct input pipelines, use the `tf.data` module.\n"
          ],
          "name": "stderr"
        },
        {
          "output_type": "execute_result",
          "data": {
            "text/plain": [
              "<tensorflow_estimator.python.estimator.estimator.Estimator at 0x7f0467269940>"
            ]
          },
          "metadata": {
            "tags": []
          },
          "execution_count": 12
        }
      ]
    },
    {
      "cell_type": "code",
      "metadata": {
        "id": "YOi54zfDuUqh",
        "colab_type": "code",
        "outputId": "19631df9-3a2c-4aca-d464-8c2beff517a0",
        "colab": {
          "base_uri": "https://localhost:8080/",
          "height": 104
        }
      },
      "source": [
        "#função para testar\n",
        "funcao_teste = tf.estimator.inputs.numpy_input_fn(x = {'x' : x_teste}, y= y_teste, num_epochs = 1, shuffle = False)\n",
        "resultado = classificador.evaluate(input_fn = funcao_teste)\n",
        "print(resultado)"
      ],
      "execution_count": 0,
      "outputs": [
        {
          "output_type": "stream",
          "text": [
            "W0730 07:50:27.642342 139658372028288 deprecation.py:323] From /usr/local/lib/python3.6/dist-packages/tensorflow/python/training/saver.py:1276: checkpoint_exists (from tensorflow.python.training.checkpoint_management) is deprecated and will be removed in a future version.\n",
            "Instructions for updating:\n",
            "Use standard file APIs to check for files with this prefix.\n"
          ],
          "name": "stderr"
        },
        {
          "output_type": "stream",
          "text": [
            "{'accuracy': 0.9772, 'loss': 0.07271737, 'global_step': 200}\n"
          ],
          "name": "stdout"
        }
      ]
    },
    {
      "cell_type": "code",
      "metadata": {
        "id": "dcZMIQE-TIno",
        "colab_type": "code",
        "outputId": "ab207cd4-d08a-433c-f7c0-6ed9ead91f1c",
        "colab": {
          "base_uri": "https://localhost:8080/",
          "height": 34
        }
      },
      "source": [
        "# realizando uma previsão, usando uma imagem da propria base\n",
        "x_imagem_teste = x_teste[0]\n",
        "# o shape da imagem está como (784,), como um vetor, mas para testar precisa adicionar uma coluna a frente, para ficar no formato de matriz, por isso o reshape\n",
        "x_imagem_teste = x_imagem_teste.reshape(1,-1)\n",
        "x_imagem_teste.shape"
      ],
      "execution_count": 0,
      "outputs": [
        {
          "output_type": "execute_result",
          "data": {
            "text/plain": [
              "(1, 784)"
            ]
          },
          "metadata": {
            "tags": []
          },
          "execution_count": 14
        }
      ]
    },
    {
      "cell_type": "code",
      "metadata": {
        "id": "n0cKUwqAUEyY",
        "colab_type": "code",
        "colab": {}
      },
      "source": [
        "x_imagem_teste"
      ],
      "execution_count": 0,
      "outputs": []
    },
    {
      "cell_type": "code",
      "metadata": {
        "id": "NLNCn7XRUKW4",
        "colab_type": "code",
        "outputId": "10f785ed-6e06-47c8-ef5d-8a6c8a972693",
        "colab": {
          "base_uri": "https://localhost:8080/",
          "height": 34
        }
      },
      "source": [
        "#cria a função para previsão, propriamente dito\n",
        "#shuffle não tem efeito aqui pq tem 1 registro so\n",
        "funcao_previsao = tf.estimator.inputs.numpy_input_fn(x = {'x':x_imagem_teste}, shuffle = False)\n",
        "#gera a previsão\n",
        "pred = list(classificador.predict(input_fn = funcao_previsao))\n",
        "\n",
        "print(pred)"
      ],
      "execution_count": 0,
      "outputs": [
        {
          "output_type": "stream",
          "text": [
            "[7]\n"
          ],
          "name": "stdout"
        }
      ]
    },
    {
      "cell_type": "code",
      "metadata": {
        "id": "G2jpS0cM77Ku",
        "colab_type": "code",
        "colab": {}
      },
      "source": [
        ""
      ],
      "execution_count": 0,
      "outputs": []
    },
    {
      "cell_type": "code",
      "metadata": {
        "id": "tPBDwIwp3bWE",
        "colab_type": "code",
        "outputId": "64239096-e867-4a4b-a65c-c142266f6619",
        "colab": {
          "base_uri": "https://localhost:8080/",
          "height": 298
        }
      },
      "source": [
        "# verifica a previsao\n",
        "plt.imshow(x_imagem_teste.reshape((28,28)), cmap = 'gray')\n",
        "plt.title(\"Classe prevista: \" + str(pred[0]))"
      ],
      "execution_count": 0,
      "outputs": [
        {
          "output_type": "execute_result",
          "data": {
            "text/plain": [
              "Text(0.5, 1.0, 'Classe prevista: 7')"
            ]
          },
          "metadata": {
            "tags": []
          },
          "execution_count": 19
        },
        {
          "output_type": "display_data",
          "data": {
            "image/png": "[encoded data removed]",
            "text/plain": [
              "<Figure size 432x288 with 1 Axes>"
            ]
          },
          "metadata": {
            "tags": []
          }
        }
      ]
    }
  ]
}