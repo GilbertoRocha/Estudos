{
  "nbformat": 4,
  "nbformat_minor": 0,
  "metadata": {
    "colab": {
      "name": "Regressao_linear_simples_base_cars",
      "provenance": [],
      "collapsed_sections": [],
      "authorship_tag": "ABX9TyO56v5uZ/56QrHqjmZxGek6",
      "include_colab_link": true
    },
    "kernelspec": {
      "name": "python3",
      "display_name": "Python 3"
    }
  },
  "cells": [
    {
      "cell_type": "markdown",
      "metadata": {
        "id": "view-in-github",
        "colab_type": "text"
      },
      "source": [
        "<a href=\"https://colab.research.google.com/github/GilbertoRocha/Estudos/blob/master/FormacaoCientistaDadosPythoneR/Python/Regressao_linear_simples_base_cars.ipynb\" target=\"_parent\"><img src=\"https://colab.research.google.com/assets/colab-badge.svg\" alt=\"Open In Colab\"/></a>"
      ]
    },
    {
      "cell_type": "markdown",
      "metadata": {
        "id": "G6eZlxt5bySp",
        "colab_type": "text"
      },
      "source": [
        "Exemplo de regressao linear simples, do curso \"Formação Cientista de Dados com Python e R\n",
        "\n",
        "Regressão lienar simples deve ser usado quando existe apenas uma variável explanatoria para prever uma variáel dependente\n",
        "\n",
        "\n",
        "Quando usar:\n",
        "\n",
        "a correlação for considerada moderada ou forte entre as duas variaveis, digamos acima de 0.75 ou menor -0.75 (correlação negativa)\n",
        "\n",
        "Coeficiente de determinação (R²)\n",
        "\n",
        "*   maior que 0.7 é otimo\n",
        "*   entre 0.7 e 0.3, tem que ser avaliado\n",
        "*   menor que 0.3 é ruim\n",
        "\n",
        "Residuais padronizados proximos a distribuição normal\n",
        "\n",
        "\n",
        "\n",
        "\n"
      ]
    },
    {
      "cell_type": "code",
      "metadata": {
        "id": "oiysjmI2bm3k",
        "colab_type": "code",
        "colab": {}
      },
      "source": [
        "# Bibliotecas\n",
        "import pandas as pd\n",
        "import numpy as np\n",
        "import matplotlib.pyplot as plt\n",
        "from sklearn.linear_model import LinearRegression\n",
        "%matplotlib inline\n",
        "from yellowbrick.regressor import ResidualsPlot"
      ],
      "execution_count": 0,
      "outputs": []
    },
    {
      "cell_type": "code",
      "metadata": {
        "id": "RaHrx0izcscw",
        "colab_type": "code",
        "colab": {}
      },
      "source": [
        "# Carrega a base, neste caso como nao vou importar o arquivo CSV, vou montar manualmente\n",
        "dados_speed = [4, 4, 7, 7, 8, 9, 10, 10, 10, 11, 11, 12, 12, 12, 12, 13, 13, 13, 13, 14, 14, 14, 14, 15, 15, 15, 16, 16, 17, 17, 17, 18, 18, 18, 18, 19, 19, 19, 20, 20, 20, 20, 20, 22, 23, 24, 24, 24, 24, 25]\n",
        "dados_dist = [2, 10, 4, 22, 16, 10, 18, 26, 34, 17, 28, 14, 20, 24, 28, 26, 34, 34, 46, 26, 36, 60, 80, 20, 26, 54, 32, 40, 32, 40, 50, 42, 56, 76, 84, 36, 46, 68, 32, 48, 52, 56, 64, 66, 54, 70, 92, 93, 120, 85]\n",
        "colunas = ['speed', 'dist']\n",
        "base = pd.DataFrame(data=list(zip(dados_speed, dados_dist)), columns=colunas)"
      ],
      "execution_count": 0,
      "outputs": []
    },
    {
      "cell_type": "code",
      "metadata": {
        "id": "aQiEsYkPg5Bn",
        "colab_type": "code",
        "outputId": "6333071b-c0fa-47d0-d8fa-0eb6882775b5",
        "colab": {
          "base_uri": "https://localhost:8080/",
          "height": 195
        }
      },
      "source": [
        "base.head()"
      ],
      "execution_count": 3,
      "outputs": [
        {
          "output_type": "execute_result",
          "data": {
            "text/html": [
              "<div>\n",
              "<style scoped>\n",
              "    .dataframe tbody tr th:only-of-type {\n",
              "        vertical-align: middle;\n",
              "    }\n",
              "\n",
              "    .dataframe tbody tr th {\n",
              "        vertical-align: top;\n",
              "    }\n",
              "\n",
              "    .dataframe thead th {\n",
              "        text-align: right;\n",
              "    }\n",
              "</style>\n",
              "<table border=\"1\" class=\"dataframe\">\n",
              "  <thead>\n",
              "    <tr style=\"text-align: right;\">\n",
              "      <th></th>\n",
              "      <th>speed</th>\n",
              "      <th>dist</th>\n",
              "    </tr>\n",
              "  </thead>\n",
              "  <tbody>\n",
              "    <tr>\n",
              "      <th>0</th>\n",
              "      <td>4</td>\n",
              "      <td>2</td>\n",
              "    </tr>\n",
              "    <tr>\n",
              "      <th>1</th>\n",
              "      <td>4</td>\n",
              "      <td>10</td>\n",
              "    </tr>\n",
              "    <tr>\n",
              "      <th>2</th>\n",
              "      <td>7</td>\n",
              "      <td>4</td>\n",
              "    </tr>\n",
              "    <tr>\n",
              "      <th>3</th>\n",
              "      <td>7</td>\n",
              "      <td>22</td>\n",
              "    </tr>\n",
              "    <tr>\n",
              "      <th>4</th>\n",
              "      <td>8</td>\n",
              "      <td>16</td>\n",
              "    </tr>\n",
              "  </tbody>\n",
              "</table>\n",
              "</div>"
            ],
            "text/plain": [
              "   speed  dist\n",
              "0      4     2\n",
              "1      4    10\n",
              "2      7     4\n",
              "3      7    22\n",
              "4      8    16"
            ]
          },
          "metadata": {
            "tags": []
          },
          "execution_count": 3
        }
      ]
    },
    {
      "cell_type": "code",
      "metadata": {
        "id": "xTscpeOpFXQ5",
        "colab_type": "code",
        "colab": {}
      },
      "source": [
        "\n",
        "# Define o X e Y\n",
        "X = base.iloc[:, 1].values\n",
        "y = base.iloc[:, 0].values"
      ],
      "execution_count": 0,
      "outputs": []
    },
    {
      "cell_type": "code",
      "metadata": {
        "id": "VRUYLf5aFlam",
        "colab_type": "code",
        "colab": {
          "base_uri": "https://localhost:8080/",
          "height": 50
        },
        "outputId": "a4b02f3a-d843-4b6e-8b23-dc6678a61e17"
      },
      "source": [
        "# verifica a correlacao entre a distancia e velocidade\n",
        "correlacao = np.corrcoef(X, y)\n",
        "print(correlacao)"
      ],
      "execution_count": 12,
      "outputs": [
        {
          "output_type": "stream",
          "text": [
            "[[1.        0.8068949]\n",
            " [0.8068949 1.       ]]\n"
          ],
          "name": "stdout"
        }
      ]
    },
    {
      "cell_type": "code",
      "metadata": {
        "id": "dZ5Yu21BF2-e",
        "colab_type": "code",
        "colab": {
          "base_uri": "https://localhost:8080/",
          "height": 34
        },
        "outputId": "f03a8c17-fb25-4cb7-f388-c1efe8136754"
      },
      "source": [
        "# Como a correlacao é forte, então é possivel fazer o modelo de regressão\n",
        "\n",
        "# muda o formato para matriz, por conta do modelo de regressao linear\n",
        "X = X.reshape(-1,1)\n",
        "\n",
        "\n",
        "# cria o modelo\n",
        "modelo = LinearRegression()\n",
        "# treina ele\n",
        "modelo.fit(X,y)\n"
      ],
      "execution_count": 13,
      "outputs": [
        {
          "output_type": "execute_result",
          "data": {
            "text/plain": [
              "LinearRegression(copy_X=True, fit_intercept=True, n_jobs=None, normalize=False)"
            ]
          },
          "metadata": {
            "tags": []
          },
          "execution_count": 13
        }
      ]
    },
    {
      "cell_type": "code",
      "metadata": {
        "id": "XeY38HHeG4Q5",
        "colab_type": "code",
        "colab": {
          "base_uri": "https://localhost:8080/",
          "height": 34
        },
        "outputId": "5013a42d-b6ac-4cd4-ba84-3c62b57a370f"
      },
      "source": [
        "#visualizar a interceptacao\n",
        "print(modelo.intercept_)"
      ],
      "execution_count": 14,
      "outputs": [
        {
          "output_type": "stream",
          "text": [
            "8.283905641787172\n"
          ],
          "name": "stdout"
        }
      ]
    },
    {
      "cell_type": "code",
      "metadata": {
        "id": "dyfDigxSG4yn",
        "colab_type": "code",
        "colab": {
          "base_uri": "https://localhost:8080/",
          "height": 34
        },
        "outputId": "0b1a2e92-2f7e-4b26-a50d-148a2fb55b03"
      },
      "source": [
        "# visualiza a inclinação\n",
        "print(modelo.coef_)"
      ],
      "execution_count": 15,
      "outputs": [
        {
          "output_type": "stream",
          "text": [
            "[0.16556757]\n"
          ],
          "name": "stdout"
        }
      ]
    },
    {
      "cell_type": "code",
      "metadata": {
        "id": "O2YrXTFIHJbm",
        "colab_type": "code",
        "colab": {
          "base_uri": "https://localhost:8080/",
          "height": 265
        },
        "outputId": "3ce5cc44-5921-4125-8062-f1b496f7fc96"
      },
      "source": [
        "# Visualizando em graficos de dispersao\n",
        "plt.scatter(X,y)\n",
        "# adiciona a linha de regressão\n",
        "plt.plot(X, modelo.predict(X), color='r')\n",
        "plt.show()"
      ],
      "execution_count": 19,
      "outputs": [
        {
          "output_type": "display_data",
          "data": {
            "image/png": "[encoded data removed]",
            "text/plain": [
              "<Figure size 432x288 with 1 Axes>"
            ]
          },
          "metadata": {
            "tags": []
          }
        }
      ]
    },
    {
      "cell_type": "code",
      "metadata": {
        "id": "Rsu6bSKxIQLg",
        "colab_type": "code",
        "colab": {
          "base_uri": "https://localhost:8080/",
          "height": 34
        },
        "outputId": "8696095d-7c5a-44b4-9e30-64e56e1201e7"
      },
      "source": [
        "# prevendo a distancia de 22, manualmente\n",
        "print(modelo.intercept_ + modelo.coef_ * 22)"
      ],
      "execution_count": 21,
      "outputs": [
        {
          "output_type": "stream",
          "text": [
            "[11.92639228]\n"
          ],
          "name": "stdout"
        }
      ]
    },
    {
      "cell_type": "code",
      "metadata": {
        "id": "2r7QSE4QIcHG",
        "colab_type": "code",
        "colab": {
          "base_uri": "https://localhost:8080/",
          "height": 34
        },
        "outputId": "f4a86028-ab9b-4a0f-9134-9f456d3a040f"
      },
      "source": [
        "# prevendo a distancia de 22, atraves do metodo predict\n",
        "print(modelo.predict([[22]]))"
      ],
      "execution_count": 25,
      "outputs": [
        {
          "output_type": "stream",
          "text": [
            "[11.92639228]\n"
          ],
          "name": "stdout"
        }
      ]
    },
    {
      "cell_type": "code",
      "metadata": {
        "id": "8OWZ4PbqJxhb",
        "colab_type": "code",
        "colab": {
          "base_uri": "https://localhost:8080/",
          "height": 34
        },
        "outputId": "ced440de-e2d0-4eb1-b359-6c79802475e4"
      },
      "source": [
        "# exibe os residuais (distancia dos pontos usados para calcular a linha de regresssão, com a propria linha)\n",
        "print(modelo._residues)"
      ],
      "execution_count": 28,
      "outputs": [
        {
          "output_type": "stream",
          "text": [
            "478.02124836119646\n"
          ],
          "name": "stdout"
        }
      ]
    },
    {
      "cell_type": "code",
      "metadata": {
        "id": "9a7zqkDGKRiO",
        "colab_type": "code",
        "colab": {
          "base_uri": "https://localhost:8080/",
          "height": 294
        },
        "outputId": "aeb92bf6-7a2e-413c-f2b8-9b9bc6f1dc66"
      },
      "source": [
        "# Como o sklearn nao tem a opção atualmente para ver cada residual, mostrando apenas o total, é usado a biblioteca YellowBrick\n",
        "# para visualizar o modelo\n",
        "visualizador = ResidualsPlot(modelo)\n",
        "\n",
        "# \"treina\" o visualizador\n",
        "visualizador.fit(X,y)\n",
        "visualizador.poof()\n",
        "\n",
        "# ele vai exibir os residuais em duas parte\n",
        "# a primeira é passado uma linha representando o zero, ou seja, quanto mais proximo\n",
        "# mais preciso vai ser, e mais \"em cima\" da linha de regressao será\n",
        "\n",
        "# a outra parte é feito um grafico de distribuição, para ver aonde se concentra a maior\n",
        "# quantidade de valores"
      ],
      "execution_count": 31,
      "outputs": [
        {
          "output_type": "display_data",
          "data": {
            "image/png": "[encoded data removed]",
            "text/plain": [
              "<Figure size 432x288 with 2 Axes>"
            ]
          },
          "metadata": {
            "tags": []
          }
        }
      ]
    }
  ]
}
