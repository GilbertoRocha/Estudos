{
  "nbformat": 4,
  "nbformat_minor": 0,
  "metadata": {
    "colab": {
      "name": "Amostragem_Simples.ipynb",
      "provenance": [],
      "include_colab_link": true
    },
    "kernelspec": {
      "name": "python3",
      "display_name": "Python 3"
    }
  },
  "cells": [
    {
      "cell_type": "markdown",
      "metadata": {
        "id": "view-in-github",
        "colab_type": "text"
      },
      "source": [
        "<a href=\"https://colab.research.google.com/github/GilbertoRocha/Estudos/blob/master/DataScience/FormacaoCientistaDadosPythoneR/Python/Amostragem_Simples.ipynbAmostragem_Simples.ipynb\" target=\"_parent\"><img src=\"https://colab.research.google.com/assets/colab-badge.svg\" alt=\"Open In Colab\"/></a>"
      ]
    },
    {
      "cell_type": "code",
      "metadata": {
        "id": "NmBVNAfPJh-8",
        "colab_type": "code",
        "colab": {}
      },
      "source": [
        "import pandas as pd\n",
        "import numpy as np\n",
        "from sklearn import datasets"
      ],
      "execution_count": 0,
      "outputs": []
    },
    {
      "cell_type": "code",
      "metadata": {
        "id": "wpaIBJVUKTD3",
        "colab_type": "code",
        "colab": {}
      },
      "source": [
        "# carrega a base do sklearn\n",
        "iris = datasets.load_iris()\n",
        "\n",
        "# converte para pandas\n",
        "base = pd.DataFrame(iris['data'], columns=iris['feature_names'])\n",
        "base['target'] = iris['target']\n"
      ],
      "execution_count": 0,
      "outputs": []
    },
    {
      "cell_type": "code",
      "metadata": {
        "id": "KcYg3E-JLZ8t",
        "colab_type": "code",
        "outputId": "33e1f0a4-b976-4e77-a12e-2214fc4dbf43",
        "colab": {
          "base_uri": "https://localhost:8080/",
          "height": 204
        }
      },
      "source": [
        "base.head()"
      ],
      "execution_count": 3,
      "outputs": [
        {
          "output_type": "execute_result",
          "data": {
            "text/html": [
              "<div>\n",
              "<style scoped>\n",
              "    .dataframe tbody tr th:only-of-type {\n",
              "        vertical-align: middle;\n",
              "    }\n",
              "\n",
              "    .dataframe tbody tr th {\n",
              "        vertical-align: top;\n",
              "    }\n",
              "\n",
              "    .dataframe thead th {\n",
              "        text-align: right;\n",
              "    }\n",
              "</style>\n",
              "<table border=\"1\" class=\"dataframe\">\n",
              "  <thead>\n",
              "    <tr style=\"text-align: right;\">\n",
              "      <th></th>\n",
              "      <th>sepal length (cm)</th>\n",
              "      <th>sepal width (cm)</th>\n",
              "      <th>petal length (cm)</th>\n",
              "      <th>petal width (cm)</th>\n",
              "      <th>target</th>\n",
              "    </tr>\n",
              "  </thead>\n",
              "  <tbody>\n",
              "    <tr>\n",
              "      <th>0</th>\n",
              "      <td>5.1</td>\n",
              "      <td>3.5</td>\n",
              "      <td>1.4</td>\n",
              "      <td>0.2</td>\n",
              "      <td>0</td>\n",
              "    </tr>\n",
              "    <tr>\n",
              "      <th>1</th>\n",
              "      <td>4.9</td>\n",
              "      <td>3.0</td>\n",
              "      <td>1.4</td>\n",
              "      <td>0.2</td>\n",
              "      <td>0</td>\n",
              "    </tr>\n",
              "    <tr>\n",
              "      <th>2</th>\n",
              "      <td>4.7</td>\n",
              "      <td>3.2</td>\n",
              "      <td>1.3</td>\n",
              "      <td>0.2</td>\n",
              "      <td>0</td>\n",
              "    </tr>\n",
              "    <tr>\n",
              "      <th>3</th>\n",
              "      <td>4.6</td>\n",
              "      <td>3.1</td>\n",
              "      <td>1.5</td>\n",
              "      <td>0.2</td>\n",
              "      <td>0</td>\n",
              "    </tr>\n",
              "    <tr>\n",
              "      <th>4</th>\n",
              "      <td>5.0</td>\n",
              "      <td>3.6</td>\n",
              "      <td>1.4</td>\n",
              "      <td>0.2</td>\n",
              "      <td>0</td>\n",
              "    </tr>\n",
              "  </tbody>\n",
              "</table>\n",
              "</div>"
            ],
            "text/plain": [
              "   sepal length (cm)  sepal width (cm)  ...  petal width (cm)  target\n",
              "0                5.1               3.5  ...               0.2       0\n",
              "1                4.9               3.0  ...               0.2       0\n",
              "2                4.7               3.2  ...               0.2       0\n",
              "3                4.6               3.1  ...               0.2       0\n",
              "4                5.0               3.6  ...               0.2       0\n",
              "\n",
              "[5 rows x 5 columns]"
            ]
          },
          "metadata": {
            "tags": []
          },
          "execution_count": 3
        }
      ]
    },
    {
      "cell_type": "code",
      "metadata": {
        "id": "p2-COGRPei1n",
        "colab_type": "code",
        "colab": {
          "base_uri": "https://localhost:8080/",
          "height": 102
        },
        "outputId": "a59a8a13-c8b6-4991-e058-840e4ccaa495"
      },
      "source": [
        "# Gera os numeros 0 ou 1 de forma aleatoria, para usar na seleção do dataset\n",
        "# a = determina quais numeros gerar (0 e 1)\n",
        "# size = determina a quantidade de elementos\n",
        "# replace = determina se quando gerar um numero, se pode gerar ele novamente\n",
        "# p = probabilidade de geração de cada elemento, como serão iguais, então vai 0.5 para cada (50%)\n",
        "amostra = np.random.choice(a = [0, 1], size = 150, replace = True, p = [0.5, 0.5])\n",
        "print(amostra)"
      ],
      "execution_count": 4,
      "outputs": [
        {
          "output_type": "stream",
          "text": [
            "[0 0 1 1 1 0 0 0 1 0 0 0 0 0 1 0 1 0 1 1 1 0 1 1 1 1 1 0 1 0 0 1 0 1 0 1 1\n",
            " 0 0 0 1 1 0 1 0 1 1 0 0 1 0 1 0 1 1 1 0 0 1 1 1 1 0 0 0 1 1 1 1 1 1 1 1 0\n",
            " 0 1 1 1 1 1 1 1 0 1 0 0 1 0 0 0 1 0 1 0 1 0 0 1 1 0 0 1 1 1 1 1 0 0 0 1 1\n",
            " 0 0 1 1 0 1 1 1 0 0 0 1 1 0 1 0 0 1 0 0 1 0 0 0 1 1 0 0 0 0 0 0 0 0 1 0 0\n",
            " 1 1]\n"
          ],
          "name": "stdout"
        }
      ]
    },
    {
      "cell_type": "code",
      "metadata": {
        "id": "UA6hQKZ6fbjQ",
        "colab_type": "code",
        "colab": {
          "base_uri": "https://localhost:8080/",
          "height": 34
        },
        "outputId": "98f122ca-e3a8-4676-ae0d-1afa607ae55d"
      },
      "source": [
        "print('Total: ' + str(len(amostra)) + ' - qtd 0: ' + str(len(amostra[amostra==0])) + ' - qtd 1: ' + str(len(amostra[amostra==1])))"
      ],
      "execution_count": 9,
      "outputs": [
        {
          "output_type": "stream",
          "text": [
            "Total: 150 - qtd 0: 73 - qtd 1: 77\n"
          ],
          "name": "stdout"
        }
      ]
    },
    {
      "cell_type": "code",
      "metadata": {
        "id": "ZcFkKlNFiRS3",
        "colab_type": "code",
        "colab": {
          "base_uri": "https://localhost:8080/",
          "height": 255
        },
        "outputId": "31e08726-fc87-4e83-ae59-d356b95afefc"
      },
      "source": [
        "print(base[amostra == 1])\n"
      ],
      "execution_count": 12,
      "outputs": [
        {
          "output_type": "stream",
          "text": [
            "     sepal length (cm)  sepal width (cm)  ...  petal width (cm)  target\n",
            "2                  4.7               3.2  ...               0.2       0\n",
            "3                  4.6               3.1  ...               0.2       0\n",
            "4                  5.0               3.6  ...               0.2       0\n",
            "8                  4.4               2.9  ...               0.2       0\n",
            "14                 5.8               4.0  ...               0.2       0\n",
            "..                 ...               ...  ...               ...     ...\n",
            "135                7.7               3.0  ...               2.3       2\n",
            "136                6.3               3.4  ...               2.4       2\n",
            "145                6.7               3.0  ...               2.3       2\n",
            "148                6.2               3.4  ...               2.3       2\n",
            "149                5.9               3.0  ...               1.8       2\n",
            "\n",
            "[77 rows x 5 columns]\n"
          ],
          "name": "stdout"
        }
      ]
    }
  ]
}