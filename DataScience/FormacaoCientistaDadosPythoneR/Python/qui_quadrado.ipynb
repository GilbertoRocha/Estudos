{
  "nbformat": 4,
  "nbformat_minor": 0,
  "metadata": {
    "colab": {
      "name": "qui_quadrado.ipynb",
      "provenance": [],
      "collapsed_sections": [],
      "authorship_tag": "ABX9TyNv2/vpLKlsHb/cAwAomlxt",
      "include_colab_link": true
    },
    "kernelspec": {
      "name": "python3",
      "display_name": "Python 3"
    }
  },
  "cells": [
    {
      "cell_type": "markdown",
      "metadata": {
        "id": "view-in-github",
        "colab_type": "text"
      },
      "source": [
        "<a href=\"https://colab.research.google.com/github/GilbertoRocha/Estudos/blob/master/FormacaoCientistaDadosPythoneR/Python/qui_quadrado.ipynb\" target=\"_parent\"><img src=\"https://colab.research.google.com/assets/colab-badge.svg\" alt=\"Open In Colab\"/></a>"
      ]
    },
    {
      "cell_type": "markdown",
      "metadata": {
        "id": "5eXU-n5EPGvH",
        "colab_type": "text"
      },
      "source": [
        "Qui quadrado é um teste para a hipotese nula, ou seja, testar uma condição em cima de um dataset\n",
        "\n",
        "Neste caso testa se tem relacao entre os dados, no caso uma tabela contendo a quantidade de homem e mulher que assistem ou não novela\n",
        "\n",
        "H0 = não existe diferenca significativa alem do acaso\n",
        "\n"
      ]
    },
    {
      "cell_type": "code",
      "metadata": {
        "id": "cdNIQaWrPEv2",
        "colab_type": "code",
        "colab": {}
      },
      "source": [
        "# bibliotecas\n",
        "import numpy as np\n",
        "from scipy.stats import chi2_contingency # usado o contingency pq tem duas categorias no dataset"
      ],
      "execution_count": 0,
      "outputs": []
    },
    {
      "cell_type": "code",
      "metadata": {
        "id": "p-qtMYcRPzmi",
        "colab_type": "code",
        "colab": {
          "base_uri": "https://localhost:8080/",
          "height": 50
        },
        "outputId": "437a9c80-867c-47a3-922a-65fee9ff3ed1"
      },
      "source": [
        "novela = np.array([[19,6], [43,32]])\n",
        "\n",
        "# o resultado P (segundo resultado, o 0.15347667161786666) tem que ser comparada com o alfa selecionado para o teste\n",
        "# se o P for maior que o alfa, não é possivel rejeitar a hipotese nula, neste caso fica determinado que nao tem relação significativa\n",
        "# entre os dados alem do acaso\n",
        "chi2_contingency(novela)"
      ],
      "execution_count": 4,
      "outputs": [
        {
          "output_type": "execute_result",
          "data": {
            "text/plain": [
              "(2.037351443123939, 0.15347667161786666, 1, array([[15.5,  9.5],\n",
              "        [46.5, 28.5]]))"
            ]
          },
          "metadata": {
            "tags": []
          },
          "execution_count": 4
        }
      ]
    }
  ]
}
