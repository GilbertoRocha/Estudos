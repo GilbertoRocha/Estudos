{
  "nbformat": 4,
  "nbformat_minor": 0,
  "metadata": {
    "colab": {
      "name": "Visualização_de_dados.ipynb",
      "provenance": [],
      "collapsed_sections": [
        "sWu2ZZpzghk4",
        "r5BnDLxX3TGS",
        "KSSAJhKf68zp",
        "zFj23DqHiWqY",
        "SzY00vPVkVnc",
        "c_ovZ_3umFWZ",
        "AkrIGcbsC50O"
      ],
      "authorship_tag": "ABX9TyOyLttGNq/+OjUVE2ROK5Pr",
      "include_colab_link": true
    },
    "kernelspec": {
      "name": "python3",
      "display_name": "Python 3"
    }
  },
  "cells": [
    {
      "cell_type": "markdown",
      "metadata": {
        "id": "view-in-github",
        "colab_type": "text"
      },
      "source": [
        "<a href=\"https://colab.research.google.com/github/GilbertoRocha/Estudos/blob/master/DataScience/FormacaoCientistaDadosPythoneR/Python/Visualiza%C3%A7%C3%A3o_de_dados.ipynb\" target=\"_parent\"><img src=\"https://colab.research.google.com/assets/colab-badge.svg\" alt=\"Open In Colab\"/></a>"
      ]
    },
    {
      "cell_type": "markdown",
      "metadata": {
        "id": "pksKLz1zePYu",
        "colab_type": "text"
      },
      "source": [
        "**Visualização de dados**\n",
        "\n",
        "**Durante a analise exploratoria**\n",
        " - Relações\n",
        " - Limites\n",
        " - Outliers\n",
        " - Tendencias\n",
        " - Padrões\n",
        "\n",
        "**Durante a fase explanatória**\n",
        " - Conclusões\n",
        " - Evidências\n",
        " - Sofisticação (Tornar mais apresentável, pois neste momento está sendo mostrado o resultado ao stackeholder)\n",
        "\n",
        "**A visualização de dados pode produzir diversos tipos de artefatos:**\n",
        " - **Gráficos estáticos:** sendo uma representação instantanea dos dados\n",
        " - **Dashboard:*** Conjunto de gráficos interativos e exibidos em conjunto. normalmente eles não mostram detalhes. Podem mostrar algumas exceções, por exemplo, o cinco melhores vendedores (caracterizando como outlier)\n",
        " - **Infográficos:** Graficos mais ricos visualmente, porém não estão vinculados diretamente a uma fonte de dados\n",
        "\n",
        "**Dicas gerais**\n",
        " - **Evitar grafico de setores**, é um tema controverso, mas a percepção humana tem uma dificuldade em perceber informações em angulos, podendo ser dificil perceber qual setor é maior que outro, lidamos melhor com informação em escala\n",
        " - **Evitar 3D**, exigem muito para serem interpretados\n",
        " - **Cores não ordenam valores, apenas escalas de cinza:** Não da para dizer qual cor é \"maior\" que outra, mas em escalas de cinza é possivel.\n",
        " - **Devem mostrar 20 números ou menos:** para evitar a poluição\n",
        " - **Variar dados, Não design:** Ou seja, se quizer mostrar a variação de um dados, por exemplo, vendas por departamento, setor, cidade etc, deve-se usar o mesmo tipo de grafico, exibindo cada uma das variações, ao invés de usar graficos diferentes para cada variação.\n",
        " - **Graficos devem destacar dados, nada mais:** Conceito do \"Data-ink Ratio\"\n",
        " - **Evitar linhas de grade:** Conceito do \"Data-ink Ratio\"\n",
        " - **Não utilizar Moiré Vibration**\n",
        " - **Conseguimos guardar de 3 a 9 informações visuais em nosso cérebro:** Então quando montar um dashboard, não pode ter muitos graficos, senão o usuário vai ter dificuldade em utilizar\n",
        "\n",
        "**Considerações sobre o Daltonismo**\n",
        " - Considerar que 7% da populaão possui algum tipo de daltonismo\n",
        " - Considerar palhetas de cores adequadas neste caso\n",
        " - Observar o link, que possuim um simulador de Daltonismo: http://colorlab.wickline.org/colorblind/colorlab/\n",
        "\n",
        "\n",
        "**Dicas para criar dashboard**\n",
        " - **Comparado ao que?** Sempre ter um valor para comparação\n",
        " - **Bom ou ruim**, indicar se o valor atual está bom, ou quanto falta para ficar bom\n",
        " - **Metricas incorretas**, as metricas devem ser coerentes, por exemplo um grafico de vendas em dolares, e outro em reais por acidente\n",
        " - **Tema**, o dashboard deve ter um foco, e tentar expicar uma situação, e não varias situações distintas\n",
        " - **Tamanho e resolução**, devem ser adequados, para evitar o scroll e ser visivel\n",
        " - **Tops**, não é obrigatorio, mas constuma ser uma boa pratica colocar os melhores em algo, por exemplo os produtos mais vendidos\n",
        " - **Excesso ou falta de niveis**, normalmente existem o drilldown, e tem que ficar atento se não está ocorrendo a falta dele, ou então o excesso, trazendo muita informação desnecessária.\n",
        " - **Manter a proporção**, entre o eixo X e Y, normalemnte entre 1.6\n",
        " - **Data-ink ratio**, é um conceito aonde deve focar todo o pixel em mostrar os graficos, minimizar o uso para outros casos, por exmeplo, titulo, rotulos, eixos devem existir, mas devem ser usados racionalmente e minimamente.\n",
        " - **Elementos corretos***, utilizar os graficos coerentes com a informação e intenção a ser exibida\n",
        " - **Abuso de cores**, evitar o abuso de cores, tentando manter os graficos em cores mais sobrias e suaves. Tentar usar as cores conforme a percepção das pessoas.\n",
        "\n",
        "**Formas de organizar a informação**\n",
        " - **Localização**, por exemplo, vendas por estado\n",
        " - **Alfabeticamente**\n",
        " - **Tempo**, coocar tudo em uma linha de tempo organizada, por exemplo, do mais antigo para o mais recente\n",
        " - **Categoria**, este é subjetivo, por exemplo, pela categoria do produto\n",
        " - **Hierarquico**\n",
        "\n",
        "\n",
        "\n",
        "**Edward Tufte**, é um especialista em visualização de dados, bom para se pesquisar\n",
        "\n",
        "**Metodos \"Accent\", D.A. Burns**\n",
        " - **Percepção (Apprehension):** Capacidade de perceber corretamente as relações entre as variáveis, O grafico deve maximimar a apreensão das relações da variável\n",
        " - **Clareza (Clarity):** Capacidade de distinguir visualmente os elementos de um grafico. Os elementos ou relações mais importantes devem ter destaque.\n",
        " - **Consistência (Consistency):** Capacidade de interpretar o grafico com base na semelhança de graficos anteriores. Os elementos, formas, simbolos e cores devem ser consistêntes com a utilização dde graficos anteriores\n",
        " - **Eficiência (Efficiency):** Capacidade de demonstrar uma relação complexa de forma simples. Os elementos do grafico devem ser utilizados racionalmente e devem ser de facil compreensão\n",
        " - **Necessidade (Necessity):** Os elementos do grafico são necesssários? O grafico é a melhor forma de se reresentar os dados, se comparado com outras alternativas como tabelas ou texto:\n",
        " - **Veracidade (TruthFulness):** Capacidade para determinar o valor representado pelos elementos graficos em relação a escala. Os elementos gráficos devem ser posicionados e dimensionados com precisão.\n",
        "\n",
        "\n",
        "**Recomedações sobre quais elementos utilizar**\n",
        " - **Graficos de barras**\n",
        "   - Dados discretos, dados não continuos, vendas por estado por exemplo\n",
        " - **Grafico de linhas**\n",
        "   - Dados continuos (serie temporal por exemplo)\n",
        "   - Evolução dos dados\n",
        " - **Setores**\n",
        "   - Comparações sem precisar de muita precisão\n",
        " - **Dispersão**\n",
        "   - Mostrar a relação entre duas variáveis (ou mais)\n",
        "   - É um grafico relacional, nao é indicado para uma unica variavel ou dado\n",
        " - **Histograma e BoxPlot**\n",
        "   - Distribuição dos dados\n",
        "\n",
        "**Checklist**\n",
        " - Esta usando o elemento grafico correto\n",
        " - Não á excesso de elemento decorativos\n",
        " - Não á mais que 7 elementos graficos no dashboard\n",
        " - Os dados estão no contexto correto\n",
        " - Dados nao apresentam excessos no dashboard\n",
        " - Dados mais importantes estão destacados\n",
        " - Não á mais de 20 instancias (linhas) por elemento gráfico\n",
        " - Existe elementos não relacionados a dados\n",
        " - Não transcende as dimensoes da tela\n",
        " - Não utiliza medidas ineficientes\n",
        " - Existe um unico assunto no dashboard\n",
        " - Esta destacando mais relevantes na area de enfase\n",
        " - Está mantida a proporção 1/6 entre os eixos (Y deve ser 60% mais longo que X)\n",
        " - Existem referencias de comparação\n",
        " - Foi considerado o ranking de percepção do cerebro\n",
        " - As cores são suaves\n",
        " - Foram evitadas linhas de grade e Moiré vibration\n",
        " - Foram feitas considerações sobre Daltonismo\n",
        " "
      ]
    },
    {
      "cell_type": "markdown",
      "metadata": {
        "id": "5lF-thfc3oPN",
        "colab_type": "text"
      },
      "source": [
        "# **Carregamento dos datasets**"
      ]
    },
    {
      "cell_type": "code",
      "metadata": {
        "id": "WSd3BE123uXa",
        "colab_type": "code",
        "colab": {}
      },
      "source": [
        "# simula a carga dos arquivos csv utilizados\n",
        "import pandas as pd\n",
        "from io import StringIO\n",
        "\n",
        "def getTrees():\n",
        "  arq = StringIO(\"\"\"\"Girth\",\"Height\",\"Volume\"\n",
        "8.3,70,10.3\n",
        "8.6,65,10.3\n",
        "8.8,63,10.2\n",
        "10.5,72,16.4\n",
        "10.7,81,18.8\n",
        "10.8,83,19.7\n",
        "11,66,15.6\n",
        "11,75,18.2\n",
        "11.1,80,22.6\n",
        "11.2,75,19.9\n",
        "11.3,79,24.2\n",
        "11.4,76,21\n",
        "11.4,76,21.4\n",
        "11.7,69,21.3\n",
        "12,75,19.1\n",
        "12.9,74,22.2\n",
        "12.9,85,33.8\n",
        "13.3,86,27.4\n",
        "13.7,71,25.7\n",
        "13.8,64,24.9\n",
        "14,78,34.5\n",
        "14.2,80,31.7\n",
        "14.5,74,36.3\n",
        "16,72,38.3\n",
        "16.3,77,42.6\n",
        "17.3,81,55.4\n",
        "17.5,82,55.7\n",
        "17.9,80,58.3\n",
        "18,80,51.5\n",
        "18,80,51\n",
        "20.6,87,77\"\"\")\n",
        "  return pd.read_csv(arq, sep=',')\n",
        "\n",
        "def getCO2():\n",
        "  arq = StringIO(\"\"\"\"\"Plant\",\"Type\",\"Treatment\",\"conc\",\"uptake\"\n",
        "\"Qn1\",\"Quebec\",\"nonchilled\",95,16\n",
        "\"Qn1\",\"Quebec\",\"nonchilled\",175,30.4\n",
        "\"Qn1\",\"Quebec\",\"nonchilled\",250,34.8\n",
        "\"Qn1\",\"Quebec\",\"nonchilled\",350,37.2\n",
        "\"Qn1\",\"Quebec\",\"nonchilled\",500,35.3\n",
        "\"Qn1\",\"Quebec\",\"nonchilled\",675,39.2\n",
        "\"Qn1\",\"Quebec\",\"nonchilled\",1000,39.7\n",
        "\"Qn2\",\"Quebec\",\"nonchilled\",95,13.6\n",
        "\"Qn2\",\"Quebec\",\"nonchilled\",175,27.3\n",
        "\"Qn2\",\"Quebec\",\"nonchilled\",250,37.1\n",
        "\"Qn2\",\"Quebec\",\"nonchilled\",350,41.8\n",
        "\"Qn2\",\"Quebec\",\"nonchilled\",500,40.6\n",
        "\"Qn2\",\"Quebec\",\"nonchilled\",675,41.4\n",
        "\"Qn2\",\"Quebec\",\"nonchilled\",1000,44.3\n",
        "\"Qn3\",\"Quebec\",\"nonchilled\",95,16.2\n",
        "\"Qn3\",\"Quebec\",\"nonchilled\",175,32.4\n",
        "\"Qn3\",\"Quebec\",\"nonchilled\",250,40.3\n",
        "\"Qn3\",\"Quebec\",\"nonchilled\",350,42.1\n",
        "\"Qn3\",\"Quebec\",\"nonchilled\",500,42.9\n",
        "\"Qn3\",\"Quebec\",\"nonchilled\",675,43.9\n",
        "\"Qn3\",\"Quebec\",\"nonchilled\",1000,45.5\n",
        "\"Qc1\",\"Quebec\",\"chilled\",95,14.2\n",
        "\"Qc1\",\"Quebec\",\"chilled\",175,24.1\n",
        "\"Qc1\",\"Quebec\",\"chilled\",250,30.3\n",
        "\"Qc1\",\"Quebec\",\"chilled\",350,34.6\n",
        "\"Qc1\",\"Quebec\",\"chilled\",500,32.5\n",
        "\"Qc1\",\"Quebec\",\"chilled\",675,35.4\n",
        "\"Qc1\",\"Quebec\",\"chilled\",1000,38.7\n",
        "\"Qc2\",\"Quebec\",\"chilled\",95,9.3\n",
        "\"Qc2\",\"Quebec\",\"chilled\",175,27.3\n",
        "\"Qc2\",\"Quebec\",\"chilled\",250,35\n",
        "\"Qc2\",\"Quebec\",\"chilled\",350,38.8\n",
        "\"Qc2\",\"Quebec\",\"chilled\",500,38.6\n",
        "\"Qc2\",\"Quebec\",\"chilled\",675,37.5\n",
        "\"Qc2\",\"Quebec\",\"chilled\",1000,42.4\n",
        "\"Qc3\",\"Quebec\",\"chilled\",95,15.1\n",
        "\"Qc3\",\"Quebec\",\"chilled\",175,21\n",
        "\"Qc3\",\"Quebec\",\"chilled\",250,38.1\n",
        "\"Qc3\",\"Quebec\",\"chilled\",350,34\n",
        "\"Qc3\",\"Quebec\",\"chilled\",500,38.9\n",
        "\"Qc3\",\"Quebec\",\"chilled\",675,39.6\n",
        "\"Qc3\",\"Quebec\",\"chilled\",1000,41.4\n",
        "\"Mn1\",\"Mississippi\",\"nonchilled\",95,10.6\n",
        "\"Mn1\",\"Mississippi\",\"nonchilled\",175,19.2\n",
        "\"Mn1\",\"Mississippi\",\"nonchilled\",250,26.2\n",
        "\"Mn1\",\"Mississippi\",\"nonchilled\",350,30\n",
        "\"Mn1\",\"Mississippi\",\"nonchilled\",500,30.9\n",
        "\"Mn1\",\"Mississippi\",\"nonchilled\",675,32.4\n",
        "\"Mn1\",\"Mississippi\",\"nonchilled\",1000,35.5\n",
        "\"Mn2\",\"Mississippi\",\"nonchilled\",95,12\n",
        "\"Mn2\",\"Mississippi\",\"nonchilled\",175,22\n",
        "\"Mn2\",\"Mississippi\",\"nonchilled\",250,30.6\n",
        "\"Mn2\",\"Mississippi\",\"nonchilled\",350,31.8\n",
        "\"Mn2\",\"Mississippi\",\"nonchilled\",500,32.4\n",
        "\"Mn2\",\"Mississippi\",\"nonchilled\",675,31.1\n",
        "\"Mn2\",\"Mississippi\",\"nonchilled\",1000,31.5\n",
        "\"Mn3\",\"Mississippi\",\"nonchilled\",95,11.3\n",
        "\"Mn3\",\"Mississippi\",\"nonchilled\",175,19.4\n",
        "\"Mn3\",\"Mississippi\",\"nonchilled\",250,25.8\n",
        "\"Mn3\",\"Mississippi\",\"nonchilled\",350,27.9\n",
        "\"Mn3\",\"Mississippi\",\"nonchilled\",500,28.5\n",
        "\"Mn3\",\"Mississippi\",\"nonchilled\",675,28.1\n",
        "\"Mn3\",\"Mississippi\",\"nonchilled\",1000,27.8\n",
        "\"Mc1\",\"Mississippi\",\"chilled\",95,10.5\n",
        "\"Mc1\",\"Mississippi\",\"chilled\",175,14.9\n",
        "\"Mc1\",\"Mississippi\",\"chilled\",250,18.1\n",
        "\"Mc1\",\"Mississippi\",\"chilled\",350,18.9\n",
        "\"Mc1\",\"Mississippi\",\"chilled\",500,19.5\n",
        "\"Mc1\",\"Mississippi\",\"chilled\",675,22.2\n",
        "\"Mc1\",\"Mississippi\",\"chilled\",1000,21.9\n",
        "\"Mc2\",\"Mississippi\",\"chilled\",95,7.7\n",
        "\"Mc2\",\"Mississippi\",\"chilled\",175,11.4\n",
        "\"Mc2\",\"Mississippi\",\"chilled\",250,12.3\n",
        "\"Mc2\",\"Mississippi\",\"chilled\",350,13\n",
        "\"Mc2\",\"Mississippi\",\"chilled\",500,12.5\n",
        "\"Mc2\",\"Mississippi\",\"chilled\",675,13.7\n",
        "\"Mc2\",\"Mississippi\",\"chilled\",1000,14.4\n",
        "\"Mc3\",\"Mississippi\",\"chilled\",95,10.6\n",
        "\"Mc3\",\"Mississippi\",\"chilled\",175,18\n",
        "\"Mc3\",\"Mississippi\",\"chilled\",250,17.9\n",
        "\"Mc3\",\"Mississippi\",\"chilled\",350,17.9\n",
        "\"Mc3\",\"Mississippi\",\"chilled\",500,17.9\n",
        "\"Mc3\",\"Mississippi\",\"chilled\",675,18.9\n",
        "\"Mc3\",\"Mississippi\",\"chilled\",1000,19.9\"\"\")\n",
        "  return pd.read_csv(arq, sep=',')\n",
        "\n",
        "def getInsect():\n",
        "  arq = StringIO(\"\"\"\"count\",\"spray\"\n",
        "10,\"A\"\n",
        "7,\"A\"\n",
        "20,\"A\"\n",
        "14,\"A\"\n",
        "14,\"A\"\n",
        "12,\"A\"\n",
        "10,\"A\"\n",
        "23,\"A\"\n",
        "17,\"A\"\n",
        "20,\"A\"\n",
        "14,\"A\"\n",
        "13,\"A\"\n",
        "11,\"B\"\n",
        "17,\"B\"\n",
        "21,\"B\"\n",
        "11,\"B\"\n",
        "16,\"B\"\n",
        "14,\"B\"\n",
        "17,\"B\"\n",
        "17,\"B\"\n",
        "19,\"B\"\n",
        "21,\"B\"\n",
        "7,\"B\"\n",
        "13,\"B\"\n",
        "0,\"C\"\n",
        "1,\"C\"\n",
        "7,\"C\"\n",
        "2,\"C\"\n",
        "3,\"C\"\n",
        "1,\"C\"\n",
        "2,\"C\"\n",
        "1,\"C\"\n",
        "3,\"C\"\n",
        "0,\"C\"\n",
        "1,\"C\"\n",
        "4,\"C\"\n",
        "3,\"D\"\n",
        "5,\"D\"\n",
        "12,\"D\"\n",
        "6,\"D\"\n",
        "4,\"D\"\n",
        "3,\"D\"\n",
        "5,\"D\"\n",
        "5,\"D\"\n",
        "5,\"D\"\n",
        "5,\"D\"\n",
        "2,\"D\"\n",
        "4,\"D\"\n",
        "3,\"E\"\n",
        "5,\"E\"\n",
        "3,\"E\"\n",
        "5,\"E\"\n",
        "3,\"E\"\n",
        "6,\"E\"\n",
        "1,\"E\"\n",
        "1,\"E\"\n",
        "3,\"E\"\n",
        "2,\"E\"\n",
        "6,\"E\"\n",
        "4,\"E\"\n",
        "11,\"F\"\n",
        "9,\"F\"\n",
        "15,\"F\"\n",
        "22,\"F\"\n",
        "15,\"F\"\n",
        "16,\"F\"\n",
        "13,\"F\"\n",
        "10,\"F\"\n",
        "26,\"F\"\n",
        "26,\"F\"\n",
        "24,\"F\"\n",
        "13,\"F\"\n",
        "      \"\"\")\n",
        "  return pd.read_csv(arq, sep=',')\n",
        "  \n",
        "def getChicken():\n",
        "  arq = StringIO(\"\"\"\"weight\",\"feed\"\n",
        "179,\"horsebean\"\n",
        "160,\"horsebean\"\n",
        "136,\"horsebean\"\n",
        "227,\"horsebean\"\n",
        "217,\"horsebean\"\n",
        "168,\"horsebean\"\n",
        "108,\"horsebean\"\n",
        "124,\"horsebean\"\n",
        "143,\"horsebean\"\n",
        "140,\"horsebean\"\n",
        "309,\"linseed\"\n",
        "229,\"linseed\"\n",
        "181,\"linseed\"\n",
        "141,\"linseed\"\n",
        "260,\"linseed\"\n",
        "203,\"linseed\"\n",
        "148,\"linseed\"\n",
        "169,\"linseed\"\n",
        "213,\"linseed\"\n",
        "257,\"linseed\"\n",
        "244,\"linseed\"\n",
        "271,\"linseed\"\n",
        "243,\"soybean\"\n",
        "230,\"soybean\"\n",
        "248,\"soybean\"\n",
        "327,\"soybean\"\n",
        "329,\"soybean\"\n",
        "250,\"soybean\"\n",
        "193,\"soybean\"\n",
        "271,\"soybean\"\n",
        "316,\"soybean\"\n",
        "267,\"soybean\"\n",
        "199,\"soybean\"\n",
        "171,\"soybean\"\n",
        "158,\"soybean\"\n",
        "248,\"soybean\"\n",
        "423,\"sunflower\"\n",
        "340,\"sunflower\"\n",
        "392,\"sunflower\"\n",
        "339,\"sunflower\"\n",
        "341,\"sunflower\"\n",
        "226,\"sunflower\"\n",
        "320,\"sunflower\"\n",
        "295,\"sunflower\"\n",
        "334,\"sunflower\"\n",
        "322,\"sunflower\"\n",
        "297,\"sunflower\"\n",
        "318,\"sunflower\"\n",
        "325,\"meatmeal\"\n",
        "257,\"meatmeal\"\n",
        "303,\"meatmeal\"\n",
        "315,\"meatmeal\"\n",
        "380,\"meatmeal\"\n",
        "153,\"meatmeal\"\n",
        "263,\"meatmeal\"\n",
        "242,\"meatmeal\"\n",
        "206,\"meatmeal\"\n",
        "344,\"meatmeal\"\n",
        "258,\"meatmeal\"\n",
        "368,\"casein\"\n",
        "390,\"casein\"\n",
        "379,\"casein\"\n",
        "260,\"casein\"\n",
        "404,\"casein\"\n",
        "318,\"casein\"\n",
        "352,\"casein\"\n",
        "359,\"casein\"\n",
        "216,\"casein\"\n",
        "222,\"casein\"\n",
        "283,\"casein\"\n",
        "332,\"casein\"\n",
        "\"\"\")\n",
        "  return pd.read_csv(arq, sep=',')\n",
        "\n",
        "def getEsoph():\n",
        "  arq = StringIO(\"\"\"\"agegp\",\"alcgp\",\"tobgp\",\"ncases\",\"ncontrols\"\n",
        "\"25-34\",\"0-39g/day\",\"0-9g/day\",0,40\n",
        "\"25-34\",\"0-39g/day\",\"10-19\",0,10\n",
        "\"25-34\",\"0-39g/day\",\"20-29\",0,6\n",
        "\"25-34\",\"0-39g/day\",\"30+\",0,5\n",
        "\"25-34\",\"40-79\",\"0-9g/day\",0,27\n",
        "\"25-34\",\"40-79\",\"10-19\",0,7\n",
        "\"25-34\",\"40-79\",\"20-29\",0,4\n",
        "\"25-34\",\"40-79\",\"30+\",0,7\n",
        "\"25-34\",\"80-119\",\"0-9g/day\",0,2\n",
        "\"25-34\",\"80-119\",\"10-19\",0,1\n",
        "\"25-34\",\"80-119\",\"30+\",0,2\n",
        "\"25-34\",\"120+\",\"0-9g/day\",0,1\n",
        "\"25-34\",\"120+\",\"10-19\",1,1\n",
        "\"25-34\",\"120+\",\"20-29\",0,1\n",
        "\"25-34\",\"120+\",\"30+\",0,2\n",
        "\"35-44\",\"0-39g/day\",\"0-9g/day\",0,60\n",
        "\"35-44\",\"0-39g/day\",\"10-19\",1,14\n",
        "\"35-44\",\"0-39g/day\",\"20-29\",0,7\n",
        "\"35-44\",\"0-39g/day\",\"30+\",0,8\n",
        "\"35-44\",\"40-79\",\"0-9g/day\",0,35\n",
        "\"35-44\",\"40-79\",\"10-19\",3,23\n",
        "\"35-44\",\"40-79\",\"20-29\",1,14\n",
        "\"35-44\",\"40-79\",\"30+\",0,8\n",
        "\"35-44\",\"80-119\",\"0-9g/day\",0,11\n",
        "\"35-44\",\"80-119\",\"10-19\",0,6\n",
        "\"35-44\",\"80-119\",\"20-29\",0,2\n",
        "\"35-44\",\"80-119\",\"30+\",0,1\n",
        "\"35-44\",\"120+\",\"0-9g/day\",2,3\n",
        "\"35-44\",\"120+\",\"10-19\",0,3\n",
        "\"35-44\",\"120+\",\"20-29\",2,4\n",
        "\"45-54\",\"0-39g/day\",\"0-9g/day\",1,46\n",
        "\"45-54\",\"0-39g/day\",\"10-19\",0,18\n",
        "\"45-54\",\"0-39g/day\",\"20-29\",0,10\n",
        "\"45-54\",\"0-39g/day\",\"30+\",0,4\n",
        "\"45-54\",\"40-79\",\"0-9g/day\",6,38\n",
        "\"45-54\",\"40-79\",\"10-19\",4,21\n",
        "\"45-54\",\"40-79\",\"20-29\",5,15\n",
        "\"45-54\",\"40-79\",\"30+\",5,7\n",
        "\"45-54\",\"80-119\",\"0-9g/day\",3,16\n",
        "\"45-54\",\"80-119\",\"10-19\",6,14\n",
        "\"45-54\",\"80-119\",\"20-29\",1,5\n",
        "\"45-54\",\"80-119\",\"30+\",2,4\n",
        "\"45-54\",\"120+\",\"0-9g/day\",4,4\n",
        "\"45-54\",\"120+\",\"10-19\",3,4\n",
        "\"45-54\",\"120+\",\"20-29\",2,3\n",
        "\"45-54\",\"120+\",\"30+\",4,4\n",
        "\"55-64\",\"0-39g/day\",\"0-9g/day\",2,49\n",
        "\"55-64\",\"0-39g/day\",\"10-19\",3,22\n",
        "\"55-64\",\"0-39g/day\",\"20-29\",3,12\n",
        "\"55-64\",\"0-39g/day\",\"30+\",4,6\n",
        "\"55-64\",\"40-79\",\"0-9g/day\",9,40\n",
        "\"55-64\",\"40-79\",\"10-19\",6,21\n",
        "\"55-64\",\"40-79\",\"20-29\",4,17\n",
        "\"55-64\",\"40-79\",\"30+\",3,6\n",
        "\"55-64\",\"80-119\",\"0-9g/day\",9,18\n",
        "\"55-64\",\"80-119\",\"10-19\",8,15\n",
        "\"55-64\",\"80-119\",\"20-29\",3,6\n",
        "\"55-64\",\"80-119\",\"30+\",4,4\n",
        "\"55-64\",\"120+\",\"0-9g/day\",5,10\n",
        "\"55-64\",\"120+\",\"10-19\",6,7\n",
        "\"55-64\",\"120+\",\"20-29\",2,3\n",
        "\"55-64\",\"120+\",\"30+\",5,6\n",
        "\"65-74\",\"0-39g/day\",\"0-9g/day\",5,48\n",
        "\"65-74\",\"0-39g/day\",\"10-19\",4,14\n",
        "\"65-74\",\"0-39g/day\",\"20-29\",2,7\n",
        "\"65-74\",\"0-39g/day\",\"30+\",0,2\n",
        "\"65-74\",\"40-79\",\"0-9g/day\",17,34\n",
        "\"65-74\",\"40-79\",\"10-19\",3,10\n",
        "\"65-74\",\"40-79\",\"20-29\",5,9\n",
        "\"65-74\",\"80-119\",\"0-9g/day\",6,13\n",
        "\"65-74\",\"80-119\",\"10-19\",4,12\n",
        "\"65-74\",\"80-119\",\"20-29\",2,3\n",
        "\"65-74\",\"80-119\",\"30+\",1,1\n",
        "\"65-74\",\"120+\",\"0-9g/day\",3,4\n",
        "\"65-74\",\"120+\",\"10-19\",1,2\n",
        "\"65-74\",\"120+\",\"20-29\",1,1\n",
        "\"65-74\",\"120+\",\"30+\",1,1\n",
        "\"75+\",\"0-39g/day\",\"0-9g/day\",1,18\n",
        "\"75+\",\"0-39g/day\",\"10-19\",2,6\n",
        "\"75+\",\"0-39g/day\",\"30+\",1,3\n",
        "\"75+\",\"40-79\",\"0-9g/day\",2,5\n",
        "\"75+\",\"40-79\",\"10-19\",1,3\n",
        "\"75+\",\"40-79\",\"20-29\",0,3\n",
        "\"75+\",\"40-79\",\"30+\",1,1\n",
        "\"75+\",\"80-119\",\"0-9g/day\",1,1\n",
        "\"75+\",\"80-119\",\"10-19\",1,1\n",
        "\"75+\",\"120+\",\"0-9g/day\",2,2\n",
        "\"75+\",\"120+\",\"10-19\",1,1\n",
        "\"\"\")\n",
        "  return pd.read_csv(arq, sep=',')\n",
        "\n",
        "def getOchard():\n",
        "  arq = StringIO(\"\"\"\"decrease\",\"rowpos\",\"colpos\",\"treatment\"\n",
        "57,1,1,\"D\"\n",
        "95,2,1,\"E\"\n",
        "8,3,1,\"B\"\n",
        "69,4,1,\"H\"\n",
        "92,5,1,\"G\"\n",
        "90,6,1,\"F\"\n",
        "15,7,1,\"C\"\n",
        "2,8,1,\"A\"\n",
        "84,1,2,\"C\"\n",
        "6,2,2,\"B\"\n",
        "127,3,2,\"H\"\n",
        "36,4,2,\"D\"\n",
        "51,5,2,\"E\"\n",
        "2,6,2,\"A\"\n",
        "69,7,2,\"F\"\n",
        "71,8,2,\"G\"\n",
        "87,1,3,\"F\"\n",
        "72,2,3,\"H\"\n",
        "5,3,3,\"A\"\n",
        "39,4,3,\"E\"\n",
        "22,5,3,\"D\"\n",
        "16,6,3,\"C\"\n",
        "72,7,3,\"G\"\n",
        "4,8,3,\"B\"\n",
        "130,1,4,\"H\"\n",
        "4,2,4,\"A\"\n",
        "114,3,4,\"E\"\n",
        "9,4,4,\"C\"\n",
        "20,5,4,\"F\"\n",
        "24,6,4,\"G\"\n",
        "10,7,4,\"B\"\n",
        "51,8,4,\"D\"\n",
        "43,1,5,\"E\"\n",
        "28,2,5,\"D\"\n",
        "60,3,5,\"G\"\n",
        "5,4,5,\"A\"\n",
        "17,5,5,\"C\"\n",
        "7,6,5,\"B\"\n",
        "81,7,5,\"H\"\n",
        "71,8,5,\"F\"\n",
        "12,1,6,\"A\"\n",
        "29,2,6,\"C\"\n",
        "44,3,6,\"F\"\n",
        "77,4,6,\"G\"\n",
        "4,5,6,\"B\"\n",
        "27,6,6,\"D\"\n",
        "47,7,6,\"E\"\n",
        "76,8,6,\"H\"\n",
        "8,1,7,\"B\"\n",
        "72,2,7,\"G\"\n",
        "13,3,7,\"C\"\n",
        "57,4,7,\"F\"\n",
        "4,5,7,\"A\"\n",
        "81,6,7,\"H\"\n",
        "20,7,7,\"D\"\n",
        "61,8,7,\"E\"\n",
        "80,1,8,\"G\"\n",
        "114,2,8,\"F\"\n",
        "39,3,8,\"D\"\n",
        "14,4,8,\"B\"\n",
        "86,5,8,\"H\"\n",
        "55,6,8,\"E\"\n",
        "3,7,8,\"A\"\n",
        "19,8,8,\"C\"\n",
        "\"\"\")\n",
        "  return pd.read_csv(arq, sep=',')"
      ],
      "execution_count": 0,
      "outputs": []
    },
    {
      "cell_type": "markdown",
      "metadata": {
        "id": "sWu2ZZpzghk4",
        "colab_type": "text"
      },
      "source": [
        "# **Histograma**"
      ]
    },
    {
      "cell_type": "code",
      "metadata": {
        "id": "lFqmiZn3Zza_",
        "colab_type": "code",
        "colab": {}
      },
      "source": [
        "import pandas as pd\n",
        "import numpy as np\n",
        "import matplotlib.pyplot as plt\n",
        "%matplotlib inline"
      ],
      "execution_count": 0,
      "outputs": []
    },
    {
      "cell_type": "code",
      "metadata": {
        "id": "bYheSOzQg3-T",
        "colab_type": "code",
        "outputId": "26cf761b-3214-49b9-87a2-af57ba2353b6",
        "colab": {
          "base_uri": "https://localhost:8080/",
          "height": 204
        }
      },
      "source": [
        "base = getTrees()\n",
        "base.head()"
      ],
      "execution_count": 0,
      "outputs": [
        {
          "output_type": "execute_result",
          "data": {
            "text/html": [
              "<div>\n",
              "<style scoped>\n",
              "    .dataframe tbody tr th:only-of-type {\n",
              "        vertical-align: middle;\n",
              "    }\n",
              "\n",
              "    .dataframe tbody tr th {\n",
              "        vertical-align: top;\n",
              "    }\n",
              "\n",
              "    .dataframe thead th {\n",
              "        text-align: right;\n",
              "    }\n",
              "</style>\n",
              "<table border=\"1\" class=\"dataframe\">\n",
              "  <thead>\n",
              "    <tr style=\"text-align: right;\">\n",
              "      <th></th>\n",
              "      <th>Girth</th>\n",
              "      <th>Height</th>\n",
              "      <th>Volume</th>\n",
              "    </tr>\n",
              "  </thead>\n",
              "  <tbody>\n",
              "    <tr>\n",
              "      <th>0</th>\n",
              "      <td>8.3</td>\n",
              "      <td>70</td>\n",
              "      <td>10.3</td>\n",
              "    </tr>\n",
              "    <tr>\n",
              "      <th>1</th>\n",
              "      <td>8.6</td>\n",
              "      <td>65</td>\n",
              "      <td>10.3</td>\n",
              "    </tr>\n",
              "    <tr>\n",
              "      <th>2</th>\n",
              "      <td>8.8</td>\n",
              "      <td>63</td>\n",
              "      <td>10.2</td>\n",
              "    </tr>\n",
              "    <tr>\n",
              "      <th>3</th>\n",
              "      <td>10.5</td>\n",
              "      <td>72</td>\n",
              "      <td>16.4</td>\n",
              "    </tr>\n",
              "    <tr>\n",
              "      <th>4</th>\n",
              "      <td>10.7</td>\n",
              "      <td>81</td>\n",
              "      <td>18.8</td>\n",
              "    </tr>\n",
              "  </tbody>\n",
              "</table>\n",
              "</div>"
            ],
            "text/plain": [
              "   Girth  Height  Volume\n",
              "0    8.3      70    10.3\n",
              "1    8.6      65    10.3\n",
              "2    8.8      63    10.2\n",
              "3   10.5      72    16.4\n",
              "4   10.7      81    18.8"
            ]
          },
          "metadata": {
            "tags": []
          },
          "execution_count": 8
        }
      ]
    },
    {
      "cell_type": "code",
      "metadata": {
        "id": "Lfmtjz0ThmEg",
        "colab_type": "code",
        "outputId": "3572b2ac-85b4-42eb-d6aa-94e9592aa996",
        "colab": {
          "base_uri": "https://localhost:8080/",
          "height": 34
        }
      },
      "source": [
        "# bins determina a faixa dos valroes, pode ser auto, ou um valor numerico\n",
        "# monsta um histograma sem ser visual\n",
        "h = np.histogram(base.iloc[:, 1], bins='auto')\n",
        "print(h)"
      ],
      "execution_count": 0,
      "outputs": [
        {
          "output_type": "stream",
          "text": [
            "(array([4, 2, 5, 7, 9, 4]), array([63., 67., 71., 75., 79., 83., 87.]))\n"
          ],
          "name": "stdout"
        }
      ]
    },
    {
      "cell_type": "code",
      "metadata": {
        "id": "TwFCumRh2jiV",
        "colab_type": "code",
        "outputId": "d4b5ee25-4f94-4203-ee43-1fb5959f3c2a",
        "colab": {
          "base_uri": "https://localhost:8080/",
          "height": 295
        }
      },
      "source": [
        "# monta o histograma visual\n",
        "# bins determina a faixa dos valroes, pode ser auto, ou um valor numerico\n",
        "plt.title('Arvore')\n",
        "plt.ylabel('Frequencia')\n",
        "plt.xlabel('Altura')\n",
        "plt.hist(base.iloc[:, 1], bins='auto')\n",
        "plt.show()\n"
      ],
      "execution_count": 0,
      "outputs": [
        {
          "output_type": "display_data",
          "data": {
            "image/png": "[encoded data removed]",
            "text/plain": [
              "<Figure size 432x288 with 1 Axes>"
            ]
          },
          "metadata": {
            "tags": []
          }
        }
      ]
    },
    {
      "cell_type": "markdown",
      "metadata": {
        "id": "F6YDdhV-87Az",
        "colab_type": "text"
      },
      "source": [
        "# **Histograma Condiciona (Seaborn)**"
      ]
    },
    {
      "cell_type": "code",
      "metadata": {
        "id": "Va1R6a7o9CyX",
        "colab_type": "code",
        "outputId": "09907e12-58f4-489b-d919-ba3759ec6b10",
        "colab": {
          "base_uri": "https://localhost:8080/",
          "height": 51
        }
      },
      "source": [
        "# bibliotecas\n",
        "import pandas as pd\n",
        "import seaborn as srn\n",
        "import matplotlib.pyplot as plt\n",
        "%matplotlib inline"
      ],
      "execution_count": 0,
      "outputs": [
        {
          "output_type": "stream",
          "text": [
            "/usr/local/lib/python3.6/dist-packages/statsmodels/tools/_testing.py:19: FutureWarning: pandas.util.testing is deprecated. Use the functions in the public API at pandas.testing instead.\n",
            "  import pandas.util.testing as tm\n"
          ],
          "name": "stderr"
        }
      ]
    },
    {
      "cell_type": "code",
      "metadata": {
        "id": "RR3CTkz-9PyV",
        "colab_type": "code",
        "outputId": "2fa89675-21f8-40d9-ff7a-27f7fc44636a",
        "colab": {
          "base_uri": "https://localhost:8080/",
          "height": 204
        }
      },
      "source": [
        "base = getTrees()\n",
        "base.head()"
      ],
      "execution_count": 0,
      "outputs": [
        {
          "output_type": "execute_result",
          "data": {
            "text/html": [
              "<div>\n",
              "<style scoped>\n",
              "    .dataframe tbody tr th:only-of-type {\n",
              "        vertical-align: middle;\n",
              "    }\n",
              "\n",
              "    .dataframe tbody tr th {\n",
              "        vertical-align: top;\n",
              "    }\n",
              "\n",
              "    .dataframe thead th {\n",
              "        text-align: right;\n",
              "    }\n",
              "</style>\n",
              "<table border=\"1\" class=\"dataframe\">\n",
              "  <thead>\n",
              "    <tr style=\"text-align: right;\">\n",
              "      <th></th>\n",
              "      <th>Girth</th>\n",
              "      <th>Height</th>\n",
              "      <th>Volume</th>\n",
              "    </tr>\n",
              "  </thead>\n",
              "  <tbody>\n",
              "    <tr>\n",
              "      <th>0</th>\n",
              "      <td>8.3</td>\n",
              "      <td>70</td>\n",
              "      <td>10.3</td>\n",
              "    </tr>\n",
              "    <tr>\n",
              "      <th>1</th>\n",
              "      <td>8.6</td>\n",
              "      <td>65</td>\n",
              "      <td>10.3</td>\n",
              "    </tr>\n",
              "    <tr>\n",
              "      <th>2</th>\n",
              "      <td>8.8</td>\n",
              "      <td>63</td>\n",
              "      <td>10.2</td>\n",
              "    </tr>\n",
              "    <tr>\n",
              "      <th>3</th>\n",
              "      <td>10.5</td>\n",
              "      <td>72</td>\n",
              "      <td>16.4</td>\n",
              "    </tr>\n",
              "    <tr>\n",
              "      <th>4</th>\n",
              "      <td>10.7</td>\n",
              "      <td>81</td>\n",
              "      <td>18.8</td>\n",
              "    </tr>\n",
              "  </tbody>\n",
              "</table>\n",
              "</div>"
            ],
            "text/plain": [
              "   Girth  Height  Volume\n",
              "0    8.3      70    10.3\n",
              "1    8.6      65    10.3\n",
              "2    8.8      63    10.2\n",
              "3   10.5      72    16.4\n",
              "4   10.7      81    18.8"
            ]
          },
          "metadata": {
            "tags": []
          },
          "execution_count": 4
        }
      ]
    },
    {
      "cell_type": "code",
      "metadata": {
        "id": "lTd5AzC39XZ9",
        "colab_type": "code",
        "outputId": "f8f79b22-be3a-4429-ba9f-06ec2bd4d7da",
        "colab": {
          "base_uri": "https://localhost:8080/",
          "height": 312
        }
      },
      "source": [
        "# gera o histograma\n",
        "# bins indica o quanto sera \"quebrado\" o histograma\n",
        "print(srn.distplot(base.Volume, bins=10, axlabel='Volume').set_title('Arvores'))"
      ],
      "execution_count": 0,
      "outputs": [
        {
          "output_type": "stream",
          "text": [
            "Text(0.5, 1.0, 'Arvores')\n"
          ],
          "name": "stdout"
        },
        {
          "output_type": "display_data",
          "data": {
            "image/png": "[encoded data removed]",
            "text/plain": [
              "<Figure size 432x288 with 1 Axes>"
            ]
          },
          "metadata": {
            "tags": [],
            "needs_background": "light"
          }
        }
      ]
    },
    {
      "cell_type": "code",
      "metadata": {
        "id": "TS8Z5o5I-SnO",
        "colab_type": "code",
        "outputId": "15bd80a6-3256-4d03-b05a-79e319444dc1",
        "colab": {
          "base_uri": "https://localhost:8080/",
          "height": 204
        }
      },
      "source": [
        "# carrega a segunda base\n",
        "base2 = getChicken()\n",
        "base2.head()"
      ],
      "execution_count": 0,
      "outputs": [
        {
          "output_type": "execute_result",
          "data": {
            "text/html": [
              "<div>\n",
              "<style scoped>\n",
              "    .dataframe tbody tr th:only-of-type {\n",
              "        vertical-align: middle;\n",
              "    }\n",
              "\n",
              "    .dataframe tbody tr th {\n",
              "        vertical-align: top;\n",
              "    }\n",
              "\n",
              "    .dataframe thead th {\n",
              "        text-align: right;\n",
              "    }\n",
              "</style>\n",
              "<table border=\"1\" class=\"dataframe\">\n",
              "  <thead>\n",
              "    <tr style=\"text-align: right;\">\n",
              "      <th></th>\n",
              "      <th>weight</th>\n",
              "      <th>feed</th>\n",
              "    </tr>\n",
              "  </thead>\n",
              "  <tbody>\n",
              "    <tr>\n",
              "      <th>0</th>\n",
              "      <td>179</td>\n",
              "      <td>horsebean</td>\n",
              "    </tr>\n",
              "    <tr>\n",
              "      <th>1</th>\n",
              "      <td>160</td>\n",
              "      <td>horsebean</td>\n",
              "    </tr>\n",
              "    <tr>\n",
              "      <th>2</th>\n",
              "      <td>136</td>\n",
              "      <td>horsebean</td>\n",
              "    </tr>\n",
              "    <tr>\n",
              "      <th>3</th>\n",
              "      <td>227</td>\n",
              "      <td>horsebean</td>\n",
              "    </tr>\n",
              "    <tr>\n",
              "      <th>4</th>\n",
              "      <td>217</td>\n",
              "      <td>horsebean</td>\n",
              "    </tr>\n",
              "  </tbody>\n",
              "</table>\n",
              "</div>"
            ],
            "text/plain": [
              "   weight       feed\n",
              "0     179  horsebean\n",
              "1     160  horsebean\n",
              "2     136  horsebean\n",
              "3     227  horsebean\n",
              "4     217  horsebean"
            ]
          },
          "metadata": {
            "tags": []
          },
          "execution_count": 18
        }
      ]
    },
    {
      "cell_type": "code",
      "metadata": {
        "id": "ypuNMdwX-YDd",
        "colab_type": "code",
        "outputId": "b2682c88-47a9-4bfa-df18-2171e1b5ec4b",
        "colab": {
          "base_uri": "https://localhost:8080/",
          "height": 153
        }
      },
      "source": [
        "# agrupa apenas para visualizar os valores somados pelo tipo de alimentação das galinhas\n",
        "print(base2.groupby(['feed'])['weight'].sum())"
      ],
      "execution_count": 0,
      "outputs": [
        {
          "output_type": "stream",
          "text": [
            "feed\n",
            "casein       3883\n",
            "horsebean    1602\n",
            "linseed      2625\n",
            "meatmeal     3046\n",
            "soybean      3450\n",
            "sunflower    3947\n",
            "Name: weight, dtype: int64\n"
          ],
          "name": "stdout"
        }
      ]
    },
    {
      "cell_type": "code",
      "metadata": {
        "id": "Ms2EGe1eA4Y_",
        "colab_type": "code",
        "outputId": "4ad18601-d2a8-4e01-85cf-ed571cd4fb6a",
        "colab": {
          "base_uri": "https://localhost:8080/",
          "height": 297
        }
      },
      "source": [
        "# gera os histogramas, montando varios graficos em um, usando o tipo de comida como x\n",
        "plt.figure()\n",
        "plt.subplot(3,2,1)\n",
        "srn.distplot(base2.loc[base2['feed']=='horsebean'].weight).set_title('horsebean')\n",
        "\n",
        "plt.subplot(3,2,2)\n",
        "srn.distplot(base2.loc[base2['feed']=='casein'].weight).set_title('casein')\n",
        "\n",
        "plt.subplot(3,2,3)\n",
        "srn.distplot(base2.loc[base2['feed']=='linseed'].weight).set_title('linseed')\n",
        "\n",
        "plt.subplot(3,2,4)\n",
        "srn.distplot(base2.loc[base2['feed']=='meatmeal'].weight).set_title('meatmeal')\n",
        "\n",
        "plt.subplot(3,2,5)\n",
        "srn.distplot(base2.loc[base2['feed']=='soybean'].weight).set_title('soybean')\n",
        "\n",
        "plt.subplot(3,2,6)\n",
        "srn.distplot(base2.loc[base2['feed']=='sunflower'].weight).set_title('sunflower')\n",
        "\n",
        "# marca como leyout pequeno para melhorar a visualização\n",
        "plt.tight_layout()"
      ],
      "execution_count": 0,
      "outputs": [
        {
          "output_type": "display_data",
          "data": {
            "image/png": "[encoded data removed]",
            "text/plain": [
              "<Figure size 432x288 with 6 Axes>"
            ]
          },
          "metadata": {
            "tags": [],
            "needs_background": "light"
          }
        }
      ]
    },
    {
      "cell_type": "markdown",
      "metadata": {
        "id": "r5BnDLxX3TGS",
        "colab_type": "text"
      },
      "source": [
        "# **Densidade**"
      ]
    },
    {
      "cell_type": "code",
      "metadata": {
        "id": "RSLSuSEN3W8I",
        "colab_type": "code",
        "colab": {}
      },
      "source": [
        "import pandas as pd\n",
        "import matplotlib.pyplot as plt\n",
        "%matplotlib inline\n",
        "import seaborn as sns"
      ],
      "execution_count": 0,
      "outputs": []
    },
    {
      "cell_type": "code",
      "metadata": {
        "id": "P91JyWvr4ZR7",
        "colab_type": "code",
        "outputId": "49646063-63b7-4d91-a01c-0478573d0d15",
        "colab": {
          "base_uri": "https://localhost:8080/",
          "height": 204
        }
      },
      "source": [
        "base = getTrees()\n",
        "base.head()"
      ],
      "execution_count": 0,
      "outputs": [
        {
          "output_type": "execute_result",
          "data": {
            "text/html": [
              "<div>\n",
              "<style scoped>\n",
              "    .dataframe tbody tr th:only-of-type {\n",
              "        vertical-align: middle;\n",
              "    }\n",
              "\n",
              "    .dataframe tbody tr th {\n",
              "        vertical-align: top;\n",
              "    }\n",
              "\n",
              "    .dataframe thead th {\n",
              "        text-align: right;\n",
              "    }\n",
              "</style>\n",
              "<table border=\"1\" class=\"dataframe\">\n",
              "  <thead>\n",
              "    <tr style=\"text-align: right;\">\n",
              "      <th></th>\n",
              "      <th>Girth</th>\n",
              "      <th>Height</th>\n",
              "      <th>Volume</th>\n",
              "    </tr>\n",
              "  </thead>\n",
              "  <tbody>\n",
              "    <tr>\n",
              "      <th>0</th>\n",
              "      <td>8.3</td>\n",
              "      <td>70</td>\n",
              "      <td>10.3</td>\n",
              "    </tr>\n",
              "    <tr>\n",
              "      <th>1</th>\n",
              "      <td>8.6</td>\n",
              "      <td>65</td>\n",
              "      <td>10.3</td>\n",
              "    </tr>\n",
              "    <tr>\n",
              "      <th>2</th>\n",
              "      <td>8.8</td>\n",
              "      <td>63</td>\n",
              "      <td>10.2</td>\n",
              "    </tr>\n",
              "    <tr>\n",
              "      <th>3</th>\n",
              "      <td>10.5</td>\n",
              "      <td>72</td>\n",
              "      <td>16.4</td>\n",
              "    </tr>\n",
              "    <tr>\n",
              "      <th>4</th>\n",
              "      <td>10.7</td>\n",
              "      <td>81</td>\n",
              "      <td>18.8</td>\n",
              "    </tr>\n",
              "  </tbody>\n",
              "</table>\n",
              "</div>"
            ],
            "text/plain": [
              "   Girth  Height  Volume\n",
              "0    8.3      70    10.3\n",
              "1    8.6      65    10.3\n",
              "2    8.8      63    10.2\n",
              "3   10.5      72    16.4\n",
              "4   10.7      81    18.8"
            ]
          },
          "metadata": {
            "tags": []
          },
          "execution_count": 10
        }
      ]
    },
    {
      "cell_type": "code",
      "metadata": {
        "id": "KHdGDzPC4feK",
        "colab_type": "code",
        "outputId": "58296db7-069c-4466-d96f-19d5b2b99896",
        "colab": {
          "base_uri": "https://localhost:8080/",
          "height": 265
        }
      },
      "source": [
        "# gera histograma pelo matplotlib\n",
        "# bins determina a faixa dos valroes, pode ser auto, ou um valor numerico\n",
        "plt.hist(base.iloc[:, 1], bins = 10)\n",
        "plt.show()"
      ],
      "execution_count": 0,
      "outputs": [
        {
          "output_type": "display_data",
          "data": {
            "image/png": "[encoded data removed]",
            "text/plain": [
              "<Figure size 432x288 with 1 Axes>"
            ]
          },
          "metadata": {
            "tags": []
          }
        }
      ]
    },
    {
      "cell_type": "code",
      "metadata": {
        "id": "h0F6NlFr5lT0",
        "colab_type": "code",
        "outputId": "bb36c4c2-a848-4f5b-eb76-7c4a242e59b4",
        "colab": {
          "base_uri": "https://localhost:8080/",
          "height": 299
        }
      },
      "source": [
        "# densidade e histograma\n",
        "sns.distplot(base.iloc[:,1])"
      ],
      "execution_count": 0,
      "outputs": [
        {
          "output_type": "execute_result",
          "data": {
            "text/plain": [
              "<matplotlib.axes._subplots.AxesSubplot at 0x7f8cc66589b0>"
            ]
          },
          "metadata": {
            "tags": []
          },
          "execution_count": 15
        },
        {
          "output_type": "display_data",
          "data": {
            "image/png": "[encoded data removed]",
            "text/plain": [
              "<Figure size 432x288 with 1 Axes>"
            ]
          },
          "metadata": {
            "tags": []
          }
        }
      ]
    },
    {
      "cell_type": "code",
      "metadata": {
        "id": "0j0TQgg057yK",
        "colab_type": "code",
        "outputId": "94df44a4-d2cc-4bc6-e81b-793ca04f615d",
        "colab": {
          "base_uri": "https://localhost:8080/",
          "height": 300
        }
      },
      "source": [
        "# somente densidade\n",
        "sns.distplot(base.iloc[:,1], hist=False)"
      ],
      "execution_count": 0,
      "outputs": [
        {
          "output_type": "execute_result",
          "data": {
            "text/plain": [
              "<matplotlib.axes._subplots.AxesSubplot at 0x7f8cc65ba978>"
            ]
          },
          "metadata": {
            "tags": []
          },
          "execution_count": 16
        },
        {
          "output_type": "display_data",
          "data": {
            "image/png": "[encoded data removed]",
            "text/plain": [
              "<Figure size 432x288 with 1 Axes>"
            ]
          },
          "metadata": {
            "tags": []
          }
        }
      ]
    },
    {
      "cell_type": "code",
      "metadata": {
        "id": "KmYYkh856BzK",
        "colab_type": "code",
        "outputId": "0cbc488f-92cd-4e9a-fb84-14fd1d396677",
        "colab": {
          "base_uri": "https://localhost:8080/",
          "height": 296
        }
      },
      "source": [
        "# somente histograma\n",
        "sns.distplot(base.iloc[:,1], kde=False)"
      ],
      "execution_count": 0,
      "outputs": [
        {
          "output_type": "execute_result",
          "data": {
            "text/plain": [
              "<matplotlib.axes._subplots.AxesSubplot at 0x7f8cc6595400>"
            ]
          },
          "metadata": {
            "tags": []
          },
          "execution_count": 17
        },
        {
          "output_type": "display_data",
          "data": {
            "image/png": "[encoded data removed]",
            "text/plain": [
              "<Figure size 432x288 with 1 Axes>"
            ]
          },
          "metadata": {
            "tags": []
          }
        }
      ]
    },
    {
      "cell_type": "code",
      "metadata": {
        "id": "ZQwxeWdX6Qxb",
        "colab_type": "code",
        "outputId": "17a20cd0-9157-4f13-97cb-5e277dcda8b3",
        "colab": {
          "base_uri": "https://localhost:8080/",
          "height": 299
        }
      },
      "source": [
        "# demais opçoes\n",
        "sns.distplot(base.iloc[:,1], color='blue', hist_kws={'edgecolor': 'black'})"
      ],
      "execution_count": 0,
      "outputs": [
        {
          "output_type": "execute_result",
          "data": {
            "text/plain": [
              "<matplotlib.axes._subplots.AxesSubplot at 0x7f8cc64607b8>"
            ]
          },
          "metadata": {
            "tags": []
          },
          "execution_count": 20
        },
        {
          "output_type": "display_data",
          "data": {
            "image/png": "[encoded data removed]",
            "text/plain": [
              "<Figure size 432x288 with 1 Axes>"
            ]
          },
          "metadata": {
            "tags": []
          }
        }
      ]
    },
    {
      "cell_type": "markdown",
      "metadata": {
        "id": "KSSAJhKf68zp",
        "colab_type": "text"
      },
      "source": [
        "#  **Dispersao**"
      ]
    },
    {
      "cell_type": "code",
      "metadata": {
        "id": "nc-9keWK6_5E",
        "colab_type": "code",
        "outputId": "f83bedcf-e399-4633-db0b-afada13e9358",
        "colab": {
          "base_uri": "https://localhost:8080/",
          "height": 51
        }
      },
      "source": [
        "import pandas as pd\n",
        "import matplotlib.pyplot as plt\n",
        "%matplotlib inline\n",
        "import seaborn as sns"
      ],
      "execution_count": 0,
      "outputs": [
        {
          "output_type": "stream",
          "text": [
            "/usr/local/lib/python3.6/dist-packages/statsmodels/tools/_testing.py:19: FutureWarning: pandas.util.testing is deprecated. Use the functions in the public API at pandas.testing instead.\n",
            "  import pandas.util.testing as tm\n"
          ],
          "name": "stderr"
        }
      ]
    },
    {
      "cell_type": "code",
      "metadata": {
        "id": "YokGCXJ47FSi",
        "colab_type": "code",
        "outputId": "a7b5b9f3-3436-45f7-e107-3a23036940ca",
        "colab": {
          "base_uri": "https://localhost:8080/",
          "height": 204
        }
      },
      "source": [
        "base = getTrees()\n",
        "base.head()"
      ],
      "execution_count": 0,
      "outputs": [
        {
          "output_type": "execute_result",
          "data": {
            "text/html": [
              "<div>\n",
              "<style scoped>\n",
              "    .dataframe tbody tr th:only-of-type {\n",
              "        vertical-align: middle;\n",
              "    }\n",
              "\n",
              "    .dataframe tbody tr th {\n",
              "        vertical-align: top;\n",
              "    }\n",
              "\n",
              "    .dataframe thead th {\n",
              "        text-align: right;\n",
              "    }\n",
              "</style>\n",
              "<table border=\"1\" class=\"dataframe\">\n",
              "  <thead>\n",
              "    <tr style=\"text-align: right;\">\n",
              "      <th></th>\n",
              "      <th>Girth</th>\n",
              "      <th>Height</th>\n",
              "      <th>Volume</th>\n",
              "    </tr>\n",
              "  </thead>\n",
              "  <tbody>\n",
              "    <tr>\n",
              "      <th>0</th>\n",
              "      <td>8.3</td>\n",
              "      <td>70</td>\n",
              "      <td>10.3</td>\n",
              "    </tr>\n",
              "    <tr>\n",
              "      <th>1</th>\n",
              "      <td>8.6</td>\n",
              "      <td>65</td>\n",
              "      <td>10.3</td>\n",
              "    </tr>\n",
              "    <tr>\n",
              "      <th>2</th>\n",
              "      <td>8.8</td>\n",
              "      <td>63</td>\n",
              "      <td>10.2</td>\n",
              "    </tr>\n",
              "    <tr>\n",
              "      <th>3</th>\n",
              "      <td>10.5</td>\n",
              "      <td>72</td>\n",
              "      <td>16.4</td>\n",
              "    </tr>\n",
              "    <tr>\n",
              "      <th>4</th>\n",
              "      <td>10.7</td>\n",
              "      <td>81</td>\n",
              "      <td>18.8</td>\n",
              "    </tr>\n",
              "  </tbody>\n",
              "</table>\n",
              "</div>"
            ],
            "text/plain": [
              "   Girth  Height  Volume\n",
              "0    8.3      70    10.3\n",
              "1    8.6      65    10.3\n",
              "2    8.8      63    10.2\n",
              "3   10.5      72    16.4\n",
              "4   10.7      81    18.8"
            ]
          },
          "metadata": {
            "tags": []
          },
          "execution_count": 3
        }
      ]
    },
    {
      "cell_type": "code",
      "metadata": {
        "id": "k8cAUOSaWhAr",
        "colab_type": "code",
        "outputId": "67ed1866-213d-4b07-d5db-44162556715b",
        "colab": {
          "base_uri": "https://localhost:8080/",
          "height": 295
        }
      },
      "source": [
        "# usando matplot lib\n",
        "plt.title('Arvores')\n",
        "plt.xlabel('Volume')\n",
        "plt.ylabel('Circunferencia')\n",
        "plt.scatter(base.Girth, base.Volume)\n",
        "plt.show()"
      ],
      "execution_count": 0,
      "outputs": [
        {
          "output_type": "display_data",
          "data": {
            "image/png": "[encoded data removed]",
            "text/plain": [
              "<Figure size 432x288 with 1 Axes>"
            ]
          },
          "metadata": {
            "tags": []
          }
        }
      ]
    },
    {
      "cell_type": "code",
      "metadata": {
        "id": "ata2h6cfhoU2",
        "colab_type": "code",
        "outputId": "23adceea-89e3-40ea-ae4a-641e026b8698",
        "colab": {
          "base_uri": "https://localhost:8080/",
          "height": 298
        }
      },
      "source": [
        "# com seaborn, adicionando ruido visual com jitter, para nao ficar com pontos sobrepostos, e so visual nao interfere no resultado\n",
        "# nem sempre funciona se tiver muitos registros\n",
        "sns.regplot(base.Girth, base.Volume, data = base, x_jitter = 0.3, fit_reg = True)\n"
      ],
      "execution_count": 0,
      "outputs": [
        {
          "output_type": "execute_result",
          "data": {
            "text/plain": [
              "<matplotlib.axes._subplots.AxesSubplot at 0x7fb862eb8b38>"
            ]
          },
          "metadata": {
            "tags": []
          },
          "execution_count": 9
        },
        {
          "output_type": "display_data",
          "data": {
            "image/png": "[encoded data removed]",
            "text/plain": [
              "<Figure size 432x288 with 1 Axes>"
            ]
          },
          "metadata": {
            "tags": []
          }
        }
      ]
    },
    {
      "cell_type": "code",
      "metadata": {
        "id": "63fE0vxPiNfw",
        "colab_type": "code",
        "outputId": "7b2cb139-ffaf-43f8-8212-87b40692764f",
        "colab": {
          "base_uri": "https://localhost:8080/",
          "height": 299
        }
      },
      "source": [
        "\n",
        "# sem a linha de regressão\n",
        "sns.regplot(base.Girth, base.Volume, data = base, x_jitter = 0.3, fit_reg = False)"
      ],
      "execution_count": 0,
      "outputs": [
        {
          "output_type": "execute_result",
          "data": {
            "text/plain": [
              "<matplotlib.axes._subplots.AxesSubplot at 0x7fb862e73908>"
            ]
          },
          "metadata": {
            "tags": []
          },
          "execution_count": 10
        },
        {
          "output_type": "display_data",
          "data": {
            "image/png": "[encoded data removed]",
            "text/plain": [
              "<Figure size 432x288 with 1 Axes>"
            ]
          },
          "metadata": {
            "tags": []
          }
        }
      ]
    },
    {
      "cell_type": "markdown",
      "metadata": {
        "id": "zFj23DqHiWqY",
        "colab_type": "text"
      },
      "source": [
        "#  **Dispesão com legendas, ou categoricas**"
      ]
    },
    {
      "cell_type": "code",
      "metadata": {
        "id": "5Fi0O9vCiUo-",
        "colab_type": "code",
        "colab": {}
      },
      "source": [
        "import pandas as pd\n",
        "import matplotlib.pyplot as plt\n",
        "%matplotlib inline\n",
        "import seaborn as srn"
      ],
      "execution_count": 0,
      "outputs": []
    },
    {
      "cell_type": "code",
      "metadata": {
        "id": "2oDATy7kikXf",
        "colab_type": "code",
        "outputId": "2083fb1c-5f11-44cd-c704-0049d3eea696",
        "colab": {
          "base_uri": "https://localhost:8080/",
          "height": 204
        }
      },
      "source": [
        "base = getCO2()\n",
        "base.head()"
      ],
      "execution_count": 0,
      "outputs": [
        {
          "output_type": "execute_result",
          "data": {
            "text/html": [
              "<div>\n",
              "<style scoped>\n",
              "    .dataframe tbody tr th:only-of-type {\n",
              "        vertical-align: middle;\n",
              "    }\n",
              "\n",
              "    .dataframe tbody tr th {\n",
              "        vertical-align: top;\n",
              "    }\n",
              "\n",
              "    .dataframe thead th {\n",
              "        text-align: right;\n",
              "    }\n",
              "</style>\n",
              "<table border=\"1\" class=\"dataframe\">\n",
              "  <thead>\n",
              "    <tr style=\"text-align: right;\">\n",
              "      <th></th>\n",
              "      <th>Plant\"</th>\n",
              "      <th>Type</th>\n",
              "      <th>Treatment</th>\n",
              "      <th>conc</th>\n",
              "      <th>uptake</th>\n",
              "    </tr>\n",
              "  </thead>\n",
              "  <tbody>\n",
              "    <tr>\n",
              "      <th>0</th>\n",
              "      <td>Qn1</td>\n",
              "      <td>Quebec</td>\n",
              "      <td>nonchilled</td>\n",
              "      <td>95</td>\n",
              "      <td>16.0</td>\n",
              "    </tr>\n",
              "    <tr>\n",
              "      <th>1</th>\n",
              "      <td>Qn1</td>\n",
              "      <td>Quebec</td>\n",
              "      <td>nonchilled</td>\n",
              "      <td>175</td>\n",
              "      <td>30.4</td>\n",
              "    </tr>\n",
              "    <tr>\n",
              "      <th>2</th>\n",
              "      <td>Qn1</td>\n",
              "      <td>Quebec</td>\n",
              "      <td>nonchilled</td>\n",
              "      <td>250</td>\n",
              "      <td>34.8</td>\n",
              "    </tr>\n",
              "    <tr>\n",
              "      <th>3</th>\n",
              "      <td>Qn1</td>\n",
              "      <td>Quebec</td>\n",
              "      <td>nonchilled</td>\n",
              "      <td>350</td>\n",
              "      <td>37.2</td>\n",
              "    </tr>\n",
              "    <tr>\n",
              "      <th>4</th>\n",
              "      <td>Qn1</td>\n",
              "      <td>Quebec</td>\n",
              "      <td>nonchilled</td>\n",
              "      <td>500</td>\n",
              "      <td>35.3</td>\n",
              "    </tr>\n",
              "  </tbody>\n",
              "</table>\n",
              "</div>"
            ],
            "text/plain": [
              "  Plant\"    Type   Treatment  conc  uptake\n",
              "0    Qn1  Quebec  nonchilled    95    16.0\n",
              "1    Qn1  Quebec  nonchilled   175    30.4\n",
              "2    Qn1  Quebec  nonchilled   250    34.8\n",
              "3    Qn1  Quebec  nonchilled   350    37.2\n",
              "4    Qn1  Quebec  nonchilled   500    35.3"
            ]
          },
          "metadata": {
            "tags": []
          },
          "execution_count": 3
        }
      ]
    },
    {
      "cell_type": "code",
      "metadata": {
        "id": "yAJotTAsirlH",
        "colab_type": "code",
        "colab": {}
      },
      "source": [
        "# cria os eixos\n",
        "x = base.conc\n",
        "y = base.uptake\n",
        "\n",
        "# pega os nomes das categorias, set retorna uma lista com os valores unicos\n",
        "unicos = list(set(base.Treatment))"
      ],
      "execution_count": 0,
      "outputs": []
    },
    {
      "cell_type": "code",
      "metadata": {
        "id": "UuxGLtfviz02",
        "colab_type": "code",
        "outputId": "51671746-8b02-4193-8c58-c488a4238a83",
        "colab": {
          "base_uri": "https://localhost:8080/",
          "height": 265
        }
      },
      "source": [
        "# monta o grafico conforme a classe\n",
        "for i in range(len(unicos)):\n",
        "  # pega somente os valores da classe atual\n",
        "  indice = base.Treatment == unicos[i]\n",
        "  plt.scatter(x[indice], y[indice], label = unicos[i])\n",
        "plt.legend(loc = 'lower right')\n",
        "plt.show()"
      ],
      "execution_count": 0,
      "outputs": [
        {
          "output_type": "display_data",
          "data": {
            "image/png": "[encoded data removed]",
            "text/plain": [
              "<Figure size 432x288 with 1 Axes>"
            ]
          },
          "metadata": {
            "tags": []
          }
        }
      ]
    },
    {
      "cell_type": "code",
      "metadata": {
        "id": "Jm03JdaUR6-e",
        "colab_type": "code",
        "outputId": "0b577ee2-f0c9-4be1-82b9-500555312ac1",
        "colab": {
          "base_uri": "https://localhost:8080/",
          "height": 296
        }
      },
      "source": [
        "# usando seaborn\n",
        "# hue = legenda\n",
        "print(srn.scatterplot(base.conc, base.uptake, hue = base.Type))"
      ],
      "execution_count": 0,
      "outputs": [
        {
          "output_type": "stream",
          "text": [
            "AxesSubplot(0.125,0.125;0.775x0.755)\n"
          ],
          "name": "stdout"
        },
        {
          "output_type": "display_data",
          "data": {
            "image/png": "[encoded data removed]",
            "text/plain": [
              "<Figure size 432x288 with 1 Axes>"
            ]
          },
          "metadata": {
            "tags": [],
            "needs_background": "light"
          }
        }
      ]
    },
    {
      "cell_type": "code",
      "metadata": {
        "id": "vQF2eFaETMB_",
        "colab_type": "code",
        "outputId": "4286406a-00c0-4d55-e601-b49c7d0a73b8",
        "colab": {
          "base_uri": "https://localhost:8080/",
          "height": 297
        }
      },
      "source": [
        "# dispersao separado por Type\n",
        "# separa cada valor de type em variaveis e depois plota ela\n",
        "q = base.loc[base['Type'] == 'Quebec']\n",
        "m = base.loc[base['Type'] == 'Mississippi']\n",
        "\n",
        "# prepara para gerar varios graficos\n",
        "plt.figure()\n",
        "\n",
        "plt.subplot(1,2,1)\n",
        "srn.scatterplot(q.conc, q.uptake).set_title('Quebec')\n",
        "\n",
        "plt.subplot(1,2,2)\n",
        "srn.scatterplot(m.conc, m.uptake).set_title('Mississippi')\n",
        "\n",
        "# marca como l ayout pequeno\n",
        "plt.tight_layout()\n"
      ],
      "execution_count": 0,
      "outputs": [
        {
          "output_type": "display_data",
          "data": {
            "image/png": "[encoded data removed]",
            "text/plain": [
              "<Figure size 432x288 with 2 Axes>"
            ]
          },
          "metadata": {
            "tags": [],
            "needs_background": "light"
          }
        }
      ]
    },
    {
      "cell_type": "code",
      "metadata": {
        "id": "iwb38ZDBWkc8",
        "colab_type": "code",
        "outputId": "8761f591-2b7d-485f-99fc-76c62410fc6d",
        "colab": {
          "base_uri": "https://localhost:8080/",
          "height": 297
        }
      },
      "source": [
        "ch = base.loc[base['Treatment'] == 'chilled']\n",
        "nc = base.loc[base['Treatment'] == 'nonchilled']\n",
        "\n",
        "# prepara para gerar varios graficos\n",
        "plt.figure()\n",
        "\n",
        "plt.subplot(1,2,1)\n",
        "srn.scatterplot(ch.conc, ch.uptake).set_title('Chilled')\n",
        "\n",
        "plt.subplot(1,2,2)\n",
        "srn.scatterplot(nc.conc, nc.uptake).set_title('Non Chilled')\n",
        "\n",
        "# marca como l ayout pequeno\n",
        "plt.tight_layout()"
      ],
      "execution_count": 0,
      "outputs": [
        {
          "output_type": "display_data",
          "data": {
            "image/png": "[encoded data removed]",
            "text/plain": [
              "<Figure size 432x288 with 2 Axes>"
            ]
          },
          "metadata": {
            "tags": [],
            "needs_background": "light"
          }
        }
      ]
    },
    {
      "cell_type": "code",
      "metadata": {
        "id": "UziSwiChXqZz",
        "colab_type": "code",
        "outputId": "ce0b3e37-caea-4f39-fcab-b7199ec47ba0",
        "colab": {
          "base_uri": "https://localhost:8080/",
          "height": 204
        }
      },
      "source": [
        "base2 = getEsoph()\n",
        "base2.head()"
      ],
      "execution_count": 0,
      "outputs": [
        {
          "output_type": "execute_result",
          "data": {
            "text/html": [
              "<div>\n",
              "<style scoped>\n",
              "    .dataframe tbody tr th:only-of-type {\n",
              "        vertical-align: middle;\n",
              "    }\n",
              "\n",
              "    .dataframe tbody tr th {\n",
              "        vertical-align: top;\n",
              "    }\n",
              "\n",
              "    .dataframe thead th {\n",
              "        text-align: right;\n",
              "    }\n",
              "</style>\n",
              "<table border=\"1\" class=\"dataframe\">\n",
              "  <thead>\n",
              "    <tr style=\"text-align: right;\">\n",
              "      <th></th>\n",
              "      <th>agegp</th>\n",
              "      <th>alcgp</th>\n",
              "      <th>tobgp</th>\n",
              "      <th>ncases</th>\n",
              "      <th>ncontrols</th>\n",
              "    </tr>\n",
              "  </thead>\n",
              "  <tbody>\n",
              "    <tr>\n",
              "      <th>0</th>\n",
              "      <td>25-34</td>\n",
              "      <td>0-39g/day</td>\n",
              "      <td>0-9g/day</td>\n",
              "      <td>0</td>\n",
              "      <td>40</td>\n",
              "    </tr>\n",
              "    <tr>\n",
              "      <th>1</th>\n",
              "      <td>25-34</td>\n",
              "      <td>0-39g/day</td>\n",
              "      <td>10-19</td>\n",
              "      <td>0</td>\n",
              "      <td>10</td>\n",
              "    </tr>\n",
              "    <tr>\n",
              "      <th>2</th>\n",
              "      <td>25-34</td>\n",
              "      <td>0-39g/day</td>\n",
              "      <td>20-29</td>\n",
              "      <td>0</td>\n",
              "      <td>6</td>\n",
              "    </tr>\n",
              "    <tr>\n",
              "      <th>3</th>\n",
              "      <td>25-34</td>\n",
              "      <td>0-39g/day</td>\n",
              "      <td>30+</td>\n",
              "      <td>0</td>\n",
              "      <td>5</td>\n",
              "    </tr>\n",
              "    <tr>\n",
              "      <th>4</th>\n",
              "      <td>25-34</td>\n",
              "      <td>40-79</td>\n",
              "      <td>0-9g/day</td>\n",
              "      <td>0</td>\n",
              "      <td>27</td>\n",
              "    </tr>\n",
              "  </tbody>\n",
              "</table>\n",
              "</div>"
            ],
            "text/plain": [
              "   agegp      alcgp     tobgp  ncases  ncontrols\n",
              "0  25-34  0-39g/day  0-9g/day       0         40\n",
              "1  25-34  0-39g/day     10-19       0         10\n",
              "2  25-34  0-39g/day     20-29       0          6\n",
              "3  25-34  0-39g/day       30+       0          5\n",
              "4  25-34      40-79  0-9g/day       0         27"
            ]
          },
          "metadata": {
            "tags": []
          },
          "execution_count": 18
        }
      ]
    },
    {
      "cell_type": "code",
      "metadata": {
        "id": "GangPkG9X1K7",
        "colab_type": "code",
        "outputId": "69eb8f00-0b24-489f-a382-89c27d2887cd",
        "colab": {
          "base_uri": "https://localhost:8080/",
          "height": 386
        }
      },
      "source": [
        "# usando categoricos\n",
        "# passado o jitter False, para deixar os dados com a visualização sem alteracao, se colocar como true, nao fica com pontos sobrepostos\n",
        "print(srn.catplot(x = 'alcgp', y = 'ncontrols', data = base2, jitter = False))"
      ],
      "execution_count": 0,
      "outputs": [
        {
          "output_type": "stream",
          "text": [
            "<seaborn.axisgrid.FacetGrid object at 0x7f02c78663c8>\n"
          ],
          "name": "stdout"
        },
        {
          "output_type": "display_data",
          "data": {
            "image/png": "[encoded data removed]",
            "text/plain": [
              "<Figure size 360x360 with 1 Axes>"
            ]
          },
          "metadata": {
            "tags": [],
            "needs_background": "light"
          }
        }
      ]
    },
    {
      "cell_type": "code",
      "metadata": {
        "id": "jKFnjYzeYzBE",
        "colab_type": "code",
        "outputId": "4422b8ed-cae9-44b3-bb60-5c6a6b77390a",
        "colab": {
          "base_uri": "https://localhost:8080/",
          "height": 386
        }
      },
      "source": [
        "# Agrupando por categoricos\n",
        "# passado o jitter False, para deixar os dados com a visualização sem alteracao, se colocar como true, nao fica com pontos sobrepostos\n",
        "print(srn.catplot(x = 'alcgp', y = 'ncontrols', data = base2, jitter = False, col = 'tobgp'))"
      ],
      "execution_count": 0,
      "outputs": [
        {
          "output_type": "stream",
          "text": [
            "<seaborn.axisgrid.FacetGrid object at 0x7f02ee5bb320>\n"
          ],
          "name": "stdout"
        },
        {
          "output_type": "display_data",
          "data": {
            "image/png": "[encoded data removed]",
            "text/plain": [
              "<Figure size 1440x360 with 4 Axes>"
            ]
          },
          "metadata": {
            "tags": [],
            "needs_background": "light"
          }
        }
      ]
    },
    {
      "cell_type": "markdown",
      "metadata": {
        "id": "SzY00vPVkVnc",
        "colab_type": "text"
      },
      "source": [
        "# **Varios graficos (subplot)**"
      ]
    },
    {
      "cell_type": "code",
      "metadata": {
        "id": "nufi55amkfKG",
        "colab_type": "code",
        "colab": {}
      },
      "source": [
        "import pandas as pd\n",
        "import matplotlib.pyplot as plt\n",
        "%matplotlib inline"
      ],
      "execution_count": 0,
      "outputs": []
    },
    {
      "cell_type": "code",
      "metadata": {
        "id": "MRglD4l7kuj2",
        "colab_type": "code",
        "outputId": "c610ce16-d1c1-4171-e6a0-e03128f0b8ef",
        "colab": {
          "base_uri": "https://localhost:8080/",
          "height": 204
        }
      },
      "source": [
        "base = getTrees()\n",
        "base.head()"
      ],
      "execution_count": 0,
      "outputs": [
        {
          "output_type": "execute_result",
          "data": {
            "text/html": [
              "<div>\n",
              "<style scoped>\n",
              "    .dataframe tbody tr th:only-of-type {\n",
              "        vertical-align: middle;\n",
              "    }\n",
              "\n",
              "    .dataframe tbody tr th {\n",
              "        vertical-align: top;\n",
              "    }\n",
              "\n",
              "    .dataframe thead th {\n",
              "        text-align: right;\n",
              "    }\n",
              "</style>\n",
              "<table border=\"1\" class=\"dataframe\">\n",
              "  <thead>\n",
              "    <tr style=\"text-align: right;\">\n",
              "      <th></th>\n",
              "      <th>Girth</th>\n",
              "      <th>Height</th>\n",
              "      <th>Volume</th>\n",
              "    </tr>\n",
              "  </thead>\n",
              "  <tbody>\n",
              "    <tr>\n",
              "      <th>0</th>\n",
              "      <td>8.3</td>\n",
              "      <td>70</td>\n",
              "      <td>10.3</td>\n",
              "    </tr>\n",
              "    <tr>\n",
              "      <th>1</th>\n",
              "      <td>8.6</td>\n",
              "      <td>65</td>\n",
              "      <td>10.3</td>\n",
              "    </tr>\n",
              "    <tr>\n",
              "      <th>2</th>\n",
              "      <td>8.8</td>\n",
              "      <td>63</td>\n",
              "      <td>10.2</td>\n",
              "    </tr>\n",
              "    <tr>\n",
              "      <th>3</th>\n",
              "      <td>10.5</td>\n",
              "      <td>72</td>\n",
              "      <td>16.4</td>\n",
              "    </tr>\n",
              "    <tr>\n",
              "      <th>4</th>\n",
              "      <td>10.7</td>\n",
              "      <td>81</td>\n",
              "      <td>18.8</td>\n",
              "    </tr>\n",
              "  </tbody>\n",
              "</table>\n",
              "</div>"
            ],
            "text/plain": [
              "   Girth  Height  Volume\n",
              "0    8.3      70    10.3\n",
              "1    8.6      65    10.3\n",
              "2    8.8      63    10.2\n",
              "3   10.5      72    16.4\n",
              "4   10.7      81    18.8"
            ]
          },
          "metadata": {
            "tags": []
          },
          "execution_count": 17
        }
      ]
    },
    {
      "cell_type": "code",
      "metadata": {
        "id": "vAJcR-FCkxLQ",
        "colab_type": "code",
        "outputId": "b054ba7f-396c-4390-fc6c-d8975678db35",
        "colab": {
          "base_uri": "https://localhost:8080/",
          "height": 51
        }
      },
      "source": [
        "# cria a figura, que vai conter os graficos\n",
        "plt.figure(1)"
      ],
      "execution_count": 0,
      "outputs": [
        {
          "output_type": "execute_result",
          "data": {
            "text/plain": [
              "<Figure size 432x288 with 0 Axes>"
            ]
          },
          "metadata": {
            "tags": []
          },
          "execution_count": 18
        },
        {
          "output_type": "display_data",
          "data": {
            "text/plain": [
              "<Figure size 432x288 with 0 Axes>"
            ]
          },
          "metadata": {
            "tags": []
          }
        }
      ]
    },
    {
      "cell_type": "code",
      "metadata": {
        "id": "mFfAlMLBk4Ce",
        "colab_type": "code",
        "outputId": "b99c2c23-11f1-49b7-eb20-06385172c3e9",
        "colab": {
          "base_uri": "https://localhost:8080/",
          "height": 269
        }
      },
      "source": [
        "# cria o subplot\n",
        "# primeiro parametro sao as linhas\n",
        "# segundo as colunas\n",
        "# o terceiro é o id do grafico\n",
        "\n",
        "# Girth com Volume\n",
        "plt.subplot(2,2,1)\n",
        "plt.scatter(base.Girth, base.Volume)\n",
        "\n",
        "# Girth com Height\n",
        "plt.subplot(2,2,2)\n",
        "plt.scatter(base.Girth, base.Height)\n",
        "\n",
        "# Height com Volume\n",
        "plt.subplot(2,2,3)\n",
        "plt.scatter(base.Height, base.Volume)\n",
        "\n",
        "# histograma volume\n",
        "plt.subplot(2,2,4)\n",
        "plt.hist(base.Volume)\n",
        "plt.show()"
      ],
      "execution_count": 0,
      "outputs": [
        {
          "output_type": "display_data",
          "data": {
            "image/png": "[encoded data removed]",
            "text/plain": [
              "<Figure size 432x288 with 4 Axes>"
            ]
          },
          "metadata": {
            "tags": []
          }
        }
      ]
    },
    {
      "cell_type": "markdown",
      "metadata": {
        "id": "c_ovZ_3umFWZ",
        "colab_type": "text"
      },
      "source": [
        "#  **Boxplot**"
      ]
    },
    {
      "cell_type": "code",
      "metadata": {
        "id": "TFXull_7mJwW",
        "colab_type": "code",
        "outputId": "9cd41676-9d51-473f-a10b-673933ac0e19",
        "colab": {
          "base_uri": "https://localhost:8080/",
          "height": 51
        }
      },
      "source": [
        "import pandas as pd\n",
        "import matplotlib.pyplot as plt\n",
        "%matplotlib inline\n",
        "import seaborn as srn"
      ],
      "execution_count": 0,
      "outputs": [
        {
          "output_type": "stream",
          "text": [
            "/usr/local/lib/python3.6/dist-packages/statsmodels/tools/_testing.py:19: FutureWarning: pandas.util.testing is deprecated. Use the functions in the public API at pandas.testing instead.\n",
            "  import pandas.util.testing as tm\n"
          ],
          "name": "stderr"
        }
      ]
    },
    {
      "cell_type": "code",
      "metadata": {
        "id": "yv7L7qujmMkv",
        "colab_type": "code",
        "outputId": "8d290b95-9734-49fd-a0ef-41c3c0dee843",
        "colab": {
          "base_uri": "https://localhost:8080/",
          "height": 204
        }
      },
      "source": [
        "base = getTrees()\n",
        "base.head()"
      ],
      "execution_count": 0,
      "outputs": [
        {
          "output_type": "execute_result",
          "data": {
            "text/html": [
              "<div>\n",
              "<style scoped>\n",
              "    .dataframe tbody tr th:only-of-type {\n",
              "        vertical-align: middle;\n",
              "    }\n",
              "\n",
              "    .dataframe tbody tr th {\n",
              "        vertical-align: top;\n",
              "    }\n",
              "\n",
              "    .dataframe thead th {\n",
              "        text-align: right;\n",
              "    }\n",
              "</style>\n",
              "<table border=\"1\" class=\"dataframe\">\n",
              "  <thead>\n",
              "    <tr style=\"text-align: right;\">\n",
              "      <th></th>\n",
              "      <th>Girth</th>\n",
              "      <th>Height</th>\n",
              "      <th>Volume</th>\n",
              "    </tr>\n",
              "  </thead>\n",
              "  <tbody>\n",
              "    <tr>\n",
              "      <th>0</th>\n",
              "      <td>8.3</td>\n",
              "      <td>70</td>\n",
              "      <td>10.3</td>\n",
              "    </tr>\n",
              "    <tr>\n",
              "      <th>1</th>\n",
              "      <td>8.6</td>\n",
              "      <td>65</td>\n",
              "      <td>10.3</td>\n",
              "    </tr>\n",
              "    <tr>\n",
              "      <th>2</th>\n",
              "      <td>8.8</td>\n",
              "      <td>63</td>\n",
              "      <td>10.2</td>\n",
              "    </tr>\n",
              "    <tr>\n",
              "      <th>3</th>\n",
              "      <td>10.5</td>\n",
              "      <td>72</td>\n",
              "      <td>16.4</td>\n",
              "    </tr>\n",
              "    <tr>\n",
              "      <th>4</th>\n",
              "      <td>10.7</td>\n",
              "      <td>81</td>\n",
              "      <td>18.8</td>\n",
              "    </tr>\n",
              "  </tbody>\n",
              "</table>\n",
              "</div>"
            ],
            "text/plain": [
              "   Girth  Height  Volume\n",
              "0    8.3      70    10.3\n",
              "1    8.6      65    10.3\n",
              "2    8.8      63    10.2\n",
              "3   10.5      72    16.4\n",
              "4   10.7      81    18.8"
            ]
          },
          "metadata": {
            "tags": []
          },
          "execution_count": 14
        }
      ]
    },
    {
      "cell_type": "code",
      "metadata": {
        "id": "VBiiz8KamQO-",
        "colab_type": "code",
        "outputId": "1d63046f-9262-4dee-9b98-4bf21c2ebdb2",
        "colab": {
          "base_uri": "https://localhost:8080/",
          "height": 268
        }
      },
      "source": [
        "plt.boxplot(base.Volume)\n",
        "plt.show()"
      ],
      "execution_count": 0,
      "outputs": [
        {
          "output_type": "display_data",
          "data": {
            "image/png": "[encoded data removed]",
            "text/plain": [
              "<Figure size 432x288 with 1 Axes>"
            ]
          },
          "metadata": {
            "tags": []
          }
        }
      ]
    },
    {
      "cell_type": "code",
      "metadata": {
        "id": "2QcOa6Yqmd-n",
        "colab_type": "code",
        "outputId": "7ad1f1a5-0dd7-491b-f3b1-148d8797495e",
        "colab": {
          "base_uri": "https://localhost:8080/",
          "height": 265
        }
      },
      "source": [
        "# invertido\n",
        "plt.boxplot(base.Volume, vert = False)\n",
        "plt.show()"
      ],
      "execution_count": 0,
      "outputs": [
        {
          "output_type": "display_data",
          "data": {
            "image/png": "[encoded data removed]",
            "text/plain": [
              "<Figure size 432x288 with 1 Axes>"
            ]
          },
          "metadata": {
            "tags": []
          }
        }
      ]
    },
    {
      "cell_type": "code",
      "metadata": {
        "id": "SgpTnX34mi0u",
        "colab_type": "code",
        "outputId": "8b1c8a80-439b-40eb-b5bd-f48a4038b172",
        "colab": {
          "base_uri": "https://localhost:8080/",
          "height": 265
        }
      },
      "source": [
        "# sem outliers\n",
        "plt.boxplot(base.Volume, vert = False, showfliers=False)\n",
        "plt.show()"
      ],
      "execution_count": 0,
      "outputs": [
        {
          "output_type": "display_data",
          "data": {
            "image/png": "[encoded data removed]",
            "text/plain": [
              "<Figure size 432x288 with 1 Axes>"
            ]
          },
          "metadata": {
            "tags": []
          }
        }
      ]
    },
    {
      "cell_type": "code",
      "metadata": {
        "id": "wViz4eMHmq9-",
        "colab_type": "code",
        "outputId": "f2ccd814-a633-4212-ecaa-629174072e36",
        "colab": {
          "base_uri": "https://localhost:8080/",
          "height": 265
        }
      },
      "source": [
        "# Com modificação visual na mediana\n",
        "plt.boxplot(base.Volume, vert = False, notch = True)\n",
        "plt.show()"
      ],
      "execution_count": 0,
      "outputs": [
        {
          "output_type": "display_data",
          "data": {
            "image/png": "[encoded data removed]",
            "text/plain": [
              "<Figure size 432x288 with 1 Axes>"
            ]
          },
          "metadata": {
            "tags": []
          }
        }
      ]
    },
    {
      "cell_type": "code",
      "metadata": {
        "id": "6n1WHsGGm1PN",
        "colab_type": "code",
        "outputId": "da2f81c8-4d3b-4cc3-fbe2-140e9bf12c3a",
        "colab": {
          "base_uri": "https://localhost:8080/",
          "height": 295
        }
      },
      "source": [
        "# Com cor, titulo e label\n",
        "plt.title('Arvores')\n",
        "plt.xlabel('Volume')\n",
        "plt.boxplot(base.Volume, vert = False, notch = True, patch_artist=True)\n",
        "plt.show()"
      ],
      "execution_count": 0,
      "outputs": [
        {
          "output_type": "display_data",
          "data": {
            "image/png": "[encoded data removed]",
            "text/plain": [
              "<Figure size 432x288 with 1 Axes>"
            ]
          },
          "metadata": {
            "tags": []
          }
        }
      ]
    },
    {
      "cell_type": "code",
      "metadata": {
        "id": "ljyviGQ0FgMF",
        "colab_type": "code",
        "outputId": "5f7f8439-390e-46ef-8023-d7d13da72bae",
        "colab": {
          "base_uri": "https://localhost:8080/",
          "height": 312
        }
      },
      "source": [
        "# com seaborn\n",
        "print(srn.boxplot(base.Volume).set_title('Arvores'))"
      ],
      "execution_count": 0,
      "outputs": [
        {
          "output_type": "stream",
          "text": [
            "Text(0.5, 1.0, 'Arvores')\n"
          ],
          "name": "stdout"
        },
        {
          "output_type": "display_data",
          "data": {
            "image/png": "[encoded data removed]",
            "text/plain": [
              "<Figure size 432x288 with 1 Axes>"
            ]
          },
          "metadata": {
            "tags": []
          }
        }
      ]
    },
    {
      "cell_type": "code",
      "metadata": {
        "id": "TLSjQ_tTFuGq",
        "colab_type": "code",
        "outputId": "53896dd6-95e9-4a93-844e-d879edd00380",
        "colab": {
          "base_uri": "https://localhost:8080/",
          "height": 284
        }
      },
      "source": [
        "# seaborn com a base de dados inteira\n",
        "print(srn.boxplot(data=base))"
      ],
      "execution_count": 0,
      "outputs": [
        {
          "output_type": "stream",
          "text": [
            "AxesSubplot(0.125,0.125;0.775x0.755)\n"
          ],
          "name": "stdout"
        },
        {
          "output_type": "display_data",
          "data": {
            "image/png": "[encoded data removed]",
            "text/plain": [
              "<Figure size 432x288 with 1 Axes>"
            ]
          },
          "metadata": {
            "tags": []
          }
        }
      ]
    },
    {
      "cell_type": "markdown",
      "metadata": {
        "id": "AkrIGcbsC50O",
        "colab_type": "text"
      },
      "source": [
        "# **Barras**\n"
      ]
    },
    {
      "cell_type": "code",
      "metadata": {
        "id": "01Mv3unbC_ly",
        "colab_type": "code",
        "colab": {}
      },
      "source": [
        "import pandas as pd"
      ],
      "execution_count": 0,
      "outputs": []
    },
    {
      "cell_type": "code",
      "metadata": {
        "id": "yR1Zo84nD9pP",
        "colab_type": "code",
        "outputId": "abd43606-fa3d-4777-d88b-e769ef01b783",
        "colab": {
          "base_uri": "https://localhost:8080/",
          "height": 204
        }
      },
      "source": [
        "base = getInsect()\n",
        "base.head()"
      ],
      "execution_count": 0,
      "outputs": [
        {
          "output_type": "execute_result",
          "data": {
            "text/html": [
              "<div>\n",
              "<style scoped>\n",
              "    .dataframe tbody tr th:only-of-type {\n",
              "        vertical-align: middle;\n",
              "    }\n",
              "\n",
              "    .dataframe tbody tr th {\n",
              "        vertical-align: top;\n",
              "    }\n",
              "\n",
              "    .dataframe thead th {\n",
              "        text-align: right;\n",
              "    }\n",
              "</style>\n",
              "<table border=\"1\" class=\"dataframe\">\n",
              "  <thead>\n",
              "    <tr style=\"text-align: right;\">\n",
              "      <th></th>\n",
              "      <th>count</th>\n",
              "      <th>spray</th>\n",
              "    </tr>\n",
              "  </thead>\n",
              "  <tbody>\n",
              "    <tr>\n",
              "      <th>0</th>\n",
              "      <td>10</td>\n",
              "      <td>A</td>\n",
              "    </tr>\n",
              "    <tr>\n",
              "      <th>1</th>\n",
              "      <td>7</td>\n",
              "      <td>A</td>\n",
              "    </tr>\n",
              "    <tr>\n",
              "      <th>2</th>\n",
              "      <td>20</td>\n",
              "      <td>A</td>\n",
              "    </tr>\n",
              "    <tr>\n",
              "      <th>3</th>\n",
              "      <td>14</td>\n",
              "      <td>A</td>\n",
              "    </tr>\n",
              "    <tr>\n",
              "      <th>4</th>\n",
              "      <td>14</td>\n",
              "      <td>A</td>\n",
              "    </tr>\n",
              "  </tbody>\n",
              "</table>\n",
              "</div>"
            ],
            "text/plain": [
              "   count spray\n",
              "0     10     A\n",
              "1      7     A\n",
              "2     20     A\n",
              "3     14     A\n",
              "4     14     A"
            ]
          },
          "metadata": {
            "tags": []
          },
          "execution_count": 8
        }
      ]
    },
    {
      "cell_type": "code",
      "metadata": {
        "id": "yABEDLXNEah_",
        "colab_type": "code",
        "outputId": "0920342f-7b63-44f1-de29-0d73b2d2422e",
        "colab": {
          "base_uri": "https://localhost:8080/",
          "height": 153
        }
      },
      "source": [
        "# Para o barras normalmente e preciso fazer um agrupamento\n",
        "# agrupa por spray, a variavel count, e sum soma tudo\n",
        "agrupado = base.groupby(['spray'])['count'].sum()\n",
        "print(agrupado)"
      ],
      "execution_count": 0,
      "outputs": [
        {
          "output_type": "stream",
          "text": [
            "spray\n",
            "A    174\n",
            "B    184\n",
            "C     25\n",
            "D     59\n",
            "E     42\n",
            "F    200\n",
            "Name: count, dtype: int64\n"
          ],
          "name": "stdout"
        }
      ]
    },
    {
      "cell_type": "code",
      "metadata": {
        "id": "XaI7JLBTE1mv",
        "colab_type": "code",
        "outputId": "a8edbd4f-9917-4bb6-daab-19354885d6ba",
        "colab": {
          "base_uri": "https://localhost:8080/",
          "height": 294
        }
      },
      "source": [
        "# gera o grafico do pandas\n",
        "print(agrupado.plot.bar(color = 'gray'))"
      ],
      "execution_count": 0,
      "outputs": [
        {
          "output_type": "stream",
          "text": [
            "AxesSubplot(0.125,0.125;0.775x0.755)\n"
          ],
          "name": "stdout"
        },
        {
          "output_type": "display_data",
          "data": {
            "image/png": "[encoded data removed]",
            "text/plain": [
              "<Figure size 432x288 with 1 Axes>"
            ]
          },
          "metadata": {
            "tags": []
          }
        }
      ]
    },
    {
      "cell_type": "code",
      "metadata": {
        "id": "MoycmcsGFE9V",
        "colab_type": "code",
        "outputId": "49fcb712-7a6d-4982-a0e9-b72b54a8e5cf",
        "colab": {
          "base_uri": "https://localhost:8080/",
          "height": 265
        }
      },
      "source": [
        "# pizza\n",
        "print(agrupado.plot.pie())"
      ],
      "execution_count": 0,
      "outputs": [
        {
          "output_type": "stream",
          "text": [
            "AxesSubplot(0.260833,0.125;0.503333x0.755)\n"
          ],
          "name": "stdout"
        },
        {
          "output_type": "display_data",
          "data": {
            "image/png": "[encoded data removed]",
            "text/plain": [
              "<Figure size 432x288 with 1 Axes>"
            ]
          },
          "metadata": {
            "tags": []
          }
        }
      ]
    },
    {
      "cell_type": "markdown",
      "metadata": {
        "id": "q48hsnBuZzBx",
        "colab_type": "text"
      },
      "source": [
        "#  **Graficos 3D**"
      ]
    },
    {
      "cell_type": "code",
      "metadata": {
        "id": "tV8eDdZuZ3Eh",
        "colab_type": "code",
        "colab": {}
      },
      "source": [
        "import pandas as pd\n",
        "import matplotlib.pyplot as plt\n",
        "%matplotlib inline\n",
        "\n",
        "from mpl_toolkits.mplot3d import axis3d"
      ],
      "execution_count": 0,
      "outputs": []
    },
    {
      "cell_type": "code",
      "metadata": {
        "id": "r607vpLkZ-Sa",
        "colab_type": "code",
        "outputId": "07d69ad5-0726-47d6-8976-434363d61b9a",
        "colab": {
          "base_uri": "https://localhost:8080/",
          "height": 204
        }
      },
      "source": [
        "base = getOchard()\n",
        "base.head()"
      ],
      "execution_count": 0,
      "outputs": [
        {
          "output_type": "execute_result",
          "data": {
            "text/html": [
              "<div>\n",
              "<style scoped>\n",
              "    .dataframe tbody tr th:only-of-type {\n",
              "        vertical-align: middle;\n",
              "    }\n",
              "\n",
              "    .dataframe tbody tr th {\n",
              "        vertical-align: top;\n",
              "    }\n",
              "\n",
              "    .dataframe thead th {\n",
              "        text-align: right;\n",
              "    }\n",
              "</style>\n",
              "<table border=\"1\" class=\"dataframe\">\n",
              "  <thead>\n",
              "    <tr style=\"text-align: right;\">\n",
              "      <th></th>\n",
              "      <th>decrease</th>\n",
              "      <th>rowpos</th>\n",
              "      <th>colpos</th>\n",
              "      <th>treatment</th>\n",
              "    </tr>\n",
              "  </thead>\n",
              "  <tbody>\n",
              "    <tr>\n",
              "      <th>0</th>\n",
              "      <td>57</td>\n",
              "      <td>1</td>\n",
              "      <td>1</td>\n",
              "      <td>D</td>\n",
              "    </tr>\n",
              "    <tr>\n",
              "      <th>1</th>\n",
              "      <td>95</td>\n",
              "      <td>2</td>\n",
              "      <td>1</td>\n",
              "      <td>E</td>\n",
              "    </tr>\n",
              "    <tr>\n",
              "      <th>2</th>\n",
              "      <td>8</td>\n",
              "      <td>3</td>\n",
              "      <td>1</td>\n",
              "      <td>B</td>\n",
              "    </tr>\n",
              "    <tr>\n",
              "      <th>3</th>\n",
              "      <td>69</td>\n",
              "      <td>4</td>\n",
              "      <td>1</td>\n",
              "      <td>H</td>\n",
              "    </tr>\n",
              "    <tr>\n",
              "      <th>4</th>\n",
              "      <td>92</td>\n",
              "      <td>5</td>\n",
              "      <td>1</td>\n",
              "      <td>G</td>\n",
              "    </tr>\n",
              "  </tbody>\n",
              "</table>\n",
              "</div>"
            ],
            "text/plain": [
              "   decrease  rowpos  colpos treatment\n",
              "0        57       1       1         D\n",
              "1        95       2       1         E\n",
              "2         8       3       1         B\n",
              "3        69       4       1         H\n",
              "4        92       5       1         G"
            ]
          },
          "metadata": {
            "tags": []
          },
          "execution_count": 26
        }
      ]
    },
    {
      "cell_type": "code",
      "metadata": {
        "id": "TIOIwVg1eRnr",
        "colab_type": "code",
        "outputId": "7ce34b25-2f3c-49ac-f838-8918e500c205",
        "colab": {
          "base_uri": "https://localhost:8080/",
          "height": 265
        }
      },
      "source": [
        "# cria uma figura para conter o grafico\n",
        "figura = plt.figure()\n",
        "\n",
        "# adiciona o exiso do subplot na figura\n",
        "eixo = figura.add_subplot(1,1,1, projection = '3d')\n",
        "\n",
        "# gera o grafico\n",
        "eixo.scatter(base.decrease, base.rowpos, base.colpos)\n",
        "\n",
        "eixo.set_xlabel('Decrease')\n",
        "eixo.set_ylabel('Rowpos')\n",
        "eixo.set_zlabel('Colpos')\n",
        "\n",
        "print(eixo)\n",
        "\n"
      ],
      "execution_count": 0,
      "outputs": [
        {
          "output_type": "stream",
          "text": [
            "Axes3DSubplot(0.125,0.125;0.775x0.755)\n"
          ],
          "name": "stdout"
        },
        {
          "output_type": "display_data",
          "data": {
            "image/png": "[encoded data removed]",
            "text/plain": [
              "<Figure size 432x288 with 1 Axes>"
            ]
          },
          "metadata": {
            "tags": [],
            "needs_background": "light"
          }
        }
      ]
    },
    {
      "cell_type": "markdown",
      "metadata": {
        "id": "ShHqZnqCgPd1",
        "colab_type": "text"
      },
      "source": [
        "Exemplos de 3D: https://pythonspot.com/3d-scatterplot/\n"
      ]
    },
    {
      "cell_type": "code",
      "metadata": {
        "id": "PHoEvLljaBQy",
        "colab_type": "code",
        "colab": {}
      },
      "source": [
        ""
      ],
      "execution_count": 0,
      "outputs": []
    }
  ]
}