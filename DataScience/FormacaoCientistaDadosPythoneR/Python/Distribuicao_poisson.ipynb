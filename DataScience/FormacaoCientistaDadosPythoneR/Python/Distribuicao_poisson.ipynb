{
  "nbformat": 4,
  "nbformat_minor": 0,
  "metadata": {
    "colab": {
      "name": "Distribuicao_poisson.ipynb",
      "provenance": [],
      "collapsed_sections": [],
      "authorship_tag": "ABX9TyNL3BmohjmqqFCQEmpQWw4g",
      "include_colab_link": true
    },
    "kernelspec": {
      "name": "python3",
      "display_name": "Python 3"
    }
  },
  "cells": [
    {
      "cell_type": "markdown",
      "metadata": {
        "id": "view-in-github",
        "colab_type": "text"
      },
      "source": [
        "<a href=\"https://colab.research.google.com/github/GilbertoRocha/Estudos/blob/master/FormacaoCientistaDadosPythoneR/Python/Distribuicao_poisson.ipynb\" target=\"_parent\"><img src=\"https://colab.research.google.com/assets/colab-badge.svg\" alt=\"Open In Colab\"/></a>"
      ]
    },
    {
      "cell_type": "markdown",
      "metadata": {
        "id": "vxV3eV_4xHdM",
        "colab_type": "text"
      },
      "source": [
        "Distribuição de Poisson.\n",
        "\n",
        "Mede a probabilidade da ocorrencia de eventos, em um intervalo de tempo, em vez de certo numero de experimentos.\n",
        "\n",
        "Os eventos a cada intervalo devem ser independentes.\n",
        "\n",
        "Existem tabelas de probabilidades já prontas\n",
        "\n",
        "\n",
        "Pode levantar a probabilidade da seguinte forma:\n",
        " - Exata - ou seja vai ocorrer um determinado numero de eventos\n",
        " - Menor - ou seja vai ocorrer um numero de eventos menor que um determinado numero\n",
        " - Maior - ou seja vai ocorrer um numero de eventos maior que um determinado numero\n",
        " - Ainda pode ser tambem menor ou igual, ou maior ou igual\n",
        "\n",
        "Formula:\n",
        "$P(X = x) = e^-\\lambda\\dfrac{\\lambda^x}{x!}$ \n",
        "\n",
        "Aonde\n",
        "x = Numero de eventos que estao sendo calculados\n",
        "\n",
        "$\\lambda$ = Numero médio de eventos que ocorre por intervalo\n",
        "\n",
        "e = constante de Euler (2.71828)\n",
        "\n",
        "\n",
        "Exemplo: O numero de acidentes de carros que ocorrem por dia é 2, qual a probabilidade de ocorrer 3?\n",
        "\n",
        "$P(X = x) = e^-\\lambda\\dfrac{\\lambda^x}{x!}$ \n",
        "\n",
        "\n",
        "$P(X = 3) = 2,71828^{-2}\\dfrac{2^3}{6}$\n",
        "\n",
        "$P(X = 3) = 0,1353355 * 1,33333$\n",
        "\n",
        "$P(X = 3) = 0,1804$\n",
        "\n",
        "Usando agora um teste \"Menor que\"\n",
        "Qual a probabilidade de se ter 3 acidentes ou menos:\n",
        "Para isso deve-se calcular desde o zero até o numero desejado (3 no caso), e somar todas as possibilidades, ficando:\n",
        "\n",
        "$P(X \\leq 3) = e^-\\lambda\\dfrac{\\lambda^x}{x!}$ \n",
        "$P(X = 0) = 0,1353353$\n",
        "\n",
        "$P(X = 1) = 0,2706706$\n",
        "\n",
        "$P(X = 2) = 0,2706706$\n",
        "\n",
        "$P(X = 3) = 0,180447$\n",
        "\n",
        "$P(X \\leq 3) = 0,8571235$\n",
        "\n",
        "\n",
        "Agora, se quiser resolver um problema do tipo \"Maior que\", deve-se pegar o resultado do tipo \"Menor que\", subtrair ele de 1 (que seria 100%), para pegar apenas a diferenca\n",
        "\n",
        "Qual a probabilidade de se ocorrer mais de 3 acidentes?\n",
        "\n",
        "$P(X = 0) = 0,1353353$\n",
        "\n",
        "$P(X = 1) = 0,2706706$\n",
        "\n",
        "\n",
        "$P(X = 2) = 0,2706706$\n",
        "\n",
        "$P(X = 3) = 0,180447$\n",
        "\n",
        "$P(X \\leq 3) = 0,8571235$\n",
        "\n",
        "removendo a parte \"acumulada do Menor que\"\n",
        "\n",
        "$P(X \\geq 3) = 1-0,8571235$\n",
        "\n",
        "$P(X \\geq 3) = 0,1428765$"
      ]
    },
    {
      "cell_type": "code",
      "metadata": {
        "id": "BlFNUnfRxFbm",
        "colab_type": "code",
        "colab": {}
      },
      "source": [
        "# bibliotecas\n",
        "from scipy .stats import poisson"
      ],
      "execution_count": 0,
      "outputs": []
    },
    {
      "cell_type": "code",
      "metadata": {
        "id": "gqRRBQZzI3Fq",
        "colab_type": "code",
        "colab": {
          "base_uri": "https://localhost:8080/",
          "height": 34
        },
        "outputId": "2a566e7f-0d76-40bf-dc4d-9efd144cad01"
      },
      "source": [
        "# Media de dois acidentes de carro por dia\n",
        "\n",
        "# qual a probailidade de ocorrer 3 em um dia\n",
        "poisson.pmf(3, 2)"
      ],
      "execution_count": 2,
      "outputs": [
        {
          "output_type": "execute_result",
          "data": {
            "text/plain": [
              "0.18044704431548356"
            ]
          },
          "metadata": {
            "tags": []
          },
          "execution_count": 2
        }
      ]
    },
    {
      "cell_type": "code",
      "metadata": {
        "id": "lWog_Cg4JEqh",
        "colab_type": "code",
        "colab": {
          "base_uri": "https://localhost:8080/",
          "height": 34
        },
        "outputId": "28e5d85f-2940-4ca1-a199-5f373e610393"
      },
      "source": [
        "# menor ou igual a 3 acidentes\n",
        "poisson.cdf(3, 2)"
      ],
      "execution_count": 3,
      "outputs": [
        {
          "output_type": "execute_result",
          "data": {
            "text/plain": [
              "0.857123460498547"
            ]
          },
          "metadata": {
            "tags": []
          },
          "execution_count": 3
        }
      ]
    },
    {
      "cell_type": "code",
      "metadata": {
        "id": "FXEtwQi4JKbC",
        "colab_type": "code",
        "colab": {
          "base_uri": "https://localhost:8080/",
          "height": 34
        },
        "outputId": "5b9eb7cb-ce0f-40d2-aef8-b5a00a2106f4"
      },
      "source": [
        "# maior que tres\n",
        "poisson.sf(3, 2)"
      ],
      "execution_count": 4,
      "outputs": [
        {
          "output_type": "execute_result",
          "data": {
            "text/plain": [
              "0.14287653950145296"
            ]
          },
          "metadata": {
            "tags": []
          },
          "execution_count": 4
        }
      ]
    }
  ]
}
