{
  "nbformat": 4,
  "nbformat_minor": 0,
  "metadata": {
    "colab": {
      "name": "SQL_PostGre.ipynb",
      "provenance": [],
      "authorship_tag": "ABX9TyOzUYyjXVGONkkcIEQ6QTPD",
      "include_colab_link": true
    },
    "kernelspec": {
      "name": "python3",
      "display_name": "Python 3"
    }
  },
  "cells": [
    {
      "cell_type": "markdown",
      "metadata": {
        "id": "view-in-github",
        "colab_type": "text"
      },
      "source": [
        "<a href=\"https://colab.research.google.com/github/GilbertoRocha/Estudos/blob/master/DataScience/FormacaoCientistaDadosPythoneR/Python/SQL_PostGre.ipynb\" target=\"_parent\"><img src=\"https://colab.research.google.com/assets/colab-badge.svg\" alt=\"Open In Colab\"/></a>"
      ]
    },
    {
      "cell_type": "code",
      "metadata": {
        "id": "YBQL19tIsLGt",
        "colab_type": "code",
        "colab": {
          "base_uri": "https://localhost:8080/",
          "height": 34
        },
        "outputId": "27f7e7f5-0d54-4b3a-8559-3d2f3fe699b7"
      },
      "source": [
        "%pip install psycopg2"
      ],
      "execution_count": 2,
      "outputs": [
        {
          "output_type": "stream",
          "text": [
            "Requirement already satisfied: psycopg2 in /usr/local/lib/python3.6/dist-packages (2.7.6.1)\n"
          ],
          "name": "stdout"
        }
      ]
    },
    {
      "cell_type": "code",
      "metadata": {
        "id": "czCurQ1esVGF",
        "colab_type": "code",
        "colab": {
          "base_uri": "https://localhost:8080/",
          "height": 71
        },
        "outputId": "31f14033-65ff-4fc5-f240-b112b929f6f9"
      },
      "source": [
        "import psycopg2"
      ],
      "execution_count": 3,
      "outputs": [
        {
          "output_type": "stream",
          "text": [
            "/usr/local/lib/python3.6/dist-packages/psycopg2/__init__.py:144: UserWarning: The psycopg2 wheel package will be renamed from release 2.8; in order to keep installing from binary please use \"pip install psycopg2-binary\" instead. For details see: <http://initd.org/psycopg/docs/install.html#binary-install-from-pypi>.\n",
            "  \"\"\")\n"
          ],
          "name": "stderr"
        }
      ]
    },
    {
      "cell_type": "code",
      "metadata": {
        "id": "SwdsZuUkslQE",
        "colab_type": "code",
        "colab": {}
      },
      "source": [
        "# cria a conexao\n",
        "conexao = psycopg2.connect(host='localhost', database='CD', user='postgres', password='123456',port=5432)\n"
      ],
      "execution_count": 0,
      "outputs": []
    },
    {
      "cell_type": "code",
      "metadata": {
        "id": "R9qyiplzs9az",
        "colab_type": "code",
        "colab": {}
      },
      "source": [
        "# cursor para percorrer os dados\n",
        "cursor = conexao.cursor()\n",
        "\n",
        "consulta = \"select * from clientes\"\n",
        "\n",
        "cursor.execute(consulta)\n",
        "\n",
        "registros = cursor.fetchall()"
      ],
      "execution_count": 0,
      "outputs": []
    },
    {
      "cell_type": "code",
      "metadata": {
        "id": "7kb4852mtN0s",
        "colab_type": "code",
        "colab": {}
      },
      "source": [
        "# percorrer os registros\n",
        "for row in registros:\n",
        "  print(\"Nome: \" + row[1])\n",
        "  print(\"Estado: \" + row[2])\n",
        "  print(\"Status: \" + row[4], \"\\n\")\n"
      ],
      "execution_count": 0,
      "outputs": []
    },
    {
      "cell_type": "code",
      "metadata": {
        "id": "_6N2W-lu5F4p",
        "colab_type": "code",
        "colab": {}
      },
      "source": [
        "# fecha o cursor e a conexao\n",
        "cursor.close()\n",
        "conexao.close()"
      ],
      "execution_count": 0,
      "outputs": []
    }
  ]
}