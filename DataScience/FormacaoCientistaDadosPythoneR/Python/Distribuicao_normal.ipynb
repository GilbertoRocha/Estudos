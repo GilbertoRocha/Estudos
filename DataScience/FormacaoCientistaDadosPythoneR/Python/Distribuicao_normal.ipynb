{
  "nbformat": 4,
  "nbformat_minor": 0,
  "metadata": {
    "colab": {
      "name": "Distribuicao_normal.ipynb",
      "provenance": [],
      "authorship_tag": "ABX9TyOZuCuaJWaWcP7FmQWQiMQY",
      "include_colab_link": true
    },
    "kernelspec": {
      "name": "python3",
      "display_name": "Python 3"
    }
  },
  "cells": [
    {
      "cell_type": "markdown",
      "metadata": {
        "id": "view-in-github",
        "colab_type": "text"
      },
      "source": [
        "<a href=\"https://colab.research.google.com/github/GilbertoRocha/Estudos/blob/master/DataScience/FormacaoCientistaDadosPythoneR/Python/Distribuicao_normal.ipynb\" target=\"_parent\"><img src=\"https://colab.research.google.com/assets/colab-badge.svg\" alt=\"Open In Colab\"/></a>"
      ]
    },
    {
      "cell_type": "code",
      "metadata": {
        "id": "8IaaBuSWBoUQ",
        "colab_type": "code",
        "colab": {}
      },
      "source": [
        "# Distribuicao Normal\n",
        "from scipy import stats\n",
        "from scipy.stats import norm\n",
        "import matplotlib.pyplot as plt\n"
      ],
      "execution_count": 0,
      "outputs": []
    },
    {
      "cell_type": "code",
      "metadata": {
        "id": "OPgybS00Cigd",
        "colab_type": "code",
        "colab": {
          "base_uri": "https://localhost:8080/",
          "height": 34
        },
        "outputId": "1544740a-4580-46d8-e0ed-8e2ba1ff0286"
      },
      "source": [
        "# diversos objetos, o conjunto tem media = 8 kg, desvio padrao  = 2kg\n",
        "# qual a probabilidade de retirar um objeto com peso menor que 6 kg\n",
        "\n",
        "# primeiro parametro é a busca que se deseja saber\n",
        "# o segundo é a média\n",
        "# o terceiro é o desvio padrão\n",
        "norm.cdf(6, 8, 2)"
      ],
      "execution_count": 2,
      "outputs": [
        {
          "output_type": "execute_result",
          "data": {
            "text/plain": [
              "0.15865525393145707"
            ]
          },
          "metadata": {
            "tags": []
          },
          "execution_count": 2
        }
      ]
    },
    {
      "cell_type": "code",
      "metadata": {
        "id": "BlHAFIE0CsKZ",
        "colab_type": "code",
        "colab": {
          "base_uri": "https://localhost:8080/",
          "height": 34
        },
        "outputId": "70925465-b8de-44bf-8587-27e20d37c585"
      },
      "source": [
        "# qual a probabilidade de retirar um objeto com peso MAIOR que 6 kg\n",
        "\n",
        "# primeiro parametro é a busca que se deseja saber\n",
        "# o segundo é a média\n",
        "# o terceiro é o desvio padrão\n",
        "# agora se usa o sf  para dizer que deve-se calcular do ponto 6 até o final do grafico, passando pela media\n",
        "# ou seja, do ponto 6 para a direita, compreendendo todas as demais possibilidades alem do ponto da media\n",
        "# esse parametro so é necessario quando passa a média, se o que se deseja saber ficar na esquerda da media, não precisa do parametro\n",
        "norm.sf(6, 8, 2)\n",
        "\n",
        "# outra forma de fazer isso, usando a função cdf, é calcular a probabilidade subtraindo 1 (100%)\n",
        "1 - norm.cdf(6, 8, 2)"
      ],
      "execution_count": 5,
      "outputs": [
        {
          "output_type": "execute_result",
          "data": {
            "text/plain": [
              "0.8413447460685429"
            ]
          },
          "metadata": {
            "tags": []
          },
          "execution_count": 5
        }
      ]
    },
    {
      "cell_type": "code",
      "metadata": {
        "id": "8V13cGWgDaW8",
        "colab_type": "code",
        "colab": {
          "base_uri": "https://localhost:8080/",
          "height": 34
        },
        "outputId": "000a4da9-1314-464b-f585-910448ac8340"
      },
      "source": [
        "# qual a probabilidade de retirar um objeto com peso menor que 6 kg OU mais de 10 kg\n",
        "# como não é exclusido, vai ser gerado a probabilidade para menor que 6 kg, a probabilidade para maior que 10 kg\n",
        "# e então será somada as duas probabilidade\n",
        "norm.cdf(6, 8, 2) + norm.sf(10, 8, 2)"
      ],
      "execution_count": 6,
      "outputs": [
        {
          "output_type": "execute_result",
          "data": {
            "text/plain": [
              "0.31731050786291415"
            ]
          },
          "metadata": {
            "tags": []
          },
          "execution_count": 6
        }
      ]
    },
    {
      "cell_type": "code",
      "metadata": {
        "id": "W297GXxwDpsa",
        "colab_type": "code",
        "colab": {
          "base_uri": "https://localhost:8080/",
          "height": 34
        },
        "outputId": "70f97dae-95f5-49c2-a1d9-5874bbd7714c"
      },
      "source": [
        "\n",
        "# qual a chance de se tirar um objeto menos de 10 kg e mais de 8 kg\n",
        "# nesse caso é uma faixa exclusiva, ou seja, inicio de 8, final de 10, então será buscada cada probabilidade\n",
        "# e então subtraida, pois a final 10 acaba \"sobreescrevendo\" a inicio 8.\n",
        "norm.cdf(10, 8, 2) - norm.cdf(8, 8, 2)"
      ],
      "execution_count": 8,
      "outputs": [
        {
          "output_type": "execute_result",
          "data": {
            "text/plain": [
              "0.3413447460685429"
            ]
          },
          "metadata": {
            "tags": []
          },
          "execution_count": 8
        }
      ]
    },
    {
      "cell_type": "code",
      "metadata": {
        "id": "T0z_-IngEdBK",
        "colab_type": "code",
        "colab": {
          "base_uri": "https://localhost:8080/",
          "height": 442
        },
        "outputId": "95148d9b-7ac8-45c7-c25a-ca3239a0768c"
      },
      "source": [
        "# cria os dados aleatorios normalizados\n",
        "dados = norm.rvs(size = 100)\n",
        "print(dados)"
      ],
      "execution_count": 12,
      "outputs": [
        {
          "output_type": "stream",
          "text": [
            "[-7.06279934e-01  8.69238070e-01  2.94027229e-01 -2.19229680e+00\n",
            " -4.31474580e-01  1.64600127e-01 -1.21558546e+00 -1.16301624e+00\n",
            "  2.97766685e-01  6.55328786e-01  6.04586157e-01 -1.03102758e+00\n",
            "  1.49739458e-01  3.13805824e-01 -1.19162249e-01 -2.42129136e-01\n",
            "  1.63229247e+00  1.07934161e+00  8.84132571e-01  1.24447023e+00\n",
            " -1.84256628e+00 -2.67187353e-01  8.54399093e-01  1.69945220e+00\n",
            "  1.51201089e+00 -2.35159103e+00  1.48463205e+00  1.92931276e+00\n",
            " -1.49845494e+00 -4.96514508e-01 -9.87169971e-01 -7.33770041e-01\n",
            "  2.30285895e-01  1.14429812e-01 -5.13597846e-01 -9.63306417e-01\n",
            "  1.20275443e+00 -8.50379322e-01 -5.33338314e-01  8.19093001e-03\n",
            "  1.29837529e+00  4.22934608e-01  1.58571765e-01  1.84784300e+00\n",
            "  7.32376334e-01  1.67854093e-01  5.84305005e-01 -1.36217514e+00\n",
            " -1.01526736e+00  2.18634581e+00  7.25033663e-01  5.15319368e-01\n",
            " -6.95331674e-01  2.50085459e-01 -3.95333981e-01 -5.64292639e-01\n",
            " -3.50079821e-01  3.38984482e-02  5.66156370e-01  7.41505665e-01\n",
            " -7.16963932e-01 -8.33456167e-01  2.05163973e-01 -1.02355257e-01\n",
            "  1.38641434e+00 -3.32921034e-01  4.60115684e-01  7.46760752e-02\n",
            " -9.23836771e-01 -1.44871503e+00  2.57959525e-01  3.56440083e-01\n",
            " -1.67039697e+00  1.87738538e+00 -4.41674057e-01  2.81207656e-01\n",
            "  1.45417378e-01 -5.52518797e-02  3.63952752e-01 -5.81454240e-02\n",
            " -8.68625592e-04 -5.96295782e-01 -6.75329346e-01 -1.07558010e+00\n",
            " -4.76029130e-02 -6.99930992e-01 -5.15118031e-01 -4.00352392e-01\n",
            " -7.16645353e-01  6.88974363e-01  8.05053197e-01 -1.33239392e+00\n",
            " -5.13131989e-01 -1.59961455e+00  4.86051306e-01 -8.62703859e-01\n",
            " -4.23490155e-01 -8.09695847e-02 -8.85139377e-01  6.88470323e-01]\n"
          ],
          "name": "stdout"
        }
      ]
    },
    {
      "cell_type": "code",
      "metadata": {
        "id": "6uLRN1s_Eygp",
        "colab_type": "code",
        "colab": {
          "base_uri": "https://localhost:8080/",
          "height": 1000
        },
        "outputId": "ef7659af-4be1-48e7-fae4-14cb6f6e2ddc"
      },
      "source": [
        "#visualização de graficos\n",
        "# passa os dados, e o plot, ou sejal, o visualiador\n",
        "stats.probplot(dados, plot = plt)"
      ],
      "execution_count": 15,
      "outputs": [
        {
          "output_type": "execute_result",
          "data": {
            "text/plain": [
              "((array([-2.46203784, -2.12570747, -1.93122778, -1.79044653, -1.67819304,\n",
              "         -1.58381122, -1.50174123, -1.42869743, -1.36256869, -1.30191411,\n",
              "         -1.24570419, -1.19317644, -1.14374949, -1.09696931, -1.05247413,\n",
              "         -1.00997067, -0.96921765, -0.93001393, -0.89218993, -0.85560121,\n",
              "         -0.82012357, -0.78564937, -0.75208458, -0.71934648, -0.68736185,\n",
              "         -0.65606548, -0.62539893, -0.59530962, -0.56574992, -0.53667655,\n",
              "         -0.50804994, -0.47983378, -0.45199463, -0.42450149, -0.39732558,\n",
              "         -0.37044003, -0.34381966, -0.31744076, -0.29128096, -0.26531902,\n",
              "         -0.23953472, -0.21390872, -0.18842244, -0.16305799, -0.13779803,\n",
              "         -0.1126257 , -0.08752455, -0.06247843, -0.03747145, -0.01248789,\n",
              "          0.01248789,  0.03747145,  0.06247843,  0.08752455,  0.1126257 ,\n",
              "          0.13779803,  0.16305799,  0.18842244,  0.21390872,  0.23953472,\n",
              "          0.26531902,  0.29128096,  0.31744076,  0.34381966,  0.37044003,\n",
              "          0.39732558,  0.42450149,  0.45199463,  0.47983378,  0.50804994,\n",
              "          0.53667655,  0.56574992,  0.59530962,  0.62539893,  0.65606548,\n",
              "          0.68736185,  0.71934648,  0.75208458,  0.78564937,  0.82012357,\n",
              "          0.85560121,  0.89218993,  0.93001393,  0.96921765,  1.00997067,\n",
              "          1.05247413,  1.09696931,  1.14374949,  1.19317644,  1.24570419,\n",
              "          1.30191411,  1.36256869,  1.42869743,  1.50174123,  1.58381122,\n",
              "          1.67819304,  1.79044653,  1.93122778,  2.12570747,  2.46203784]),\n",
              "  array([-2.35159103e+00, -2.19229680e+00, -1.84256628e+00, -1.67039697e+00,\n",
              "         -1.59961455e+00, -1.49845494e+00, -1.44871503e+00, -1.36217514e+00,\n",
              "         -1.33239392e+00, -1.21558546e+00, -1.16301624e+00, -1.07558010e+00,\n",
              "         -1.03102758e+00, -1.01526736e+00, -9.87169971e-01, -9.63306417e-01,\n",
              "         -9.23836771e-01, -8.85139377e-01, -8.62703859e-01, -8.50379322e-01,\n",
              "         -8.33456167e-01, -7.33770041e-01, -7.16963932e-01, -7.16645353e-01,\n",
              "         -7.06279934e-01, -6.99930992e-01, -6.95331674e-01, -6.75329346e-01,\n",
              "         -5.96295782e-01, -5.64292639e-01, -5.33338314e-01, -5.15118031e-01,\n",
              "         -5.13597846e-01, -5.13131989e-01, -4.96514508e-01, -4.41674057e-01,\n",
              "         -4.31474580e-01, -4.23490155e-01, -4.00352392e-01, -3.95333981e-01,\n",
              "         -3.50079821e-01, -3.32921034e-01, -2.67187353e-01, -2.42129136e-01,\n",
              "         -1.19162249e-01, -1.02355257e-01, -8.09695847e-02, -5.81454240e-02,\n",
              "         -5.52518797e-02, -4.76029130e-02, -8.68625592e-04,  8.19093001e-03,\n",
              "          3.38984482e-02,  7.46760752e-02,  1.14429812e-01,  1.45417378e-01,\n",
              "          1.49739458e-01,  1.58571765e-01,  1.64600127e-01,  1.67854093e-01,\n",
              "          2.05163973e-01,  2.30285895e-01,  2.50085459e-01,  2.57959525e-01,\n",
              "          2.81207656e-01,  2.94027229e-01,  2.97766685e-01,  3.13805824e-01,\n",
              "          3.56440083e-01,  3.63952752e-01,  4.22934608e-01,  4.60115684e-01,\n",
              "          4.86051306e-01,  5.15319368e-01,  5.66156370e-01,  5.84305005e-01,\n",
              "          6.04586157e-01,  6.55328786e-01,  6.88470323e-01,  6.88974363e-01,\n",
              "          7.25033663e-01,  7.32376334e-01,  7.41505665e-01,  8.05053197e-01,\n",
              "          8.54399093e-01,  8.69238070e-01,  8.84132571e-01,  1.07934161e+00,\n",
              "          1.20275443e+00,  1.24447023e+00,  1.29837529e+00,  1.38641434e+00,\n",
              "          1.48463205e+00,  1.51201089e+00,  1.63229247e+00,  1.69945220e+00,\n",
              "          1.84784300e+00,  1.87738538e+00,  1.92931276e+00,  2.18634581e+00])),\n",
              " (0.9521116672124983, -0.03997527885693822, 0.9974174193904469))"
            ]
          },
          "metadata": {
            "tags": []
          },
          "execution_count": 15
        },
        {
          "output_type": "display_data",
          "data": {
            "image/png": "[encoded data removed]",
            "text/plain": [
              "<Figure size 432x288 with 1 Axes>"
            ]
          },
          "metadata": {
            "tags": []
          }
        }
      ]
    },
    {
      "cell_type": "code",
      "metadata": {
        "id": "-kxligvUFUkZ",
        "colab_type": "code",
        "colab": {
          "base_uri": "https://localhost:8080/",
          "height": 34
        },
        "outputId": "0fde6498-5f62-4f6e-fda8-98f01c3b7555"
      },
      "source": [
        "# teste de Shapiro Wilk, para saber se os dados estão normalizados\n",
        "stats.shapiro(dados)"
      ],
      "execution_count": 16,
      "outputs": [
        {
          "output_type": "execute_result",
          "data": {
            "text/plain": [
              "(0.9930151700973511, 0.888972818851471)"
            ]
          },
          "metadata": {
            "tags": []
          },
          "execution_count": 16
        }
      ]
    }
  ]
}