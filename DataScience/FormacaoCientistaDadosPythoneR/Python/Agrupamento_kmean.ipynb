{
  "nbformat": 4,
  "nbformat_minor": 0,
  "metadata": {
    "colab": {
      "name": "Agrupamento_kmean.ipynb",
      "provenance": [],
      "collapsed_sections": [],
      "authorship_tag": "ABX9TyPgc0tT4xAVW/x/mWE3Wymw",
      "include_colab_link": true
    },
    "kernelspec": {
      "name": "python3",
      "display_name": "Python 3"
    }
  },
  "cells": [
    {
      "cell_type": "markdown",
      "metadata": {
        "id": "view-in-github",
        "colab_type": "text"
      },
      "source": [
        "<a href=\"https://colab.research.google.com/github/GilbertoRocha/Estudos/blob/master/FormacaoCientistaDadosPythoneR/Python/Agrupamento_kmean.ipynb\" target=\"_parent\"><img src=\"https://colab.research.google.com/assets/colab-badge.svg\" alt=\"Open In Colab\"/></a>"
      ]
    },
    {
      "cell_type": "code",
      "metadata": {
        "id": "L7QCZ2Wj-ueJ",
        "colab_type": "code",
        "colab": {}
      },
      "source": [
        "from sklearn import datasets\n",
        "import numpy as np\n",
        "from sklearn.metrics import confusion_matrix, accuracy_score\n",
        "import matplotlib.pyplot as plt\n",
        "%matplotlib inline\n",
        "from sklearn.cluster import KMeans"
      ],
      "execution_count": 0,
      "outputs": []
    },
    {
      "cell_type": "code",
      "metadata": {
        "id": "e2qgyOuZ_Qel",
        "colab_type": "code",
        "colab": {
          "base_uri": "https://localhost:8080/",
          "height": 51
        },
        "outputId": "e934a3f8-0601-4159-d7c3-5a225c42ff50"
      },
      "source": [
        "# criando a base\n",
        "iris = datasets.load_iris()\n",
        "# pega as classes e a quantidade de registros de cada\n",
        "unicos, quantidade  = np.unique(iris.target, return_counts=True)\n",
        "\n",
        "print(unicos)\n",
        "print(quantidade)"
      ],
      "execution_count": 4,
      "outputs": [
        {
          "output_type": "stream",
          "text": [
            "[0 1 2]\n",
            "[50 50 50]\n"
          ],
          "name": "stdout"
        }
      ]
    },
    {
      "cell_type": "code",
      "metadata": {
        "id": "-yXGsEsP__8E",
        "colab_type": "code",
        "colab": {
          "base_uri": "https://localhost:8080/",
          "height": 68
        },
        "outputId": "35baaae9-213c-4594-a7d2-185ddca25cc0"
      },
      "source": [
        "# monta o clustar\n",
        "cluster = KMeans(n_clusters= 3)\n",
        "cluster.fit(iris.data)\n",
        "\n",
        "# verifica os centroides\n",
        "centroides = cluster.cluster_centers_\n",
        "print(centroides)"
      ],
      "execution_count": 16,
      "outputs": [
        {
          "output_type": "stream",
          "text": [
            "[[5.006      3.428      1.462      0.246     ]\n",
            " [5.9016129  2.7483871  4.39354839 1.43387097]\n",
            " [6.85       3.07368421 5.74210526 2.07105263]]\n"
          ],
          "name": "stdout"
        }
      ]
    },
    {
      "cell_type": "code",
      "metadata": {
        "id": "UJnBKbYJBHeP",
        "colab_type": "code",
        "colab": {
          "base_uri": "https://localhost:8080/",
          "height": 153
        },
        "outputId": "6eab84bb-0d88-440c-c082-0dc3462ae8af"
      },
      "source": [
        "# previsoes\n",
        "previsoes = cluster.labels_\n",
        "print(previsoes)\n",
        "\n",
        "# verificando o agrupmento atual com o origina (correto)\n",
        "unicos2, quantidade2  = np.unique(previsoes, return_counts=True)\n",
        "\n",
        "print(unicos)\n",
        "print(quantidade)\n",
        "print(quantidade2)"
      ],
      "execution_count": 20,
      "outputs": [
        {
          "output_type": "stream",
          "text": [
            "[0 0 0 0 0 0 0 0 0 0 0 0 0 0 0 0 0 0 0 0 0 0 0 0 0 0 0 0 0 0 0 0 0 0 0 0 0\n",
            " 0 0 0 0 0 0 0 0 0 0 0 0 0 1 1 2 1 1 1 1 1 1 1 1 1 1 1 1 1 1 1 1 1 1 1 1 1\n",
            " 1 1 1 2 1 1 1 1 1 1 1 1 1 1 1 1 1 1 1 1 1 1 1 1 1 1 2 1 2 2 2 2 1 2 2 2 2\n",
            " 2 2 1 1 2 2 2 2 1 2 1 2 1 2 2 1 1 2 2 2 2 2 1 2 2 2 2 1 2 2 2 1 2 2 2 1 2\n",
            " 2 1]\n",
            "[0 1 2]\n",
            "[50 50 50]\n",
            "[50 62 38]\n"
          ],
          "name": "stdout"
        }
      ]
    },
    {
      "cell_type": "code",
      "metadata": {
        "id": "s5YdODG9BbRc",
        "colab_type": "code",
        "colab": {
          "base_uri": "https://localhost:8080/",
          "height": 68
        },
        "outputId": "1abd9989-6b59-4d5e-b80b-44ad9075443f"
      },
      "source": [
        "# matriz confusao\n",
        "confusao = confusion_matrix(iris.target, previsoes)\n",
        "print(confusao)\n"
      ],
      "execution_count": 21,
      "outputs": [
        {
          "output_type": "stream",
          "text": [
            "[[50  0  0]\n",
            " [ 0 48  2]\n",
            " [ 0 14 36]]\n"
          ],
          "name": "stdout"
        }
      ]
    },
    {
      "cell_type": "code",
      "metadata": {
        "id": "HgVvCJ7zB2h1",
        "colab_type": "code",
        "colab": {
          "base_uri": "https://localhost:8080/",
          "height": 268
        },
        "outputId": "1a4db293-c062-4e36-d718-abcfb65cd137"
      },
      "source": [
        "# visualizando\n",
        "\n",
        "# monta o grupo 0\n",
        "plt.scatter(iris.data[previsoes==0, 0], iris.data[previsoes==0, 1], c='green', label='Setosa')\n",
        "# monta o grupo 1\n",
        "plt.scatter(iris.data[previsoes==1, 0], iris.data[previsoes==1, 1], c='red', label='Versicolor')\n",
        "# monta o grupo 2\n",
        "plt.scatter(iris.data[previsoes==2, 0], iris.data[previsoes==2, 1], c='blue', label='Virginica')\n",
        "plt.legend()\n",
        "plt.show()\n"
      ],
      "execution_count": 22,
      "outputs": [
        {
          "output_type": "display_data",
          "data": {
            "image/png": "[encoded data removed]",
            "text/plain": [
              "<Figure size 432x288 with 1 Axes>"
            ]
          },
          "metadata": {
            "tags": []
          }
        }
      ]
    }
  ]
}
