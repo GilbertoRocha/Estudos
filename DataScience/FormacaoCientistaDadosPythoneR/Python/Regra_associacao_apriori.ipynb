{
  "nbformat": 4,
  "nbformat_minor": 0,
  "metadata": {
    "colab": {
      "name": "Regra_associacao_apriori.ipynb",
      "provenance": [],
      "collapsed_sections": [],
      "authorship_tag": "ABX9TyNDPbxC0TkkI2iqj5aI/XD6",
      "include_colab_link": true
    },
    "kernelspec": {
      "name": "python3",
      "display_name": "Python 3"
    }
  },
  "cells": [
    {
      "cell_type": "markdown",
      "metadata": {
        "id": "view-in-github",
        "colab_type": "text"
      },
      "source": [
        "<a href=\"https://colab.research.google.com/github/GilbertoRocha/Estudos/blob/master/FormacaoCientistaDadosPythoneR/Python/Regra_associacao_apriori.ipynb\" target=\"_parent\"><img src=\"https://colab.research.google.com/assets/colab-badge.svg\" alt=\"Open In Colab\"/></a>"
      ]
    },
    {
      "cell_type": "markdown",
      "metadata": {
        "id": "ERsIMv1oEUjh",
        "colab_type": "text"
      },
      "source": [
        "**Regras de associacao a priori**\n",
        "\n",
        "Busca a relação entre itens\n",
        "\n",
        "Suporte: numero de transações que contem todos os itens da transação.\n",
        "\n",
        "Confiança: indica a proporção de vezes que, em uma transação contendo o elemento A, também tem B (ou demais elementos da regra)\n",
        "\n",
        "Força da regra é a soma do suporte mais confiança\n",
        "\n",
        "\n",
        "Exemplo\n",
        "Suporte: numero transações totais 6, numero tranações com 2 elementos é 3\n",
        "\n",
        "$3/6 = 0,5$\n",
        "\n",
        "Confiança: Numero transações com A: 3, numero transações com A e B: 3\n",
        "\n",
        "$3/3=1$\n",
        "\n",
        "A confiança existente entre A e B pode ser diferente entre B e A"
      ]
    },
    {
      "cell_type": "code",
      "metadata": {
        "id": "4eTx9YVdEOVd",
        "colab_type": "code",
        "colab": {
          "base_uri": "https://localhost:8080/",
          "height": 170
        },
        "outputId": "8650d462-b622-46a5-b23b-9728b8f41aa8"
      },
      "source": [
        "%pip install apyori"
      ],
      "execution_count": 2,
      "outputs": [
        {
          "output_type": "stream",
          "text": [
            "Collecting apyori\n",
            "  Downloading https://files.pythonhosted.org/packages/5e/62/5ffde5c473ea4b033490617ec5caa80d59804875ad3c3c57c0976533a21a/apyori-1.1.2.tar.gz\n",
            "Building wheels for collected packages: apyori\n",
            "  Building wheel for apyori (setup.py) ... \u001b[?25l\u001b[?25hdone\n",
            "  Created wheel for apyori: filename=apyori-1.1.2-cp36-none-any.whl size=5975 sha256=2f8c0052069aa1382a1f8b2b55b90fe274027e4eed4ca22d8717a203ada03db7\n",
            "  Stored in directory: /root/.cache/pip/wheels/5d/92/bb/474bbadbc8c0062b9eb168f69982a0443263f8ab1711a8cad0\n",
            "Successfully built apyori\n",
            "Installing collected packages: apyori\n",
            "Successfully installed apyori-1.1.2\n"
          ],
          "name": "stdout"
        }
      ]
    },
    {
      "cell_type": "code",
      "metadata": {
        "id": "OQrJWMWRFy9e",
        "colab_type": "code",
        "colab": {}
      },
      "source": [
        "import pandas as pd\n",
        "from apyori import apriori\n",
        "from io import StringIO"
      ],
      "execution_count": 0,
      "outputs": []
    },
    {
      "cell_type": "code",
      "metadata": {
        "id": "Gb2474R9GG0s",
        "colab_type": "code",
        "colab": {
          "base_uri": "https://localhost:8080/",
          "height": 204
        },
        "outputId": "16431483-3567-4721-99b6-1b527b24d50d"
      },
      "source": [
        "# simula a carga do arquivo\n",
        "arq = StringIO(\"\"\"Cerveja,Pizza,Sorvete\n",
        "Pizza,Sorvete\n",
        "Cerveja,Pizza\n",
        "Cerveja,Pizza,Sorvete\n",
        "Cerveja,Pizza\n",
        "Pizza\"\"\")\n",
        "\n",
        "dados = pd.read_csv(arq, header=None)\n",
        "dados.head()"
      ],
      "execution_count": 7,
      "outputs": [
        {
          "output_type": "execute_result",
          "data": {
            "text/html": [
              "<div>\n",
              "<style scoped>\n",
              "    .dataframe tbody tr th:only-of-type {\n",
              "        vertical-align: middle;\n",
              "    }\n",
              "\n",
              "    .dataframe tbody tr th {\n",
              "        vertical-align: top;\n",
              "    }\n",
              "\n",
              "    .dataframe thead th {\n",
              "        text-align: right;\n",
              "    }\n",
              "</style>\n",
              "<table border=\"1\" class=\"dataframe\">\n",
              "  <thead>\n",
              "    <tr style=\"text-align: right;\">\n",
              "      <th></th>\n",
              "      <th>0</th>\n",
              "      <th>1</th>\n",
              "      <th>2</th>\n",
              "    </tr>\n",
              "  </thead>\n",
              "  <tbody>\n",
              "    <tr>\n",
              "      <th>0</th>\n",
              "      <td>Cerveja</td>\n",
              "      <td>Pizza</td>\n",
              "      <td>Sorvete</td>\n",
              "    </tr>\n",
              "    <tr>\n",
              "      <th>1</th>\n",
              "      <td>Pizza</td>\n",
              "      <td>Sorvete</td>\n",
              "      <td>NaN</td>\n",
              "    </tr>\n",
              "    <tr>\n",
              "      <th>2</th>\n",
              "      <td>Cerveja</td>\n",
              "      <td>Pizza</td>\n",
              "      <td>NaN</td>\n",
              "    </tr>\n",
              "    <tr>\n",
              "      <th>3</th>\n",
              "      <td>Cerveja</td>\n",
              "      <td>Pizza</td>\n",
              "      <td>Sorvete</td>\n",
              "    </tr>\n",
              "    <tr>\n",
              "      <th>4</th>\n",
              "      <td>Cerveja</td>\n",
              "      <td>Pizza</td>\n",
              "      <td>NaN</td>\n",
              "    </tr>\n",
              "  </tbody>\n",
              "</table>\n",
              "</div>"
            ],
            "text/plain": [
              "         0        1        2\n",
              "0  Cerveja    Pizza  Sorvete\n",
              "1    Pizza  Sorvete      NaN\n",
              "2  Cerveja    Pizza      NaN\n",
              "3  Cerveja    Pizza  Sorvete\n",
              "4  Cerveja    Pizza      NaN"
            ]
          },
          "metadata": {
            "tags": []
          },
          "execution_count": 7
        }
      ]
    },
    {
      "cell_type": "code",
      "metadata": {
        "id": "PbdfBji-GcbM",
        "colab_type": "code",
        "colab": {
          "base_uri": "https://localhost:8080/",
          "height": 34
        },
        "outputId": "2223dd5e-e1a9-4050-e1ca-d030f48211eb"
      },
      "source": [
        "# Prepara os dados de cada linha e concatena em uma coluna apenas\n",
        "transacoes = []\n",
        "# percorre o arquivo\n",
        "for i in range(0,6):\n",
        "  transacoes.append([str(dados.values[i,j]) for j in range(0,3)])\n",
        "\n",
        "print(transacoes)"
      ],
      "execution_count": 8,
      "outputs": [
        {
          "output_type": "stream",
          "text": [
            "[['Cerveja', 'Pizza', 'Sorvete'], ['Pizza', 'Sorvete', 'nan'], ['Cerveja', 'Pizza', 'nan'], ['Cerveja', 'Pizza', 'Sorvete'], ['Cerveja', 'Pizza', 'nan'], ['Pizza', 'nan', 'nan']]\n"
          ],
          "name": "stdout"
        }
      ]
    },
    {
      "cell_type": "code",
      "metadata": {
        "id": "alXm8bMzHB8u",
        "colab_type": "code",
        "colab": {
          "base_uri": "https://localhost:8080/",
          "height": 54
        },
        "outputId": "dc9db489-b709-476f-9dac-0934122d915e"
      },
      "source": [
        "# monta a regra\n",
        "regras = apriori(transacoes, min_support = 0.5, min_confidence = 0.5)\n",
        "\n",
        "resultados = list(regras)\n",
        "print(resultados)"
      ],
      "execution_count": 9,
      "outputs": [
        {
          "output_type": "stream",
          "text": [
            "[RelationRecord(items=frozenset({'Cerveja'}), support=0.6666666666666666, ordered_statistics=[OrderedStatistic(items_base=frozenset(), items_add=frozenset({'Cerveja'}), confidence=0.6666666666666666, lift=1.0)]), RelationRecord(items=frozenset({'Pizza'}), support=1.0, ordered_statistics=[OrderedStatistic(items_base=frozenset(), items_add=frozenset({'Pizza'}), confidence=1.0, lift=1.0)]), RelationRecord(items=frozenset({'Sorvete'}), support=0.5, ordered_statistics=[OrderedStatistic(items_base=frozenset(), items_add=frozenset({'Sorvete'}), confidence=0.5, lift=1.0)]), RelationRecord(items=frozenset({'nan'}), support=0.6666666666666666, ordered_statistics=[OrderedStatistic(items_base=frozenset(), items_add=frozenset({'nan'}), confidence=0.6666666666666666, lift=1.0)]), RelationRecord(items=frozenset({'Cerveja', 'Pizza'}), support=0.6666666666666666, ordered_statistics=[OrderedStatistic(items_base=frozenset(), items_add=frozenset({'Cerveja', 'Pizza'}), confidence=0.6666666666666666, lift=1.0), OrderedStatistic(items_base=frozenset({'Cerveja'}), items_add=frozenset({'Pizza'}), confidence=1.0, lift=1.0), OrderedStatistic(items_base=frozenset({'Pizza'}), items_add=frozenset({'Cerveja'}), confidence=0.6666666666666666, lift=1.0)]), RelationRecord(items=frozenset({'Sorvete', 'Pizza'}), support=0.5, ordered_statistics=[OrderedStatistic(items_base=frozenset(), items_add=frozenset({'Sorvete', 'Pizza'}), confidence=0.5, lift=1.0), OrderedStatistic(items_base=frozenset({'Pizza'}), items_add=frozenset({'Sorvete'}), confidence=0.5, lift=1.0), OrderedStatistic(items_base=frozenset({'Sorvete'}), items_add=frozenset({'Pizza'}), confidence=1.0, lift=1.0)]), RelationRecord(items=frozenset({'Pizza', 'nan'}), support=0.6666666666666666, ordered_statistics=[OrderedStatistic(items_base=frozenset(), items_add=frozenset({'Pizza', 'nan'}), confidence=0.6666666666666666, lift=1.0), OrderedStatistic(items_base=frozenset({'Pizza'}), items_add=frozenset({'nan'}), confidence=0.6666666666666666, lift=1.0), OrderedStatistic(items_base=frozenset({'nan'}), items_add=frozenset({'Pizza'}), confidence=1.0, lift=1.0)])]\n"
          ],
          "name": "stdout"
        }
      ]
    },
    {
      "cell_type": "code",
      "metadata": {
        "id": "O8iv3IYKHNtv",
        "colab_type": "code",
        "colab": {
          "base_uri": "https://localhost:8080/",
          "height": 71
        },
        "outputId": "ddbaeca0-817a-4e08-ca59-5780a9107876"
      },
      "source": [
        "# facilita  avisualização\n",
        "resultados2 = [list(x) for x in resultados]\n",
        "print(resultados2)\n",
        "\n",
        "resultados3 = []\n",
        "for j in range(0,7):\n",
        "  resultados3.append([list(x) for x in resultados2[j][2]])\n",
        "print(resultados3)"
      ],
      "execution_count": 14,
      "outputs": [
        {
          "output_type": "stream",
          "text": [
            "[[frozenset({'Cerveja'}), 0.6666666666666666, [OrderedStatistic(items_base=frozenset(), items_add=frozenset({'Cerveja'}), confidence=0.6666666666666666, lift=1.0)]], [frozenset({'Pizza'}), 1.0, [OrderedStatistic(items_base=frozenset(), items_add=frozenset({'Pizza'}), confidence=1.0, lift=1.0)]], [frozenset({'Sorvete'}), 0.5, [OrderedStatistic(items_base=frozenset(), items_add=frozenset({'Sorvete'}), confidence=0.5, lift=1.0)]], [frozenset({'nan'}), 0.6666666666666666, [OrderedStatistic(items_base=frozenset(), items_add=frozenset({'nan'}), confidence=0.6666666666666666, lift=1.0)]], [frozenset({'Cerveja', 'Pizza'}), 0.6666666666666666, [OrderedStatistic(items_base=frozenset(), items_add=frozenset({'Cerveja', 'Pizza'}), confidence=0.6666666666666666, lift=1.0), OrderedStatistic(items_base=frozenset({'Cerveja'}), items_add=frozenset({'Pizza'}), confidence=1.0, lift=1.0), OrderedStatistic(items_base=frozenset({'Pizza'}), items_add=frozenset({'Cerveja'}), confidence=0.6666666666666666, lift=1.0)]], [frozenset({'Sorvete', 'Pizza'}), 0.5, [OrderedStatistic(items_base=frozenset(), items_add=frozenset({'Sorvete', 'Pizza'}), confidence=0.5, lift=1.0), OrderedStatistic(items_base=frozenset({'Pizza'}), items_add=frozenset({'Sorvete'}), confidence=0.5, lift=1.0), OrderedStatistic(items_base=frozenset({'Sorvete'}), items_add=frozenset({'Pizza'}), confidence=1.0, lift=1.0)]], [frozenset({'Pizza', 'nan'}), 0.6666666666666666, [OrderedStatistic(items_base=frozenset(), items_add=frozenset({'Pizza', 'nan'}), confidence=0.6666666666666666, lift=1.0), OrderedStatistic(items_base=frozenset({'Pizza'}), items_add=frozenset({'nan'}), confidence=0.6666666666666666, lift=1.0), OrderedStatistic(items_base=frozenset({'nan'}), items_add=frozenset({'Pizza'}), confidence=1.0, lift=1.0)]]]\n",
            "[[[frozenset(), frozenset({'Cerveja'}), 0.6666666666666666, 1.0]], [[frozenset(), frozenset({'Pizza'}), 1.0, 1.0]], [[frozenset(), frozenset({'Sorvete'}), 0.5, 1.0]], [[frozenset(), frozenset({'nan'}), 0.6666666666666666, 1.0]], [[frozenset(), frozenset({'Cerveja', 'Pizza'}), 0.6666666666666666, 1.0], [frozenset({'Cerveja'}), frozenset({'Pizza'}), 1.0, 1.0], [frozenset({'Pizza'}), frozenset({'Cerveja'}), 0.6666666666666666, 1.0]], [[frozenset(), frozenset({'Sorvete', 'Pizza'}), 0.5, 1.0], [frozenset({'Pizza'}), frozenset({'Sorvete'}), 0.5, 1.0], [frozenset({'Sorvete'}), frozenset({'Pizza'}), 1.0, 1.0]], [[frozenset(), frozenset({'Pizza', 'nan'}), 0.6666666666666666, 1.0], [frozenset({'Pizza'}), frozenset({'nan'}), 0.6666666666666666, 1.0], [frozenset({'nan'}), frozenset({'Pizza'}), 1.0, 1.0]]]\n"
          ],
          "name": "stdout"
        }
      ]
    }
  ]
}
