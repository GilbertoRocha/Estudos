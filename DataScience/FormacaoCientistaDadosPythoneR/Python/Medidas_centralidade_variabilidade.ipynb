{
  "nbformat": 4,
  "nbformat_minor": 0,
  "metadata": {
    "colab": {
      "name": "Medidas_centralidade_variabilidade.ipynb",
      "provenance": [],
      "include_colab_link": true
    },
    "kernelspec": {
      "name": "python3",
      "display_name": "Python 3"
    }
  },
  "cells": [
    {
      "cell_type": "markdown",
      "metadata": {
        "id": "view-in-github",
        "colab_type": "text"
      },
      "source": [
        "<a href=\"https://colab.research.google.com/github/GilbertoRocha/Estudos/blob/master/DataScience/FormacaoCientistaDadosPythoneR/Python/Medidas_centralidade_variabilidade.ipynb\" target=\"_parent\"><img src=\"https://colab.research.google.com/assets/colab-badge.svg\" alt=\"Open In Colab\"/></a>"
      ]
    },
    {
      "cell_type": "markdown",
      "metadata": {
        "id": "T9eLAT4L8KoB",
        "colab_type": "text"
      },
      "source": [
        "Medidas de centralidade\n",
        "\n",
        "Media: soma de todos os registros e divisão pela quantidade\n",
        "\n",
        "Mediana: valor que se encontra no centro do conjunto\n",
        "\n",
        "Desvio padrão: Raiz quadrada da mediana, ou seja, a distancia media entre todos os registro e o valor central\n",
        "\n",
        "Quartil: descreve os dados em 4 conjuntos, aonde normalmente é buscado o menor (25%), a mediana (50%), o maior em até 75% do conjunto, e o maior de todos(100%)"
      ]
    },
    {
      "cell_type": "code",
      "metadata": {
        "id": "Nxf-_GZQ6SFp",
        "colab_type": "code",
        "colab": {}
      },
      "source": [
        "# biblioteca\n",
        "import numpy as np\n",
        "# biblioteca para estatisticas\n",
        "from scipy import stats"
      ],
      "execution_count": 0,
      "outputs": []
    },
    {
      "cell_type": "code",
      "metadata": {
        "id": "HsFtONdc6mRT",
        "colab_type": "code",
        "colab": {}
      },
      "source": [
        "# cria o dataset\n",
        "jogadores = [40000, 18000, 12000, 250000, 30000, 140000, 300000, 40000, 800000]"
      ],
      "execution_count": 0,
      "outputs": []
    },
    {
      "cell_type": "code",
      "metadata": {
        "id": "zyflz4aY6xyG",
        "colab_type": "code",
        "colab": {
          "base_uri": "https://localhost:8080/",
          "height": 34
        },
        "outputId": "03c5fa19-82a9-4395-d1cc-2b1818b566e1"
      },
      "source": [
        "# media\n",
        "np.mean(jogadores)"
      ],
      "execution_count": 3,
      "outputs": [
        {
          "output_type": "execute_result",
          "data": {
            "text/plain": [
              "181111.11111111112"
            ]
          },
          "metadata": {
            "tags": []
          },
          "execution_count": 3
        }
      ]
    },
    {
      "cell_type": "code",
      "metadata": {
        "id": "czang51g61fy",
        "colab_type": "code",
        "colab": {
          "base_uri": "https://localhost:8080/",
          "height": 34
        },
        "outputId": "001f1e33-3d66-40fc-b196-bbc85f7c88dc"
      },
      "source": [
        "# mediana\n",
        "np.median(jogadores)"
      ],
      "execution_count": 4,
      "outputs": [
        {
          "output_type": "execute_result",
          "data": {
            "text/plain": [
              "40000.0"
            ]
          },
          "metadata": {
            "tags": []
          },
          "execution_count": 4
        }
      ]
    },
    {
      "cell_type": "code",
      "metadata": {
        "id": "YXd1R6M_648w",
        "colab_type": "code",
        "colab": {
          "base_uri": "https://localhost:8080/",
          "height": 34
        },
        "outputId": "e2961ace-08de-4a24-fbf8-91967f3eef7f"
      },
      "source": [
        "# quartis\n",
        "# define quais os quartis serão exibidos\n",
        "quartis = np.quantile(jogadores, [0, 0.25, 0.5, 0.75, 1])\n",
        "print(quartis)"
      ],
      "execution_count": 6,
      "outputs": [
        {
          "output_type": "stream",
          "text": [
            "[ 12000.  30000.  40000. 250000. 800000.]\n"
          ],
          "name": "stdout"
        }
      ]
    },
    {
      "cell_type": "code",
      "metadata": {
        "id": "K8yDAYH97JNQ",
        "colab_type": "code",
        "colab": {
          "base_uri": "https://localhost:8080/",
          "height": 34
        },
        "outputId": "28d361ff-f7c5-4871-9138-08c2aa5eb37e"
      },
      "source": [
        "# desvio padrão\n",
        "## ddof influencia no calculo, para ficar igual ao R, é utilizado ddof = 1\n",
        "np.std(jogadores, ddof=1)"
      ],
      "execution_count": 8,
      "outputs": [
        {
          "output_type": "execute_result",
          "data": {
            "text/plain": [
              "255307.87514511007"
            ]
          },
          "metadata": {
            "tags": []
          },
          "execution_count": 8
        }
      ]
    },
    {
      "cell_type": "code",
      "metadata": {
        "id": "bmKalq4h7-xi",
        "colab_type": "code",
        "colab": {
          "base_uri": "https://localhost:8080/",
          "height": 34
        },
        "outputId": "730ce6a5-49fc-4947-c7c0-c5b6c2532a80"
      },
      "source": [
        "# visualizacao usando a biblioteca estatisticas\n",
        "stats.describe(jogadores)"
      ],
      "execution_count": 9,
      "outputs": [
        {
          "output_type": "execute_result",
          "data": {
            "text/plain": [
              "DescribeResult(nobs=9, minmax=(12000, 800000), mean=181111.11111111112, variance=65182111111.11111, skewness=1.758635899846188, kurtosis=1.9572075427527729)"
            ]
          },
          "metadata": {
            "tags": []
          },
          "execution_count": 9
        }
      ]
    }
  ]
}