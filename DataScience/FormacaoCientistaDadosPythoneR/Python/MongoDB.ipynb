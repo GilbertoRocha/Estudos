{
  "nbformat": 4,
  "nbformat_minor": 0,
  "metadata": {
    "colab": {
      "name": "MongoDB.ipynb",
      "provenance": [],
      "collapsed_sections": [],
      "authorship_tag": "ABX9TyO9i3BBikfXLkFDf1nCRfja",
      "include_colab_link": true
    },
    "kernelspec": {
      "name": "python3",
      "display_name": "Python 3"
    }
  },
  "cells": [
    {
      "cell_type": "markdown",
      "metadata": {
        "id": "view-in-github",
        "colab_type": "text"
      },
      "source": [
        "<a href=\"https://colab.research.google.com/github/GilbertoRocha/Estudos/blob/master/DataScience/FormacaoCientistaDadosPythoneR/Python/MongoDB.ipynb\" target=\"_parent\"><img src=\"https://colab.research.google.com/assets/colab-badge.svg\" alt=\"Open In Colab\"/></a>"
      ]
    },
    {
      "cell_type": "markdown",
      "metadata": {
        "id": "YkFJ21K7fYRC",
        "colab_type": "text"
      },
      "source": [
        "Para startar o banco em maquina local, usar o cmd, acessar a instalação e rodar o mongodb.exe\n",
        "\n",
        "**Criar o banco:** Utiliza-se o comando \"use\" e nome do banco no cmd, se o mesmo nao existir ja cria. Exemplo: use dbmidias\n",
        "\n",
        "**Criar uma coleção explicitamente:** Utiliza-se o comando db.createCollection(\"clientes\").\n",
        "\n",
        "**Criar uma coleção implicitamente:** inserir um registro na colecao, por exemplo: db.posts.insert({nome:\"jose\", postagem:\"Bons produtos\", data:\"31-06-2019\"})\n",
        "\n",
        "**Inserir varios documentos:** realizar um insert que contem uma listagem de documentos JSON para inserir, aonde cada documento é separado por virgula\n",
        "db.posts.insert([\n",
        "  {nome:\"jose\", postagem:\"Bons produtos\", data:\"31-06-2019\"},\n",
        "  {nome:\"maria\", postagem:\"Encontrei tudo que queria\", data:\"14-06-2019\"},\n",
        "  {nome:\"lucas\", postagem:\"Otimo atendimento\", data:\"12-04-2019\"}\n",
        "])\n",
        "\n",
        "**Recuperar documentos:**\n",
        " - db.posts.find()\n",
        " - db.posts.findOne() - apenas um registro\n",
        " - db.posts.find().pretty() - retornar os campos um abaixo do outro\n",
        "\n",
        "**Recuperando documentos com filtros**\n",
        "db.posts.find({nome:\"jose\", postagem:\"Bons produtos\")\n",
        "\n",
        "\n",
        "**Operadores**\n",
        " - $eq: igual\n",
        "\n",
        " - $gt: maior que\n",
        "\n",
        " - $gte: maior ou igual que\n",
        "\n",
        " - $lt: menor que\n",
        "\n",
        " - $lte: menor ou igual que\n",
        "\n",
        " - $ne: diferente de\n",
        "\n",
        " - $in: contém\n",
        "\n",
        " - $nin: não contém\n",
        "\n",
        " db.posts.find({postagem:\"Produtos caros\", idade: {$ltd: 12}})\n",
        "\n",
        "**Selecionar campos - Projeção**\n",
        "indica os campos que nao devem ser retornados, como zero\n",
        "db.posts.find({nome:\"jose\"},{_id: 0, nome:0})\n",
        "\n",
        "\n",
        "**limitar quantidade de registro**\n",
        "db.posts.find().limit(100)\n",
        "\n",
        "**Ordernar**\n",
        "Marca os campos a serem ordenados como 1 crescente, -1 e decrescente\n",
        "db.posts.find().sort({nome:1})\n",
        "\n",
        "\n",
        "**Atualizar**\n",
        "comando update() atualiza\n",
        "comando save() atualiza se existir, se nao existir cria\n",
        "\n",
        "db.posts.update({nome:\"andre\"}, {$set:{idade:29}})\n",
        "\n",
        "\n",
        "**Excluir documento**\n",
        " - deleteOne(): exclui apenas o primeiro que achar\n",
        " - deleteMany(): exclui todos que achar\n",
        " - remove(): exclui todos os documentos da coleção\n",
        "db.posts.deleteOne({nome:\"Andre\"})\n",
        "\n",
        "**Excluir coleção**\n",
        "\n",
        "db.posts.drop()\n",
        "\n",
        "**Improtar dados**\n",
        "Pode user o mongoimport --db escola --collection estudantes --file C:\\Dados\\Students.json"
      ]
    },
    {
      "cell_type": "code",
      "metadata": {
        "id": "FTcrv9R3es1O",
        "colab_type": "code",
        "colab": {
          "base_uri": "https://localhost:8080/",
          "height": 34
        },
        "outputId": "f0ce2e28-ce89-4ba8-b935-d266c80d4b70"
      },
      "source": [
        "%pip install pymongo"
      ],
      "execution_count": 1,
      "outputs": [
        {
          "output_type": "stream",
          "text": [
            "Requirement already satisfied: pymongo in /usr/local/lib/python3.6/dist-packages (3.10.1)\n"
          ],
          "name": "stdout"
        }
      ]
    },
    {
      "cell_type": "code",
      "metadata": {
        "id": "yfcUDRCSq_Hv",
        "colab_type": "code",
        "colab": {}
      },
      "source": [
        "from pymongo import MongoClient"
      ],
      "execution_count": 0,
      "outputs": []
    },
    {
      "cell_type": "code",
      "metadata": {
        "id": "-YjkRlXvrD7r",
        "colab_type": "code",
        "colab": {}
      },
      "source": [
        "# cria o cliente\n",
        "cliente = MongoClient('mongodb://localhost:27017/')"
      ],
      "execution_count": 0,
      "outputs": []
    },
    {
      "cell_type": "code",
      "metadata": {
        "id": "2XqXsGSErPa8",
        "colab_type": "code",
        "colab": {}
      },
      "source": [
        "# pega o banco\n",
        "db = cliente.dbmidias"
      ],
      "execution_count": 0,
      "outputs": []
    },
    {
      "cell_type": "code",
      "metadata": {
        "id": "hgdUqL8arTxL",
        "colab_type": "code",
        "colab": {}
      },
      "source": [
        "# pega a colecao\n",
        "conexao = db.posts"
      ],
      "execution_count": 0,
      "outputs": []
    },
    {
      "cell_type": "code",
      "metadata": {
        "id": "UGdH49Snrae8",
        "colab_type": "code",
        "colab": {}
      },
      "source": [
        "# visualizando dados\n",
        "print(conexao.find_one())\n",
        "\n",
        "# com filtro\n",
        "print(conexao.find_one({\"nome\":\"jose\"}))"
      ],
      "execution_count": 0,
      "outputs": []
    },
    {
      "cell_type": "code",
      "metadata": {
        "id": "gsbDpJ-8rqg7",
        "colab_type": "code",
        "colab": {}
      },
      "source": [
        "# navegando pelao conexao\n",
        "for conexao in conexao.find():\n",
        "  print(conexao)"
      ],
      "execution_count": 0,
      "outputs": []
    }
  ]
}