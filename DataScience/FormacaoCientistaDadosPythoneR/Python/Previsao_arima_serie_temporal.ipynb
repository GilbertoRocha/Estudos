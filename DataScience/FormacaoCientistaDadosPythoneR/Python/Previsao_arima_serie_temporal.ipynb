{
  "nbformat": 4,
  "nbformat_minor": 0,
  "metadata": {
    "colab": {
      "name": "Previsao_arima_serie_temporal.ipynb",
      "provenance": [],
      "collapsed_sections": [],
      "authorship_tag": "ABX9TyOBauLeRYdNaY+wlMcvcqFZ",
      "include_colab_link": true
    },
    "kernelspec": {
      "name": "python3",
      "display_name": "Python 3"
    }
  },
  "cells": [
    {
      "cell_type": "markdown",
      "metadata": {
        "id": "view-in-github",
        "colab_type": "text"
      },
      "source": [
        "<a href=\"https://colab.research.google.com/github/GilbertoRocha/Estudos/blob/master/FormacaoCientistaDadosPythoneR/Python/Previsao_arima_serie_temporal.ipynb\" target=\"_parent\"><img src=\"https://colab.research.google.com/assets/colab-badge.svg\" alt=\"Open In Colab\"/></a>"
      ]
    },
    {
      "cell_type": "markdown",
      "metadata": {
        "id": "wuI9W4AVBjWy",
        "colab_type": "text"
      },
      "source": [
        "Previsão de series temporais, usando media movel e arima"
      ]
    },
    {
      "cell_type": "code",
      "metadata": {
        "id": "3Owd65VzNwBA",
        "colab_type": "code",
        "colab": {
          "base_uri": "https://localhost:8080/",
          "height": 289
        },
        "outputId": "1051d6a4-e890-451d-ff81-a79fb0edc6ec"
      },
      "source": [
        "# instalando o pacote\n",
        "%pip install pyramid-arima"
      ],
      "execution_count": 25,
      "outputs": [
        {
          "output_type": "stream",
          "text": [
            "Collecting pyramid-arima\n",
            "\u001b[?25l  Downloading https://files.pythonhosted.org/packages/5c/84/57422f2a6ade3161c586545e38b518ba1b7ab30ee4a4acc29110c0aba2bc/pyramid_arima-0.9.0-cp36-cp36m-manylinux1_x86_64.whl (597kB)\n",
            "\r\u001b[K     |▌                               | 10kB 21.0MB/s eta 0:00:01\r\u001b[K     |█                               | 20kB 2.0MB/s eta 0:00:01\r\u001b[K     |█▋                              | 30kB 2.6MB/s eta 0:00:01\r\u001b[K     |██▏                             | 40kB 1.7MB/s eta 0:00:01\r\u001b[K     |██▊                             | 51kB 2.0MB/s eta 0:00:01\r\u001b[K     |███▎                            | 61kB 2.4MB/s eta 0:00:01\r\u001b[K     |███▉                            | 71kB 2.6MB/s eta 0:00:01\r\u001b[K     |████▍                           | 81kB 2.8MB/s eta 0:00:01\r\u001b[K     |█████                           | 92kB 3.1MB/s eta 0:00:01\r\u001b[K     |█████▌                          | 102kB 2.9MB/s eta 0:00:01\r\u001b[K     |██████                          | 112kB 2.9MB/s eta 0:00:01\r\u001b[K     |██████▋                         | 122kB 2.9MB/s eta 0:00:01\r\u001b[K     |███████▏                        | 133kB 2.9MB/s eta 0:00:01\r\u001b[K     |███████▊                        | 143kB 2.9MB/s eta 0:00:01\r\u001b[K     |████████▏                       | 153kB 2.9MB/s eta 0:00:01\r\u001b[K     |████████▊                       | 163kB 2.9MB/s eta 0:00:01\r\u001b[K     |█████████▎                      | 174kB 2.9MB/s eta 0:00:01\r\u001b[K     |█████████▉                      | 184kB 2.9MB/s eta 0:00:01\r\u001b[K     |██████████▍                     | 194kB 2.9MB/s eta 0:00:01\r\u001b[K     |███████████                     | 204kB 2.9MB/s eta 0:00:01\r\u001b[K     |███████████▌                    | 215kB 2.9MB/s eta 0:00:01\r\u001b[K     |████████████                    | 225kB 2.9MB/s eta 0:00:01\r\u001b[K     |████████████▋                   | 235kB 2.9MB/s eta 0:00:01\r\u001b[K     |█████████████▏                  | 245kB 2.9MB/s eta 0:00:01\r\u001b[K     |█████████████▊                  | 256kB 2.9MB/s eta 0:00:01\r\u001b[K     |██████████████▎                 | 266kB 2.9MB/s eta 0:00:01\r\u001b[K     |██████████████▉                 | 276kB 2.9MB/s eta 0:00:01\r\u001b[K     |███████████████▍                | 286kB 2.9MB/s eta 0:00:01\r\u001b[K     |████████████████                | 296kB 2.9MB/s eta 0:00:01\r\u001b[K     |████████████████▍               | 307kB 2.9MB/s eta 0:00:01\r\u001b[K     |█████████████████               | 317kB 2.9MB/s eta 0:00:01\r\u001b[K     |█████████████████▌              | 327kB 2.9MB/s eta 0:00:01\r\u001b[K     |██████████████████              | 337kB 2.9MB/s eta 0:00:01\r\u001b[K     |██████████████████▋             | 348kB 2.9MB/s eta 0:00:01\r\u001b[K     |███████████████████▏            | 358kB 2.9MB/s eta 0:00:01\r\u001b[K     |███████████████████▊            | 368kB 2.9MB/s eta 0:00:01\r\u001b[K     |████████████████████▎           | 378kB 2.9MB/s eta 0:00:01\r\u001b[K     |████████████████████▉           | 389kB 2.9MB/s eta 0:00:01\r\u001b[K     |█████████████████████▍          | 399kB 2.9MB/s eta 0:00:01\r\u001b[K     |██████████████████████          | 409kB 2.9MB/s eta 0:00:01\r\u001b[K     |██████████████████████▌         | 419kB 2.9MB/s eta 0:00:01\r\u001b[K     |███████████████████████         | 430kB 2.9MB/s eta 0:00:01\r\u001b[K     |███████████████████████▋        | 440kB 2.9MB/s eta 0:00:01\r\u001b[K     |████████████████████████▏       | 450kB 2.9MB/s eta 0:00:01\r\u001b[K     |████████████████████████▋       | 460kB 2.9MB/s eta 0:00:01\r\u001b[K     |█████████████████████████▏      | 471kB 2.9MB/s eta 0:00:01\r\u001b[K     |█████████████████████████▊      | 481kB 2.9MB/s eta 0:00:01\r\u001b[K     |██████████████████████████▎     | 491kB 2.9MB/s eta 0:00:01\r\u001b[K     |██████████████████████████▉     | 501kB 2.9MB/s eta 0:00:01\r\u001b[K     |███████████████████████████▍    | 512kB 2.9MB/s eta 0:00:01\r\u001b[K     |████████████████████████████    | 522kB 2.9MB/s eta 0:00:01\r\u001b[K     |████████████████████████████▌   | 532kB 2.9MB/s eta 0:00:01\r\u001b[K     |█████████████████████████████   | 542kB 2.9MB/s eta 0:00:01\r\u001b[K     |█████████████████████████████▋  | 552kB 2.9MB/s eta 0:00:01\r\u001b[K     |██████████████████████████████▏ | 563kB 2.9MB/s eta 0:00:01\r\u001b[K     |██████████████████████████████▊ | 573kB 2.9MB/s eta 0:00:01\r\u001b[K     |███████████████████████████████▎| 583kB 2.9MB/s eta 0:00:01\r\u001b[K     |███████████████████████████████▉| 593kB 2.9MB/s eta 0:00:01\r\u001b[K     |████████████████████████████████| 604kB 2.9MB/s \n",
            "\u001b[?25hRequirement already satisfied: numpy>=1.10 in /usr/local/lib/python3.6/dist-packages (from pyramid-arima) (1.18.2)\n",
            "Requirement already satisfied: Cython>=0.23 in /usr/local/lib/python3.6/dist-packages (from pyramid-arima) (0.29.15)\n",
            "Requirement already satisfied: pandas>=0.19 in /usr/local/lib/python3.6/dist-packages (from pyramid-arima) (0.25.3)\n",
            "Requirement already satisfied: statsmodels>=0.9.0 in /usr/local/lib/python3.6/dist-packages (from pyramid-arima) (0.10.2)\n",
            "Requirement already satisfied: scipy>=0.9 in /usr/local/lib/python3.6/dist-packages (from pyramid-arima) (1.4.1)\n",
            "Requirement already satisfied: scikit-learn>=0.17 in /usr/local/lib/python3.6/dist-packages (from pyramid-arima) (0.22.2.post1)\n",
            "Requirement already satisfied: python-dateutil>=2.6.1 in /usr/local/lib/python3.6/dist-packages (from pandas>=0.19->pyramid-arima) (2.8.1)\n",
            "Requirement already satisfied: pytz>=2017.2 in /usr/local/lib/python3.6/dist-packages (from pandas>=0.19->pyramid-arima) (2018.9)\n",
            "Requirement already satisfied: patsy>=0.4.0 in /usr/local/lib/python3.6/dist-packages (from statsmodels>=0.9.0->pyramid-arima) (0.5.1)\n",
            "Requirement already satisfied: joblib>=0.11 in /usr/local/lib/python3.6/dist-packages (from scikit-learn>=0.17->pyramid-arima) (0.14.1)\n",
            "Requirement already satisfied: six>=1.5 in /usr/local/lib/python3.6/dist-packages (from python-dateutil>=2.6.1->pandas>=0.19->pyramid-arima) (1.12.0)\n",
            "Installing collected packages: pyramid-arima\n",
            "Successfully installed pyramid-arima-0.9.0\n"
          ],
          "name": "stdout"
        }
      ]
    },
    {
      "cell_type": "code",
      "metadata": {
        "id": "p_6J02HCBi7e",
        "colab_type": "code",
        "colab": {
          "base_uri": "https://localhost:8080/",
          "height": 309
        },
        "outputId": "c703ba43-6f88-425d-d961-87842bb66c71"
      },
      "source": [
        "# bibliotecas\n",
        "import pandas as pd\n",
        "import numpy as np\n",
        "import matplotlib.pylab as plt\n",
        "from io import StringIO\n",
        "from statsmodels.tsa.arima_model import ARIMA\n",
        "from pyramid.arima import auto_arima"
      ],
      "execution_count": 26,
      "outputs": [
        {
          "output_type": "stream",
          "text": [
            "/usr/local/lib/python3.6/dist-packages/sklearn/externals/six.py:31: FutureWarning: The module is deprecated in version 0.21 and will be removed in version 0.23 since we've dropped support for Python 2.7. Please rely on the official version of six (https://pypi.org/project/six/).\n",
            "  \"(https://pypi.org/project/six/).\", FutureWarning)\n",
            "/usr/local/lib/python3.6/dist-packages/sklearn/externals/joblib/__init__.py:15: FutureWarning: sklearn.externals.joblib is deprecated in 0.21 and will be removed in 0.23. Please import this functionality directly from joblib, which can be installed with: pip install joblib. If this warning is raised when loading pickled models, you may need to re-serialize those models with scikit-learn 0.21+.\n",
            "  warnings.warn(msg, category=FutureWarning)\n",
            "/usr/local/lib/python3.6/dist-packages/pyramid/__init__.py:68: UserWarning: \n",
            "    The 'pyramid' package will be migrating to a new namespace beginning in \n",
            "    version 1.0.0: 'pmdarima'. This is due to a package name collision with the\n",
            "    Pyramid web framework. For more information, see Issue #34:\n",
            "    \n",
            "        https://github.com/tgsmith61591/pyramid/issues/34\n",
            "        \n",
            "    The package will subsequently be installable via the name 'pmdarima'; the\n",
            "    only functional change to the user will be the import name. All imports\n",
            "    from 'pyramid' will change to 'pmdarima'.\n",
            "    \n",
            "  \"\"\", UserWarning)\n"
          ],
          "name": "stderr"
        }
      ]
    },
    {
      "cell_type": "code",
      "metadata": {
        "id": "xyhoyHtwBz8j",
        "colab_type": "code",
        "colab": {
          "base_uri": "https://localhost:8080/",
          "height": 286
        },
        "outputId": "b593d296-5db0-495f-92dc-31aafed5e777"
      },
      "source": [
        "# simula a carga de um csv\n",
        "arq = StringIO(\"\"\"Month,#Passengers\n",
        "1949-01,112\n",
        "1949-02,118\n",
        "1949-03,132\n",
        "1949-04,129\n",
        "1949-05,121\n",
        "1949-06,135\n",
        "1949-07,148\n",
        "1949-08,148\n",
        "1949-09,136\n",
        "1949-10,119\n",
        "1949-11,104\n",
        "1949-12,118\n",
        "1950-01,115\n",
        "1950-02,126\n",
        "1950-03,141\n",
        "1950-04,135\n",
        "1950-05,125\n",
        "1950-06,149\n",
        "1950-07,170\n",
        "1950-08,170\n",
        "1950-09,158\n",
        "1950-10,133\n",
        "1950-11,114\n",
        "1950-12,140\n",
        "1951-01,145\n",
        "1951-02,150\n",
        "1951-03,178\n",
        "1951-04,163\n",
        "1951-05,172\n",
        "1951-06,178\n",
        "1951-07,199\n",
        "1951-08,199\n",
        "1951-09,184\n",
        "1951-10,162\n",
        "1951-11,146\n",
        "1951-12,166\n",
        "1952-01,171\n",
        "1952-02,180\n",
        "1952-03,193\n",
        "1952-04,181\n",
        "1952-05,183\n",
        "1952-06,218\n",
        "1952-07,230\n",
        "1952-08,242\n",
        "1952-09,209\n",
        "1952-10,191\n",
        "1952-11,172\n",
        "1952-12,194\n",
        "1953-01,196\n",
        "1953-02,196\n",
        "1953-03,236\n",
        "1953-04,235\n",
        "1953-05,229\n",
        "1953-06,243\n",
        "1953-07,264\n",
        "1953-08,272\n",
        "1953-09,237\n",
        "1953-10,211\n",
        "1953-11,180\n",
        "1953-12,201\n",
        "1954-01,204\n",
        "1954-02,188\n",
        "1954-03,235\n",
        "1954-04,227\n",
        "1954-05,234\n",
        "1954-06,264\n",
        "1954-07,302\n",
        "1954-08,293\n",
        "1954-09,259\n",
        "1954-10,229\n",
        "1954-11,203\n",
        "1954-12,229\n",
        "1955-01,242\n",
        "1955-02,233\n",
        "1955-03,267\n",
        "1955-04,269\n",
        "1955-05,270\n",
        "1955-06,315\n",
        "1955-07,364\n",
        "1955-08,347\n",
        "1955-09,312\n",
        "1955-10,274\n",
        "1955-11,237\n",
        "1955-12,278\n",
        "1956-01,284\n",
        "1956-02,277\n",
        "1956-03,317\n",
        "1956-04,313\n",
        "1956-05,318\n",
        "1956-06,374\n",
        "1956-07,413\n",
        "1956-08,405\n",
        "1956-09,355\n",
        "1956-10,306\n",
        "1956-11,271\n",
        "1956-12,306\n",
        "1957-01,315\n",
        "1957-02,301\n",
        "1957-03,356\n",
        "1957-04,348\n",
        "1957-05,355\n",
        "1957-06,422\n",
        "1957-07,465\n",
        "1957-08,467\n",
        "1957-09,404\n",
        "1957-10,347\n",
        "1957-11,305\n",
        "1957-12,336\n",
        "1958-01,340\n",
        "1958-02,318\n",
        "1958-03,362\n",
        "1958-04,348\n",
        "1958-05,363\n",
        "1958-06,435\n",
        "1958-07,491\n",
        "1958-08,505\n",
        "1958-09,404\n",
        "1958-10,359\n",
        "1958-11,310\n",
        "1958-12,337\n",
        "1959-01,360\n",
        "1959-02,342\n",
        "1959-03,406\n",
        "1959-04,396\n",
        "1959-05,420\n",
        "1959-06,472\n",
        "1959-07,548\n",
        "1959-08,559\n",
        "1959-09,463\n",
        "1959-10,407\n",
        "1959-11,362\n",
        "1959-12,405\n",
        "1960-01,417\n",
        "1960-02,391\n",
        "1960-03,419\n",
        "1960-04,461\n",
        "1960-05,472\n",
        "1960-06,535\n",
        "1960-07,622\n",
        "1960-08,606\n",
        "1960-09,508\n",
        "1960-10,461\n",
        "1960-11,390\n",
        "1960-12,432\"\"\")\n",
        "\n",
        "base = pd.read_csv(filepath_or_buffer=arq)\n",
        "\n",
        "\n",
        "# transforma a coluna month em um tipo data\n",
        "dateparse = lambda dates: pd.datetime.strptime(dates, '%Y-%m')\n",
        "\n",
        "# parse_dates recebe o nome da coluna, que por coincidencia é Month\n",
        "#base = pd.read_csv(filepath_or_buffer=arq, parse_dates=['Month'], index_col = 'Month', date_parser=dateparse)\n",
        "#como e simulado a leitura de csv, entao a conversao e feita diferente\n",
        "base['Month'] = base['Month'].apply(dateparse)\n",
        "print(base.dtypes)\n",
        "\n",
        "\n",
        "# alterado o index, como é feito um simulado de carga de csv, então isso ficou diferente\n",
        "# so pode ter uma variavel no df e o indice\n",
        "base.index = base['Month']\n",
        "base = base.drop('Month', axis=1)\n",
        "base.head()"
      ],
      "execution_count": 2,
      "outputs": [
        {
          "output_type": "stream",
          "text": [
            "Month          datetime64[ns]\n",
            "#Passengers             int64\n",
            "dtype: object\n"
          ],
          "name": "stdout"
        },
        {
          "output_type": "execute_result",
          "data": {
            "text/html": [
              "<div>\n",
              "<style scoped>\n",
              "    .dataframe tbody tr th:only-of-type {\n",
              "        vertical-align: middle;\n",
              "    }\n",
              "\n",
              "    .dataframe tbody tr th {\n",
              "        vertical-align: top;\n",
              "    }\n",
              "\n",
              "    .dataframe thead th {\n",
              "        text-align: right;\n",
              "    }\n",
              "</style>\n",
              "<table border=\"1\" class=\"dataframe\">\n",
              "  <thead>\n",
              "    <tr style=\"text-align: right;\">\n",
              "      <th></th>\n",
              "      <th>#Passengers</th>\n",
              "    </tr>\n",
              "    <tr>\n",
              "      <th>Month</th>\n",
              "      <th></th>\n",
              "    </tr>\n",
              "  </thead>\n",
              "  <tbody>\n",
              "    <tr>\n",
              "      <th>1949-01-01</th>\n",
              "      <td>112</td>\n",
              "    </tr>\n",
              "    <tr>\n",
              "      <th>1949-02-01</th>\n",
              "      <td>118</td>\n",
              "    </tr>\n",
              "    <tr>\n",
              "      <th>1949-03-01</th>\n",
              "      <td>132</td>\n",
              "    </tr>\n",
              "    <tr>\n",
              "      <th>1949-04-01</th>\n",
              "      <td>129</td>\n",
              "    </tr>\n",
              "    <tr>\n",
              "      <th>1949-05-01</th>\n",
              "      <td>121</td>\n",
              "    </tr>\n",
              "  </tbody>\n",
              "</table>\n",
              "</div>"
            ],
            "text/plain": [
              "            #Passengers\n",
              "Month                  \n",
              "1949-01-01          112\n",
              "1949-02-01          118\n",
              "1949-03-01          132\n",
              "1949-04-01          129\n",
              "1949-05-01          121"
            ]
          },
          "metadata": {
            "tags": []
          },
          "execution_count": 2
        }
      ]
    },
    {
      "cell_type": "code",
      "metadata": {
        "id": "U6WUgoJpB8Zx",
        "colab_type": "code",
        "colab": {
          "base_uri": "https://localhost:8080/",
          "height": 265
        },
        "outputId": "863ee88d-37dc-42c3-b5fa-a295a7400eb3"
      },
      "source": [
        "ts = base['#Passengers']\n",
        "plt.plot(ts)\n",
        "plt.show()"
      ],
      "execution_count": 4,
      "outputs": [
        {
          "output_type": "display_data",
          "data": {
            "image/png": "[encoded data removed]",
            "text/plain": [
              "<Figure size 432x288 with 1 Axes>"
            ]
          },
          "metadata": {
            "tags": []
          }
        }
      ]
    },
    {
      "cell_type": "code",
      "metadata": {
        "id": "wSGFoFNDCDJp",
        "colab_type": "code",
        "colab": {
          "base_uri": "https://localhost:8080/",
          "height": 34
        },
        "outputId": "582b7ee0-1307-4a84-c810-95567aa8206e"
      },
      "source": [
        "# usando a media (errado, pois a serie não é estacionaria)\n",
        "ts.mean()"
      ],
      "execution_count": 5,
      "outputs": [
        {
          "output_type": "execute_result",
          "data": {
            "text/plain": [
              "280.2986111111111"
            ]
          },
          "metadata": {
            "tags": []
          },
          "execution_count": 5
        }
      ]
    },
    {
      "cell_type": "code",
      "metadata": {
        "id": "FjJZiW7HCR1B",
        "colab_type": "code",
        "colab": {
          "base_uri": "https://localhost:8080/",
          "height": 34
        },
        "outputId": "df62aef9-1f4a-403c-9410-3bb0f1a60321"
      },
      "source": [
        "# pegar a media do ultimo ano, ainda bem impreciso\n",
        "ts['1960-01-01':'1960-12-01'].mean()"
      ],
      "execution_count": 7,
      "outputs": [
        {
          "output_type": "execute_result",
          "data": {
            "text/plain": [
              "476.1666666666667"
            ]
          },
          "metadata": {
            "tags": []
          },
          "execution_count": 7
        }
      ]
    },
    {
      "cell_type": "code",
      "metadata": {
        "id": "4st7ycpmCjVY",
        "colab_type": "code",
        "colab": {
          "base_uri": "https://localhost:8080/",
          "height": 238
        },
        "outputId": "4c46e802-8d82-4ff5-e181-278744affc79"
      },
      "source": [
        "# usando a media movel das 12 datas anteriores\n",
        "media_movel = ts.rolling(window=12).mean()\n",
        "print(media_movel)"
      ],
      "execution_count": 8,
      "outputs": [
        {
          "output_type": "stream",
          "text": [
            "Month\n",
            "1949-01-01           NaN\n",
            "1949-02-01           NaN\n",
            "1949-03-01           NaN\n",
            "1949-04-01           NaN\n",
            "1949-05-01           NaN\n",
            "                 ...    \n",
            "1960-08-01    463.333333\n",
            "1960-09-01    467.083333\n",
            "1960-10-01    471.583333\n",
            "1960-11-01    473.916667\n",
            "1960-12-01    476.166667\n",
            "Name: #Passengers, Length: 144, dtype: float64\n"
          ],
          "name": "stdout"
        }
      ]
    },
    {
      "cell_type": "code",
      "metadata": {
        "id": "rMPped5mDMSQ",
        "colab_type": "code",
        "colab": {
          "base_uri": "https://localhost:8080/",
          "height": 51
        },
        "outputId": "197e067c-6195-4c79-bfb1-4971a71034b9"
      },
      "source": [
        "# exemplo, fazendo manual em duas datas, pegando duas faixas de 12 meses e tirando a media\n",
        "print(ts[0:12].mean())\n",
        "print(ts[1:13].mean())"
      ],
      "execution_count": 10,
      "outputs": [
        {
          "output_type": "stream",
          "text": [
            "126.66666666666667\n",
            "126.91666666666667\n"
          ],
          "name": "stdout"
        }
      ]
    },
    {
      "cell_type": "code",
      "metadata": {
        "id": "qGmAJoqSDhPR",
        "colab_type": "code",
        "colab": {
          "base_uri": "https://localhost:8080/",
          "height": 265
        },
        "outputId": "f9078ae4-281a-41f0-c5b7-c8db6ffa5005"
      },
      "source": [
        "# visualizando a media movel e dados\n",
        "plt.plot(ts)\n",
        "plt.plot(media_movel, color='red')\n",
        "plt.show()"
      ],
      "execution_count": 11,
      "outputs": [
        {
          "output_type": "display_data",
          "data": {
            "image/png": "[encoded data removed]",
            "text/plain": [
              "<Figure size 432x288 with 1 Axes>"
            ]
          },
          "metadata": {
            "tags": []
          }
        }
      ]
    },
    {
      "cell_type": "code",
      "metadata": {
        "id": "w9xJPKsVD1My",
        "colab_type": "code",
        "colab": {}
      },
      "source": [
        "# faz a previsao com a media movel, como nao tem biblioteca especifica pra isso , e feito a codificação na mao\n",
        "\n",
        "previsoes = []\n",
        "for i in range(1, 13):\n",
        "  superior = len(media_movel) - i\n",
        "  inferior = superior - 11\n",
        "  #print(inferior)\n",
        "  #print(superior)\n",
        "  #print('----------')\n",
        "  previsoes.append(media_movel[inferior:superior].mean())"
      ],
      "execution_count": 0,
      "outputs": []
    },
    {
      "cell_type": "code",
      "metadata": {
        "id": "kAY0iZsREl57",
        "colab_type": "code",
        "colab": {
          "base_uri": "https://localhost:8080/",
          "height": 34
        },
        "outputId": "b2f10b50-1360-4738-e582-aca9ccf4164a"
      },
      "source": [
        "# invertendo os valores\n",
        "previsoes = previsoes[::-1]\n",
        "print(previsoes)\n",
        "\n"
      ],
      "execution_count": 16,
      "outputs": [
        {
          "output_type": "stream",
          "text": [
            "[405.50757575757575, 409.90909090909093, 414.34848484848493, 418.52272727272725, 422.75757575757575, 427.1060606060606, 431.5, 436.04545454545456, 440.49999999999994, 444.9318181818181, 449.3787878787878, 453.52272727272737]\n"
          ],
          "name": "stdout"
        }
      ]
    },
    {
      "cell_type": "code",
      "metadata": {
        "id": "5RX5sSzVE1kZ",
        "colab_type": "code",
        "colab": {
          "base_uri": "https://localhost:8080/",
          "height": 265
        },
        "outputId": "c1bc4956-12b6-4452-da85-f88a38912a56"
      },
      "source": [
        "# visualizando\n",
        "plt.plot(previsoes)\n",
        "plt.show()"
      ],
      "execution_count": 17,
      "outputs": [
        {
          "output_type": "display_data",
          "data": {
            "image/png": "[encoded data removed]",
            "text/plain": [
              "<Figure size 432x288 with 1 Axes>"
            ]
          },
          "metadata": {
            "tags": []
          }
        }
      ]
    },
    {
      "cell_type": "markdown",
      "metadata": {
        "id": "EdYYyplEFIMO",
        "colab_type": "text"
      },
      "source": [
        "**Usando o ARIMA**"
      ]
    },
    {
      "cell_type": "code",
      "metadata": {
        "id": "gIiYfoX2FHkz",
        "colab_type": "code",
        "colab": {
          "base_uri": "https://localhost:8080/",
          "height": 527
        },
        "outputId": "a2b1007d-e428-4b9e-b992-622eeed7fde0"
      },
      "source": [
        "# criando o modelo\n",
        "# parametros order = numero termos auto-regressivos, numero da media movel e numero de diferenças não sazionais\n",
        "modelo = ARIMA(ts, order=(2, 1, 2))\n",
        "modelo_treinado = modelo.fit()\n",
        "print(modelo_treinado.summary())"
      ],
      "execution_count": 20,
      "outputs": [
        {
          "output_type": "stream",
          "text": [
            "/usr/local/lib/python3.6/dist-packages/statsmodels/tsa/base/tsa_model.py:165: ValueWarning: No frequency information was provided, so inferred frequency MS will be used.\n",
            "  % freq, ValueWarning)\n",
            "/usr/local/lib/python3.6/dist-packages/statsmodels/tsa/base/tsa_model.py:165: ValueWarning: No frequency information was provided, so inferred frequency MS will be used.\n",
            "  % freq, ValueWarning)\n"
          ],
          "name": "stderr"
        },
        {
          "output_type": "stream",
          "text": [
            "                             ARIMA Model Results                              \n",
            "==============================================================================\n",
            "Dep. Variable:          D.#Passengers   No. Observations:                  143\n",
            "Model:                 ARIMA(2, 1, 2)   Log Likelihood                -666.022\n",
            "Method:                       css-mle   S.D. of innovations             24.716\n",
            "Date:                Fri, 20 Mar 2020   AIC                           1344.043\n",
            "Time:                        17:56:49   BIC                           1361.821\n",
            "Sample:                    02-01-1949   HQIC                          1351.267\n",
            "                         - 12-01-1960                                         \n",
            "=======================================================================================\n",
            "                          coef    std err          z      P>|z|      [0.025      0.975]\n",
            "---------------------------------------------------------------------------------------\n",
            "const                   2.5311      0.708      3.574      0.000       1.143       3.919\n",
            "ar.L1.D.#Passengers     1.6477      0.033     49.933      0.000       1.583       1.712\n",
            "ar.L2.D.#Passengers    -0.9094      0.033    -27.880      0.000      -0.973      -0.845\n",
            "ma.L1.D.#Passengers    -1.9097      0.065    -29.503      0.000      -2.037      -1.783\n",
            "ma.L2.D.#Passengers     0.9995      0.068     14.807      0.000       0.867       1.132\n",
            "                                    Roots                                    \n",
            "=============================================================================\n",
            "                  Real          Imaginary           Modulus         Frequency\n",
            "-----------------------------------------------------------------------------\n",
            "AR.1            0.9059           -0.5281j            1.0486           -0.0840\n",
            "AR.2            0.9059           +0.5281j            1.0486            0.0840\n",
            "MA.1            0.9553           -0.2965j            1.0002           -0.0479\n",
            "MA.2            0.9553           +0.2965j            1.0002            0.0479\n",
            "-----------------------------------------------------------------------------\n"
          ],
          "name": "stdout"
        }
      ]
    },
    {
      "cell_type": "code",
      "metadata": {
        "id": "yATIP4O1GWp7",
        "colab_type": "code",
        "colab": {
          "base_uri": "https://localhost:8080/",
          "height": 68
        },
        "outputId": "2859eb59-78c6-424b-a8d0-ed8741a7909b"
      },
      "source": [
        "# fazendo a previsao\n",
        "previsoes = modelo_treinado.forecast(steps = 12)\n",
        "print(previsoes[0])"
      ],
      "execution_count": 22,
      "outputs": [
        {
          "output_type": "stream",
          "text": [
            "[433.13422182 450.91903911 479.85428659 512.02032366 539.36963887\n",
            " 555.8442862  558.78084857 549.29983462 531.66962729 511.90433422\n",
            " 496.03186256 488.51530253]\n"
          ],
          "name": "stdout"
        }
      ]
    },
    {
      "cell_type": "code",
      "metadata": {
        "id": "zsDfdgcQGm_S",
        "colab_type": "code",
        "colab": {
          "base_uri": "https://localhost:8080/",
          "height": 541
        },
        "outputId": "49e7f740-3f64-40e7-f329-ffe61c31ef38"
      },
      "source": [
        "# visualizando\n",
        "eixo = ts.plot()\n",
        "\n",
        "modelo_treinado.plot_predict('1960-01-01', '1962-01-01', ax = eixo, plot_insample=True)"
      ],
      "execution_count": 23,
      "outputs": [
        {
          "output_type": "execute_result",
          "data": {
            "image/png": "[encoded data removed]",
            "text/plain": [
              "<Figure size 432x288 with 1 Axes>"
            ]
          },
          "metadata": {
            "tags": []
          },
          "execution_count": 23
        },
        {
          "output_type": "display_data",
          "data": {
            "image/png": "[encoded data removed]",
            "text/plain": [
              "<Figure size 432x288 with 1 Axes>"
            ]
          },
          "metadata": {
            "tags": []
          }
        }
      ]
    },
    {
      "cell_type": "markdown",
      "metadata": {
        "id": "jZxS1VFEOcsa",
        "colab_type": "text"
      },
      "source": [
        "**Usando o auto arima**"
      ]
    },
    {
      "cell_type": "code",
      "metadata": {
        "id": "lxO11Y8POcRD",
        "colab_type": "code",
        "colab": {
          "base_uri": "https://localhost:8080/",
          "height": 1000
        },
        "outputId": "76c5140a-9f5c-4255-ddac-bf3ffd77efce"
      },
      "source": [
        "modelo_auto = auto_arima(ts, m = 12, seasonal=True, trace=True)"
      ],
      "execution_count": 27,
      "outputs": [
        {
          "output_type": "stream",
          "text": [
            "/usr/local/lib/python3.6/dist-packages/statsmodels/tsa/statespace/sarimax.py:981: UserWarning: Non-stationary starting seasonal autoregressive Using zeros as starting parameters.\n",
            "  warn('Non-stationary starting seasonal autoregressive'\n",
            "/usr/local/lib/python3.6/dist-packages/statsmodels/base/model.py:512: ConvergenceWarning: Maximum Likelihood optimization failed to converge. Check mle_retvals\n",
            "  \"Check mle_retvals\", ConvergenceWarning)\n",
            "/usr/local/lib/python3.6/dist-packages/statsmodels/tsa/statespace/sarimax.py:981: UserWarning: Non-stationary starting seasonal autoregressive Using zeros as starting parameters.\n",
            "  warn('Non-stationary starting seasonal autoregressive'\n"
          ],
          "name": "stderr"
        },
        {
          "output_type": "stream",
          "text": [
            "Fit ARIMA: order=(2, 1, 2) seasonal_order=(1, 0, 1, 12); AIC=1154.503, BIC=1178.206, Fit time=1.648 seconds\n",
            "Fit ARIMA: order=(0, 1, 0) seasonal_order=(0, 0, 0, 12); AIC=1415.278, BIC=1421.203, Fit time=0.014 seconds\n",
            "Fit ARIMA: order=(1, 1, 0) seasonal_order=(1, 0, 0, 12); AIC=1145.852, BIC=1157.703, Fit time=0.522 seconds\n",
            "Fit ARIMA: order=(0, 1, 1) seasonal_order=(0, 0, 1, 12); AIC=1299.259, BIC=1311.110, Fit time=0.420 seconds\n",
            "Fit ARIMA: order=(1, 1, 0) seasonal_order=(0, 0, 0, 12); AIC=1403.473, BIC=1412.361, Fit time=0.058 seconds\n"
          ],
          "name": "stdout"
        },
        {
          "output_type": "stream",
          "text": [
            "/usr/local/lib/python3.6/dist-packages/statsmodels/tsa/statespace/sarimax.py:981: UserWarning: Non-stationary starting seasonal autoregressive Using zeros as starting parameters.\n",
            "  warn('Non-stationary starting seasonal autoregressive'\n"
          ],
          "name": "stderr"
        },
        {
          "output_type": "stream",
          "text": [
            "Fit ARIMA: order=(1, 1, 0) seasonal_order=(2, 0, 0, 12); AIC=1146.202, BIC=1161.016, Fit time=1.615 seconds\n"
          ],
          "name": "stdout"
        },
        {
          "output_type": "stream",
          "text": [
            "/usr/local/lib/python3.6/dist-packages/statsmodels/tsa/statespace/sarimax.py:981: UserWarning: Non-stationary starting seasonal autoregressive Using zeros as starting parameters.\n",
            "  warn('Non-stationary starting seasonal autoregressive'\n"
          ],
          "name": "stderr"
        },
        {
          "output_type": "stream",
          "text": [
            "Fit ARIMA: order=(1, 1, 0) seasonal_order=(1, 0, 1, 12); AIC=1146.630, BIC=1161.444, Fit time=0.808 seconds\n"
          ],
          "name": "stdout"
        },
        {
          "output_type": "stream",
          "text": [
            "/usr/local/lib/python3.6/dist-packages/statsmodels/tsa/statespace/sarimax.py:981: UserWarning: Non-stationary starting seasonal autoregressive Using zeros as starting parameters.\n",
            "  warn('Non-stationary starting seasonal autoregressive'\n"
          ],
          "name": "stderr"
        },
        {
          "output_type": "stream",
          "text": [
            "Fit ARIMA: order=(1, 1, 0) seasonal_order=(2, 0, 1, 12); AIC=1146.563, BIC=1164.340, Fit time=1.934 seconds\n"
          ],
          "name": "stdout"
        },
        {
          "output_type": "stream",
          "text": [
            "/usr/local/lib/python3.6/dist-packages/statsmodels/tsa/statespace/sarimax.py:981: UserWarning: Non-stationary starting seasonal autoregressive Using zeros as starting parameters.\n",
            "  warn('Non-stationary starting seasonal autoregressive'\n"
          ],
          "name": "stderr"
        },
        {
          "output_type": "stream",
          "text": [
            "Fit ARIMA: order=(0, 1, 0) seasonal_order=(1, 0, 0, 12); AIC=1152.734, BIC=1161.623, Fit time=0.388 seconds\n"
          ],
          "name": "stdout"
        },
        {
          "output_type": "stream",
          "text": [
            "/usr/local/lib/python3.6/dist-packages/statsmodels/tsa/statespace/sarimax.py:981: UserWarning: Non-stationary starting seasonal autoregressive Using zeros as starting parameters.\n",
            "  warn('Non-stationary starting seasonal autoregressive'\n"
          ],
          "name": "stderr"
        },
        {
          "output_type": "stream",
          "text": [
            "Fit ARIMA: order=(2, 1, 0) seasonal_order=(1, 0, 0, 12); AIC=1147.809, BIC=1162.624, Fit time=0.774 seconds\n"
          ],
          "name": "stdout"
        },
        {
          "output_type": "stream",
          "text": [
            "/usr/local/lib/python3.6/dist-packages/statsmodels/tsa/statespace/sarimax.py:981: UserWarning: Non-stationary starting seasonal autoregressive Using zeros as starting parameters.\n",
            "  warn('Non-stationary starting seasonal autoregressive'\n",
            "/usr/local/lib/python3.6/dist-packages/statsmodels/base/model.py:512: ConvergenceWarning: Maximum Likelihood optimization failed to converge. Check mle_retvals\n",
            "  \"Check mle_retvals\", ConvergenceWarning)\n",
            "/usr/local/lib/python3.6/dist-packages/statsmodels/tsa/statespace/sarimax.py:981: UserWarning: Non-stationary starting seasonal autoregressive Using zeros as starting parameters.\n",
            "  warn('Non-stationary starting seasonal autoregressive'\n"
          ],
          "name": "stderr"
        },
        {
          "output_type": "stream",
          "text": [
            "Fit ARIMA: order=(1, 1, 1) seasonal_order=(1, 0, 0, 12); AIC=1137.810, BIC=1152.624, Fit time=1.276 seconds\n",
            "Fit ARIMA: order=(2, 1, 2) seasonal_order=(1, 0, 0, 12); AIC=1148.399, BIC=1169.139, Fit time=1.372 seconds\n",
            "Fit ARIMA: order=(1, 1, 1) seasonal_order=(0, 0, 0, 12); AIC=1396.121, BIC=1407.972, Fit time=0.165 seconds\n"
          ],
          "name": "stdout"
        },
        {
          "output_type": "stream",
          "text": [
            "/usr/local/lib/python3.6/dist-packages/statsmodels/tsa/statespace/sarimax.py:981: UserWarning: Non-stationary starting seasonal autoregressive Using zeros as starting parameters.\n",
            "  warn('Non-stationary starting seasonal autoregressive'\n",
            "/usr/local/lib/python3.6/dist-packages/statsmodels/base/model.py:512: ConvergenceWarning: Maximum Likelihood optimization failed to converge. Check mle_retvals\n",
            "  \"Check mle_retvals\", ConvergenceWarning)\n",
            "/usr/local/lib/python3.6/dist-packages/statsmodels/tsa/statespace/sarimax.py:981: UserWarning: Non-stationary starting seasonal autoregressive Using zeros as starting parameters.\n",
            "  warn('Non-stationary starting seasonal autoregressive'\n"
          ],
          "name": "stderr"
        },
        {
          "output_type": "stream",
          "text": [
            "Fit ARIMA: order=(1, 1, 1) seasonal_order=(2, 0, 0, 12); AIC=1138.005, BIC=1155.783, Fit time=2.968 seconds\n",
            "Fit ARIMA: order=(1, 1, 1) seasonal_order=(1, 0, 1, 12); AIC=1148.607, BIC=1166.384, Fit time=1.057 seconds\n"
          ],
          "name": "stdout"
        },
        {
          "output_type": "stream",
          "text": [
            "/usr/local/lib/python3.6/dist-packages/statsmodels/tsa/statespace/sarimax.py:981: UserWarning: Non-stationary starting seasonal autoregressive Using zeros as starting parameters.\n",
            "  warn('Non-stationary starting seasonal autoregressive'\n",
            "/usr/local/lib/python3.6/dist-packages/statsmodels/base/model.py:512: ConvergenceWarning: Maximum Likelihood optimization failed to converge. Check mle_retvals\n",
            "  \"Check mle_retvals\", ConvergenceWarning)\n",
            "/usr/local/lib/python3.6/dist-packages/statsmodels/tsa/statespace/sarimax.py:981: UserWarning: Non-stationary starting seasonal autoregressive Using zeros as starting parameters.\n",
            "  warn('Non-stationary starting seasonal autoregressive'\n"
          ],
          "name": "stderr"
        },
        {
          "output_type": "stream",
          "text": [
            "Fit ARIMA: order=(1, 1, 1) seasonal_order=(2, 0, 1, 12); AIC=1148.554, BIC=1169.294, Fit time=3.989 seconds\n",
            "Fit ARIMA: order=(0, 1, 1) seasonal_order=(1, 0, 0, 12); AIC=1146.153, BIC=1158.004, Fit time=0.535 seconds\n"
          ],
          "name": "stdout"
        },
        {
          "output_type": "stream",
          "text": [
            "/usr/local/lib/python3.6/dist-packages/statsmodels/tsa/statespace/sarimax.py:981: UserWarning: Non-stationary starting seasonal autoregressive Using zeros as starting parameters.\n",
            "  warn('Non-stationary starting seasonal autoregressive'\n"
          ],
          "name": "stderr"
        },
        {
          "output_type": "stream",
          "text": [
            "Fit ARIMA: order=(2, 1, 1) seasonal_order=(1, 0, 0, 12); AIC=1142.509, BIC=1160.287, Fit time=1.086 seconds\n"
          ],
          "name": "stdout"
        },
        {
          "output_type": "stream",
          "text": [
            "/usr/local/lib/python3.6/dist-packages/statsmodels/tsa/statespace/sarimax.py:981: UserWarning: Non-stationary starting seasonal autoregressive Using zeros as starting parameters.\n",
            "  warn('Non-stationary starting seasonal autoregressive'\n"
          ],
          "name": "stderr"
        },
        {
          "output_type": "stream",
          "text": [
            "Fit ARIMA: order=(1, 1, 2) seasonal_order=(1, 0, 0, 12); AIC=1144.105, BIC=1161.882, Fit time=1.523 seconds\n",
            "Total fit time: 22.178 seconds\n"
          ],
          "name": "stdout"
        }
      ]
    },
    {
      "cell_type": "code",
      "metadata": {
        "id": "YBcjscfAO1Jt",
        "colab_type": "code",
        "colab": {
          "base_uri": "https://localhost:8080/",
          "height": 459
        },
        "outputId": "59198da0-78b4-4b0a-f0e6-be9203ee5bb2"
      },
      "source": [
        "print(modelo_auto.summary())"
      ],
      "execution_count": 28,
      "outputs": [
        {
          "output_type": "stream",
          "text": [
            "                                 Statespace Model Results                                 \n",
            "==========================================================================================\n",
            "Dep. Variable:                                  y   No. Observations:                  144\n",
            "Model:             SARIMAX(1, 1, 1)x(1, 0, 0, 12)   Log Likelihood                -563.905\n",
            "Date:                            Fri, 20 Mar 2020   AIC                           1137.810\n",
            "Time:                                    18:34:07   BIC                           1152.624\n",
            "Sample:                                         0   HQIC                          1143.830\n",
            "                                            - 144                                         \n",
            "Covariance Type:                              opg                                         \n",
            "==============================================================================\n",
            "                 coef    std err          z      P>|z|      [0.025      0.975]\n",
            "------------------------------------------------------------------------------\n",
            "intercept      0.0325      0.018      1.834      0.067      -0.002       0.067\n",
            "ar.L1          0.7661      0.070     10.937      0.000       0.629       0.903\n",
            "ma.L1         -0.9995      0.203     -4.920      0.000      -1.398      -0.601\n",
            "ar.S.L12       0.9462      0.024     39.168      0.000       0.899       0.994\n",
            "sigma2       130.3884     24.266      5.373      0.000      82.828     177.949\n",
            "===================================================================================\n",
            "Ljung-Box (Q):                       56.93   Jarque-Bera (JB):                23.89\n",
            "Prob(Q):                              0.04   Prob(JB):                         0.00\n",
            "Heteroskedasticity (H):               3.37   Skew:                             0.37\n",
            "Prob(H) (two-sided):                  0.00   Kurtosis:                         4.86\n",
            "===================================================================================\n",
            "\n",
            "Warnings:\n",
            "[1] Covariance matrix calculated using the outer product of gradients (complex-step).\n"
          ],
          "name": "stdout"
        }
      ]
    },
    {
      "cell_type": "code",
      "metadata": {
        "id": "AJueh5_2PFsM",
        "colab_type": "code",
        "colab": {
          "base_uri": "https://localhost:8080/",
          "height": 68
        },
        "outputId": "7cf8e471-a07e-49f4-eeab-aab98b80fa95"
      },
      "source": [
        "proximos_12 = modelo_auto.predict(n_periods = 12)\n",
        "print(proximos_12)"
      ],
      "execution_count": 30,
      "outputs": [
        {
          "output_type": "stream",
          "text": [
            "[445.00041444 421.69350943 449.21004261 489.76610859 500.83214014\n",
            " 560.97791677 643.73888852 628.97232949 536.56463237 492.37012385\n",
            " 425.43530882 465.39394574]\n"
          ],
          "name": "stdout"
        }
      ]
    }
  ]
}
