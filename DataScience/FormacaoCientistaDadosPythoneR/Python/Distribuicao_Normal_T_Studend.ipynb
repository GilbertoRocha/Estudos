{
  "nbformat": 4,
  "nbformat_minor": 0,
  "metadata": {
    "colab": {
      "name": "Distribuicao_Normal_T_Studend.ipynb",
      "provenance": [],
      "collapsed_sections": [],
      "authorship_tag": "ABX9TyNmiFQE2CI1hJsE7V2nS2Qd",
      "include_colab_link": true
    },
    "kernelspec": {
      "name": "python3",
      "display_name": "Python 3"
    }
  },
  "cells": [
    {
      "cell_type": "markdown",
      "metadata": {
        "id": "view-in-github",
        "colab_type": "text"
      },
      "source": [
        "<a href=\"https://colab.research.google.com/github/GilbertoRocha/Estudos/blob/master/DataScience/FormacaoCientistaDadosPythoneR/Python/Distribuicao_Normal_T_Studend.ipynb\" target=\"_parent\"><img src=\"https://colab.research.google.com/assets/colab-badge.svg\" alt=\"Open In Colab\"/></a>"
      ]
    },
    {
      "cell_type": "markdown",
      "metadata": {
        "id": "T4ZaS1E3DtiZ",
        "colab_type": "text"
      },
      "source": [
        "A ditribuição T Student é eficiente para fazer o teste de hipotese em datasets com menos de 30 registros. Quando possuir um dataset maior, pode-se fazer o teste de hipotese da distribuição normal\n",
        "\n",
        "Aqui é levantando o valor de t, aonde ele será comparado com a tabela  de probabilidades \"t studente\".\n",
        "\n",
        "O calculo para levantar o t é o seguinte:\n",
        "\n",
        "**t = (X - U)/(S/sqrt(n))**\n",
        "\n",
        "Aonde:\n",
        "\n",
        "X = Hipotese que se quer testar\n",
        "\n",
        "U = media da populacao\n",
        "\n",
        "S = Desvio padrao da amostra\n",
        "\n",
        "n = tamanho da amostra\n",
        "\n",
        "t0 = Grau de liberdade ( tamanho de amostra subtraido 1)\n",
        "\n",
        "sqrt = raiz quadrada\n",
        "\n",
        "\n",
        "\n",
        "\n",
        "\n",
        "**Caso 1**\n",
        "\n",
        "verificar os casos aonde um cientista de dados ganharia menos que 80 a hora, sendo que a media e 75\n",
        "\n",
        "media = 75\n",
        "\n",
        "amostra = 9\n",
        "\n",
        "desvio padrao = 10\n",
        "\n",
        "hipotese = menor que 80\n",
        "\n",
        "\n"
      ]
    },
    {
      "cell_type": "code",
      "metadata": {
        "id": "5XP31TT-DLiK",
        "colab_type": "code",
        "colab": {}
      },
      "source": [
        "# importacao das bibliotecas\n",
        "from scipy.stats import t\n",
        "import math"
      ],
      "execution_count": 0,
      "outputs": []
    },
    {
      "cell_type": "code",
      "metadata": {
        "id": "HkpOsDJgHluJ",
        "colab_type": "code",
        "outputId": "82377f41-2149-4663-c9aa-8533c34d2841",
        "colab": {
          "base_uri": "https://localhost:8080/",
          "height": 34
        }
      },
      "source": [
        "# calculado o valor de T\n",
        "prob = (80 - 75)/(10/math.sqrt(9))\n",
        "print(prob)"
      ],
      "execution_count": 11,
      "outputs": [
        {
          "output_type": "stream",
          "text": [
            "1.5\n"
          ],
          "name": "stdout"
        }
      ]
    },
    {
      "cell_type": "code",
      "metadata": {
        "id": "R4tovrD9HKhu",
        "colab_type": "code",
        "colab": {
          "base_uri": "https://localhost:8080/",
          "height": 34
        },
        "outputId": "8aaa2993-e36e-4004-83ac-6c41df313d92"
      },
      "source": [
        "#  Qual a probalilidade de selecionar um cientista de dados e o salario ser menor que R$ 80 por hora\n",
        "print(t.cdf(prob, 8))"
      ],
      "execution_count": 12,
      "outputs": [
        {
          "output_type": "stream",
          "text": [
            "0.9139983540240443\n"
          ],
          "name": "stdout"
        }
      ]
    },
    {
      "cell_type": "code",
      "metadata": {
        "id": "dcYXg7RJJKWg",
        "colab_type": "code",
        "colab": {
          "base_uri": "https://localhost:8080/",
          "height": 34
        },
        "outputId": "04e3dc33-9e54-44da-b336-84f7a9a8aceb"
      },
      "source": [
        "# Qual a probabilidade do salario ser maior que 80?\n",
        "print(t.sf(prob, 8))"
      ],
      "execution_count": 13,
      "outputs": [
        {
          "output_type": "stream",
          "text": [
            "0.08600164597595565\n"
          ],
          "name": "stdout"
        }
      ]
    }
  ]
}